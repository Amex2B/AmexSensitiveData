{
 "cells": [
  {
   "cell_type": "code",
   "execution_count": 1,
   "metadata": {},
   "outputs": [],
   "source": [
    "# Import necessary packages\n",
    "import torch\n",
    "import pandas as pd"
   ]
  },
  {
   "cell_type": "code",
   "execution_count": 2,
   "metadata": {},
   "outputs": [
    {
     "name": "stdout",
     "output_type": "stream",
     "text": [
      "WARNING:tensorflow:From c:\\Users\\JoyChang\\anaconda3\\Lib\\site-packages\\tf_keras\\src\\losses.py:2976: The name tf.losses.sparse_softmax_cross_entropy is deprecated. Please use tf.compat.v1.losses.sparse_softmax_cross_entropy instead.\n",
      "\n"
     ]
    }
   ],
   "source": [
    "# Use a pipeline as a high-level helper\n",
    "from transformers import pipeline\n",
    "\n",
    "pipe = pipeline(\"token-classification\", model=\"lakshyakh93/deberta_finetuned_pii\")"
   ]
  },
  {
   "cell_type": "code",
   "execution_count": 3,
   "metadata": {},
   "outputs": [
    {
     "name": "stdout",
     "output_type": "stream",
     "text": [
      "[{'entity': 'I-FULLNAME', 'score': 0.46424457, 'index': 2, 'word': 'ĠDoe', 'start': 4, 'end': 8}, {'entity': 'B-STREETADDRESS', 'score': 0.88947034, 'index': 5, 'word': 'Ġ123', 'start': 17, 'end': 21}, {'entity': 'I-STREETADDRESS', 'score': 0.9810363, 'index': 6, 'word': 'ĠElm', 'start': 21, 'end': 25}, {'entity': 'I-STREETADDRESS', 'score': 0.97596735, 'index': 7, 'word': 'ĠSt', 'start': 25, 'end': 28}]\n"
     ]
    }
   ],
   "source": [
    "result = pipe('John Doe lives at 123 Elm St.')\n",
    "print(result)"
   ]
  },
  {
   "cell_type": "code",
   "execution_count": 4,
   "metadata": {},
   "outputs": [],
   "source": [
    "# Load model directly\n",
    "from transformers import AutoTokenizer, AutoModelForTokenClassification\n",
    "\n",
    "tokenizer = AutoTokenizer.from_pretrained(\"lakshyakh93/deberta_finetuned_pii\")\n",
    "model = AutoModelForTokenClassification.from_pretrained(\"lakshyakh93/deberta_finetuned_pii\")"
   ]
  },
  {
   "cell_type": "code",
   "execution_count": 5,
   "metadata": {},
   "outputs": [
    {
     "data": {
      "text/plain": [
       "TokenClassifierOutput(loss=None, logits=tensor([[[ 0.0527,  0.3155,  0.4790,  ..., -0.0416, -0.3986, -1.0505],\n",
       "         [ 2.1610,  0.5228,  6.3309,  ...,  2.1777, -0.5386, -2.6604],\n",
       "         [ 0.5061,  0.7269,  3.7811,  ...,  2.9378, -0.1434, -2.4877],\n",
       "         ...,\n",
       "         [ 0.5294, -0.1343, -0.6034,  ..., -0.4739, -0.3561, -1.2317],\n",
       "         [ 0.8860,  0.8328, -0.1042,  ...,  1.0760, -1.8587, -4.4006],\n",
       "         [-0.1141,  0.4109,  0.5679,  ..., -0.1445, -0.4688, -1.5732]]],\n",
       "       grad_fn=<ViewBackward0>), hidden_states=None, attentions=None)"
      ]
     },
     "execution_count": 5,
     "metadata": {},
     "output_type": "execute_result"
    }
   ],
   "source": [
    "inputs = tokenizer('John Doe lives at 123 Elm St.', return_tensors='pt')\n",
    "outputs = model(**inputs)\n",
    "outputs"
   ]
  },
  {
   "cell_type": "code",
   "execution_count": 6,
   "metadata": {},
   "outputs": [],
   "source": [
    "import torch"
   ]
  },
  {
   "cell_type": "code",
   "execution_count": 7,
   "metadata": {},
   "outputs": [
    {
     "data": {
      "text/plain": [
       "[['O',\n",
       "  'O',\n",
       "  'I-FULLNAME',\n",
       "  'O',\n",
       "  'O',\n",
       "  'B-STREETADDRESS',\n",
       "  'I-STREETADDRESS',\n",
       "  'I-STREETADDRESS',\n",
       "  'O',\n",
       "  'O']]"
      ]
     },
     "execution_count": 7,
     "metadata": {},
     "output_type": "execute_result"
    }
   ],
   "source": [
    "# Example logits tensor from your output\n",
    "\n",
    "# Convert logits to probabilities\n",
    "probs = torch.nn.functional.softmax(outputs.logits, dim=-1)\n",
    "\n",
    "# Get predicted class indices\n",
    "classes = torch.argmax(probs, dim=-1)\n",
    "\n",
    "# Map the class indices to labels\n",
    "labels = [[model.config.id2label[idx.item()] for idx in sequence] for sequence in classes]\n",
    "labels"
   ]
  },
  {
   "cell_type": "markdown",
   "metadata": {},
   "source": [
    "O - Outside"
   ]
  },
  {
   "cell_type": "code",
   "execution_count": 8,
   "metadata": {},
   "outputs": [
    {
     "data": {
      "text/html": [
       "<div>\n",
       "<style scoped>\n",
       "    .dataframe tbody tr th:only-of-type {\n",
       "        vertical-align: middle;\n",
       "    }\n",
       "\n",
       "    .dataframe tbody tr th {\n",
       "        vertical-align: top;\n",
       "    }\n",
       "\n",
       "    .dataframe thead th {\n",
       "        text-align: right;\n",
       "    }\n",
       "</style>\n",
       "<table border=\"1\" class=\"dataframe\">\n",
       "  <thead>\n",
       "    <tr style=\"text-align: right;\">\n",
       "      <th></th>\n",
       "      <th>text</th>\n",
       "      <th>tokens</th>\n",
       "      <th>predicted_labels</th>\n",
       "    </tr>\n",
       "  </thead>\n",
       "  <tbody>\n",
       "    <tr>\n",
       "      <th>0</th>\n",
       "      <td>Legal notice from Anahi8 claiming breach of co...</td>\n",
       "      <td>[ĠLegal, Ġnotice, Ġfrom, ĠAn, ahi, 8, Ġclaimin...</td>\n",
       "      <td>[O, O, O, O, B-USERNAME, B-USERNAME, I-USERNAM...</td>\n",
       "    </tr>\n",
       "    <tr>\n",
       "      <th>1</th>\n",
       "      <td>Medical intervention and occupational therapy ...</td>\n",
       "      <td>[ĠMedical, Ġintervention, Ġand, Ġoccupational,...</td>\n",
       "      <td>[O, O, O, O, O, O, O, O, B-JOBAREA, O, O, O, O...</td>\n",
       "    </tr>\n",
       "    <tr>\n",
       "      <th>2</th>\n",
       "      <td>Legal notice from Anahi8 claiming breach of co...</td>\n",
       "      <td>[ĠLegal, Ġnotice, Ġfrom, ĠAn, ahi, 8, Ġclaimin...</td>\n",
       "      <td>[O, O, O, O, B-USERNAME, B-USERNAME, I-USERNAM...</td>\n",
       "    </tr>\n",
       "  </tbody>\n",
       "</table>\n",
       "</div>"
      ],
      "text/plain": [
       "                                                text  \\\n",
       "0  Legal notice from Anahi8 claiming breach of co...   \n",
       "1  Medical intervention and occupational therapy ...   \n",
       "2  Legal notice from Anahi8 claiming breach of co...   \n",
       "\n",
       "                                              tokens  \\\n",
       "0  [ĠLegal, Ġnotice, Ġfrom, ĠAn, ahi, 8, Ġclaimin...   \n",
       "1  [ĠMedical, Ġintervention, Ġand, Ġoccupational,...   \n",
       "2  [ĠLegal, Ġnotice, Ġfrom, ĠAn, ahi, 8, Ġclaimin...   \n",
       "\n",
       "                                    predicted_labels  \n",
       "0  [O, O, O, O, B-USERNAME, B-USERNAME, I-USERNAM...  \n",
       "1  [O, O, O, O, O, O, O, O, B-JOBAREA, O, O, O, O...  \n",
       "2  [O, O, O, O, B-USERNAME, B-USERNAME, I-USERNAM...  "
      ]
     },
     "execution_count": 8,
     "metadata": {},
     "output_type": "execute_result"
    }
   ],
   "source": [
    "# Try the model with text in the pii-masking-200k dataset\n",
    "texts = [\n",
    "    'Legal notice from Anahi8 claiming breach of contract received today. Please review facts on case. Reply to this Miller.White@hotmail.com or contact our office at 003.765 1989 for an urgent meeting.',\n",
    "    'Medical intervention and occupational therapy can help Accountability workers significantly. For appointments call us at +40-724-062 4764.',\n",
    "    'Legal notice from Anahi8 claiming breach of contract received today. Please review facts on case. Reply to this Miller.White@hotmail.com or contact our office at 003.765 1989 for an urgent meeting.'\n",
    "]\n",
    "\n",
    "# Tokenize the input text\n",
    "inputs = tokenizer(texts, return_tensors=\"pt\", padding=True, truncation=True)\n",
    "\n",
    "# Make predictions\n",
    "with torch.no_grad():\n",
    "    outputs = model(**inputs)\n",
    "    logits = outputs.logits\n",
    "\n",
    "# Convert logits to predicted class indices\n",
    "predicted_classes = torch.argmax(logits, dim=-1)\n",
    "\n",
    "# Map indices to labels\n",
    "mapped_labels = [[model.config.id2label[idx.item()] for idx in sequence] for sequence in predicted_classes]\n",
    "\n",
    "# Prepare results\n",
    "results = []\n",
    "for i, text in enumerate(texts):\n",
    "    result = {\n",
    "        'text': text,\n",
    "        'tokens': tokenizer.tokenize(text),\n",
    "        'predicted_labels': mapped_labels[i]\n",
    "    }\n",
    "    results.append(result)\n",
    "\n",
    "# Save results to CSV\n",
    "df = pd.DataFrame(results)\n",
    "df"
   ]
  }
 ],
 "metadata": {
  "kernelspec": {
   "display_name": "base",
   "language": "python",
   "name": "python3"
  },
  "language_info": {
   "codemirror_mode": {
    "name": "ipython",
    "version": 3
   },
   "file_extension": ".py",
   "mimetype": "text/x-python",
   "name": "python",
   "nbconvert_exporter": "python",
   "pygments_lexer": "ipython3",
   "version": "3.11.7"
  }
 },
 "nbformat": 4,
 "nbformat_minor": 2
}

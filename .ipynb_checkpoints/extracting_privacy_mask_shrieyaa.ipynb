{
 "cells": [
  {
   "cell_type": "code",
   "execution_count": 28,
   "id": "2a36ab94",
   "metadata": {},
   "outputs": [],
   "source": [
    "import pandas as pd\n"
   ]
  },
  {
   "cell_type": "code",
   "execution_count": 29,
   "id": "0669b785",
   "metadata": {},
   "outputs": [],
   "source": [
    "df = pd.read_csv('maker_day_shrieyaa_mini_df.csv')"
   ]
  },
  {
   "cell_type": "code",
   "execution_count": 30,
   "id": "0db3cd0e",
   "metadata": {},
   "outputs": [],
   "source": [
    "def create_privacy_mask(unmasked_text, masked_text):\n",
    "    privacy_mask = {}\n",
    "    masked_pointer = 0\n",
    "    unmasked_pointer = 0\n",
    "\n",
    "    while masked_pointer < len(masked_text):\n",
    "        if masked_text[masked_pointer] == '[':\n",
    "            # Found the start of a placeholder\n",
    "            end_placeholder = masked_text.find(']', masked_pointer)\n",
    "            if end_placeholder == -1:\n",
    "                break  # Safety check if no closing bracket is found\n",
    "\n",
    "            # Extract the placeholder, e.g., [USERNAME_1]\n",
    "            placeholder = masked_text[masked_pointer:end_placeholder + 1]\n",
    "\n",
    "            # Move past the placeholder\n",
    "            masked_pointer = end_placeholder + 1\n",
    "\n",
    "            # Skip over delimiters in masked_text\n",
    "            while masked_pointer < len(masked_text) and masked_text[masked_pointer] in ' ,.:;!?':\n",
    "                masked_pointer += 1\n",
    "\n",
    "            # Identify the start position of the redacted text in unmasked_text\n",
    "            unmasked_start = unmasked_pointer\n",
    "\n",
    "            # Look for the next non-redacted segment in masked_text\n",
    "            next_marker_start = masked_text.find('[', masked_pointer)\n",
    "            if next_marker_start == -1:\n",
    "                # If no more markers, use the rest of unmasked_text\n",
    "                redacted_value = unmasked_text[unmasked_start:].strip()\n",
    "                privacy_mask[placeholder] = redacted_value\n",
    "                break  # Exit loop after processing the last redacted value\n",
    "\n",
    "            # Otherwise, extract the segment to match\n",
    "            snippet_to_match = masked_text[masked_pointer:next_marker_start].strip()\n",
    "            unmasked_end = unmasked_text.find(snippet_to_match, unmasked_start)\n",
    "\n",
    "            if unmasked_end == -1:\n",
    "                unmasked_end = len(unmasked_text)  # Use the end if snippet not found\n",
    "\n",
    "            # Extract the redacted word(s)\n",
    "            redacted_value = unmasked_text[unmasked_start:unmasked_end].strip()\n",
    "            privacy_mask[placeholder] = redacted_value\n",
    "\n",
    "            # Update the unmasked pointer\n",
    "            unmasked_pointer = unmasked_end\n",
    "        else:\n",
    "            # Move both pointers forward if not at a placeholder\n",
    "            masked_pointer += 1\n",
    "            unmasked_pointer += 1\n",
    "\n",
    "    return privacy_mask\n"
   ]
  },
  {
   "cell_type": "code",
   "execution_count": 31,
   "id": "d220cab7",
   "metadata": {},
   "outputs": [],
   "source": [
    "df['privacy_mask'] = df.apply(lambda row: create_privacy_mask(row['unmasked_text'], row['masked_text']), axis=1)\n"
   ]
  },
  {
   "cell_type": "code",
   "execution_count": 32,
   "id": "5d9bde40",
   "metadata": {},
   "outputs": [],
   "source": [
    "df.to_csv('hi5.csv', index=False)  # Replace 'updated_file.csv' with the desired output file name\n"
   ]
  },
  {
   "cell_type": "code",
   "execution_count": 33,
   "id": "d120c287",
   "metadata": {},
   "outputs": [
    {
     "name": "stdout",
     "output_type": "stream",
     "text": [
      "                                        unmasked_text  \\\n",
      "0   Rosemary.King27, do you think your experience ...   \n",
      "1   Hello, as Direct Security Assistant in Saxony,...   \n",
      "2   Safety incident reported on Funk Expressway at...   \n",
      "3   We offer telemedicine to 24408-7904 residents....   \n",
      "4   Dermatology Clinic Confirmation: Name - Austin...   \n",
      "..                                                ...   \n",
      "95  Dear Mr. Powlowski (Jacky), Regarding your rec...   \n",
      "96  I'm seeking therapy. I live in 41821-3166, my ...   \n",
      "97  As Cis woman, Mrs. Smitham, you should be awar...   \n",
      "98  Booking confirmation for the educational leade...   \n",
      "99  After attending the IP workshop, we've identif...   \n",
      "\n",
      "                                          masked_text  \\\n",
      "0   [USERNAME_1], do you think your experience as ...   \n",
      "1   Hello, as [JOBTITLE_1] in [STATE_1], you are i...   \n",
      "2   Safety incident reported on [STREET_1] at [TIM...   \n",
      "3   We offer telemedicine to [ZIPCODE_1] residents...   \n",
      "4   [ORGANIZATION_1] Confirmation: Name - [FIRSTNA...   \n",
      "..                                                ...   \n",
      "95  Dear [PREFIX_1] [LASTNAME_1] ([FIRSTNAME_1]), ...   \n",
      "96  I'm seeking [MEDICAL_1]. I live in [ZIPCODE_1]...   \n",
      "97  As [GENDER_1], [PREFIX_1] [LASTNAME_1], you sh...   \n",
      "98  Booking confirmation for the [ORGANIZATION_1]....   \n",
      "99  After attending the [ORGANIZATION_1], we've id...   \n",
      "\n",
      "                                         privacy_mask  \n",
      "0   {'[USERNAME_1]': 'Rosemary.King27,', '[JOBAREA...  \n",
      "1   {'[JOBTITLE_1]': 'Direct Security Assistant', ...  \n",
      "2   {'[STREET_1]': 'Funk Expressway', '[TIME_1]': ...  \n",
      "3   {'[ZIPCODE_1]': '24408-7904', '[PHONENUMBER_1]...  \n",
      "4   {'[ORGANIZATION_1]': 'Dermatology Clinic', '[F...  \n",
      "..                                                ...  \n",
      "95  {'[PREFIX_1]': '', '[LASTNAME_1]': 'Mr. Powlow...  \n",
      "96  {'[MEDICAL_1]': 'therapy.', '[ZIPCODE_1]': '41...  \n",
      "97  {'[GENDER_1]': '', '[PREFIX_1]': '', '[LASTNAM...  \n",
      "98  {'[ORGANIZATION_1]': 'educational leadership c...  \n",
      "99  {'[ORGANIZATION_1]': 'IP workshop,', '[JOBTITL...  \n",
      "\n",
      "[100 rows x 3 columns]\n"
     ]
    }
   ],
   "source": [
    "print(df[['unmasked_text', 'masked_text', 'privacy_mask']])\n"
   ]
  },
  {
   "cell_type": "code",
   "execution_count": null,
   "id": "e419935c",
   "metadata": {},
   "outputs": [],
   "source": []
  }
 ],
 "metadata": {
  "kernelspec": {
   "display_name": "Python 3 (ipykernel)",
   "language": "python",
   "name": "python3"
  },
  "language_info": {
   "codemirror_mode": {
    "name": "ipython",
    "version": 3
   },
   "file_extension": ".py",
   "mimetype": "text/x-python",
   "name": "python",
   "nbconvert_exporter": "python",
   "pygments_lexer": "ipython3",
   "version": "3.9.5"
  }
 },
 "nbformat": 4,
 "nbformat_minor": 5
}

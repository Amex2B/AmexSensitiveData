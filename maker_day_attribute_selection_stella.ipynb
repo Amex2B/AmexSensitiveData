{
 "cells": [
  {
   "cell_type": "code",
   "execution_count": 13,
   "id": "4245ee31-b83e-4bab-ad73-e14b7c79ecc7",
   "metadata": {},
   "outputs": [],
   "source": [
    "import os\n",
    "import pandas as pd"
   ]
  },
  {
   "cell_type": "code",
   "execution_count": 14,
   "id": "bd770a47-8347-4988-af0c-6acbc109974a",
   "metadata": {},
   "outputs": [],
   "source": [
    "filepath = os.path.join(os.getcwd(), 'data', 'extracted_tel_numbers_english.csv')\n",
    "\n",
    "# Read the CSV file using pandas\n",
    "df = pd.read_csv(filepath)"
   ]
  },
  {
   "cell_type": "code",
   "execution_count": 15,
   "id": "31da6ba6-3bdc-416e-8b71-3ab37f546233",
   "metadata": {},
   "outputs": [
    {
     "name": "stdout",
     "output_type": "stream",
     "text": [
      "                                       unmasked_text  \\\n",
      "0  Mr. Franecki, we have scheduled a learning ass...   \n",
      "1  The palliative care team is coordinating a hom...   \n",
      "2  We've updated your next appointment, Tavares. ...   \n",
      "3  Lawrence County Sports department is conductin...   \n",
      "4  Dear Ivory, Your appointment with Dr. Frami re...   \n",
      "\n",
      "                                         masked_text      phone_number  \n",
      "0  [PREFIX_1] [LASTNAME_1], we have scheduled a l...     (612).3785804  \n",
      "1  The palliative care team is coordinating a hom...    09.48-67 61 36  \n",
      "2  We've updated your next appointment, [FIRSTNAM...  +19-302 725.8274  \n",
      "3  [COUNTY_1] Sports department is conducting a p...  +97-259 289.7050  \n",
      "4  Dear [FIRSTNAME_1], Your appointment with Dr. ...     (842)-6372460  \n"
     ]
    },
    {
     "data": {
      "text/plain": [
       "(2417, 3)"
      ]
     },
     "execution_count": 15,
     "metadata": {},
     "output_type": "execute_result"
    }
   ],
   "source": [
    "print(df.head())\n",
    "df.shape"
   ]
  },
  {
   "cell_type": "code",
   "execution_count": 16,
   "id": "2a6d726f-6b4b-4607-ad96-5772cb7f1874",
   "metadata": {},
   "outputs": [
    {
     "data": {
      "text/plain": [
       "[215, 1097]"
      ]
     },
     "execution_count": 16,
     "metadata": {},
     "output_type": "execute_result"
    }
   ],
   "source": [
    "import random\n",
    "\n",
    "random.seed(123)\n",
    "stella_rand_num = random.randint(1, 2417)\n",
    "shrieyaa_rand_num = random.randint(1, 2417)\n",
    "\n",
    "[stella_rand_num, shrieyaa_rand_num] # 200-299, 1100-1199"
   ]
  },
  {
   "cell_type": "code",
   "execution_count": 29,
   "id": "d648d324-46d3-4cdf-abb5-cbc4bd606a55",
   "metadata": {},
   "outputs": [
    {
     "name": "stdout",
     "output_type": "stream",
     "text": [
      "We are on row 286\n",
      "\n",
      "On 3/23 at 3 PM, Dr. Edyth Drew Franecki will conduct an interactive session on the impact of social media on individual behavior. For inquiries, contact us at 050.0154004 or Verona_Moore28@hotmail.com.\n",
      "\n",
      "On [DATE_1] at [TIME_1], [PREFIX_1] [FIRSTNAME_1] [MIDDLENAME_1] [LASTNAME_1] will conduct an interactive session on the impact of social media on individual behavior. For inquiries, contact us at [PHONENUMBER_1] or [EMAIL_1].\n"
     ]
    },
    {
     "name": "stdin",
     "output_type": "stream",
     "text": [
      "Enter a new value for the unmasked text:  \n",
      "Enter a new value for the masked text:  \n"
     ]
    },
    {
     "name": "stdout",
     "output_type": "stream",
     "text": [
      "\n",
      "Updated Unmasked Text: On 3/23 at 3 PM, Dr. Edyth Drew Franecki will conduct an interactive session on the impact of social media on individual behavior. For inquiries, contact us at 050.0154004 or Verona_Moore28@hotmail.com.\n",
      "\n",
      "Updated Masked Text: On [DATE_1] at [TIME_1], [PREFIX_1] [FIRSTNAME_1] [MIDDLENAME_1] [LASTNAME_1] will conduct an interactive session on the impact of social media on individual behavior. For inquiries, contact us at [PHONENUMBER_1] or [EMAIL_1].\n",
      "\n",
      "We are on row 287\n",
      "\n",
      "Dear Macie, we'd like to discuss the progress of Bret in the Gifted Education Program. Can you reach us at (04)-2595-4749 or Esther41@hotmail.com?\n",
      "\n",
      "Dear [FIRSTNAME_1], we'd like to discuss the progress of [FIRSTNAME_2] in the [ORGANIZATION_1]. Can you reach us at [PHONENUMBER_1] or [EMAIL_1]?\n"
     ]
    },
    {
     "name": "stdin",
     "output_type": "stream",
     "text": [
      "Enter a new value for the unmasked text:  \n",
      "Enter a new value for the masked text:  \n"
     ]
    },
    {
     "name": "stdout",
     "output_type": "stream",
     "text": [
      "\n",
      "Updated Unmasked Text: Dear Macie, we'd like to discuss the progress of Bret in the Gifted Education Program. Can you reach us at (04)-2595-4749 or Esther41@hotmail.com?\n",
      "\n",
      "Updated Masked Text: Dear [FIRSTNAME_1], we'd like to discuss the progress of [FIRSTNAME_2] in the [ORGANIZATION_1]. Can you reach us at [PHONENUMBER_1] or [EMAIL_1]?\n",
      "\n",
      "We are on row 288\n",
      "\n",
      "I was at [76.1651,-175.3911] when I received your call 09.09 85 09.33 regarding the legal ethics conference. Thank you for bringing Corporate Integration Supervisor Joy Abernathy to discuss ethical dilemmas in our Web.\n",
      "\n",
      "I was at [NEARBYGPSCOORDINATE_1] when I received your call [PHONENUMBER_1] regarding the [ORGANIZATION_1]. Thank you for bringing [JOBTITLE_1] [FIRSTNAME_1] [LASTNAME_1] to discuss ethical dilemmas in our [JOBAREA_1].\n"
     ]
    },
    {
     "name": "stdin",
     "output_type": "stream",
     "text": [
      "Enter a new value for the unmasked text:  \n",
      "Enter a new value for the masked text:  \n"
     ]
    },
    {
     "name": "stdout",
     "output_type": "stream",
     "text": [
      "\n",
      "Updated Unmasked Text: I was at [76.1651,-175.3911] when I received your call 09.09 85 09.33 regarding the legal ethics conference. Thank you for bringing Corporate Integration Supervisor Joy Abernathy to discuss ethical dilemmas in our Web.\n",
      "\n",
      "Updated Masked Text: I was at [NEARBYGPSCOORDINATE_1] when I received your call [PHONENUMBER_1] regarding the [ORGANIZATION_1]. Thank you for bringing [JOBTITLE_1] [FIRSTNAME_1] [LASTNAME_1] to discuss ethical dilemmas in our [JOBAREA_1].\n",
      "\n",
      "We are on row 289\n",
      "\n",
      "\"Hello Transgender female, We've noticed multiple logins from your account Mozilla/5.0 (Macintosh; U; Intel Mac OS X 10_7_2)  AppleWebKit/532.2.0 (KHTML, like Gecko) Chrome/36.0.884.0 Safari/532.2.0 over the past few days. It could be a security issue, please contact us at +64-85 822-9567\"\n",
      "\n",
      "\"Hello [GENDER_1], We've noticed multiple logins from your account [USERAGENT_1] over the past few days. It could be a security issue, please contact us at [PHONENUMBER_1]\"\n"
     ]
    },
    {
     "name": "stdin",
     "output_type": "stream",
     "text": [
      "Enter a new value for the unmasked text:  \n",
      "Enter a new value for the masked text:  \n"
     ]
    },
    {
     "name": "stdout",
     "output_type": "stream",
     "text": [
      "\n",
      "Updated Unmasked Text: \"Hello Transgender female, We've noticed multiple logins from your account Mozilla/5.0 (Macintosh; U; Intel Mac OS X 10_7_2)  AppleWebKit/532.2.0 (KHTML, like Gecko) Chrome/36.0.884.0 Safari/532.2.0 over the past few days. It could be a security issue, please contact us at +64-85 822-9567\"\n",
      "\n",
      "Updated Masked Text: \"Hello [GENDER_1], We've noticed multiple logins from your account [USERAGENT_1] over the past few days. It could be a security issue, please contact us at [PHONENUMBER_1]\"\n",
      "\n",
      "We are on row 290\n",
      "\n",
      "Medical studies suggest that people with Leukemia are more susceptible to XYD disease. Check with your local GP or call us on 08907-491442.\n",
      "\n",
      "Medical studies suggest that people with [MEDICAL_1] are more susceptible to XYD disease. Check with your local GP or call us on [PHONENUMBER_1].\n"
     ]
    },
    {
     "name": "stdin",
     "output_type": "stream",
     "text": [
      "Enter a new value for the unmasked text:  \n",
      "Enter a new value for the masked text:  \n"
     ]
    },
    {
     "name": "stdout",
     "output_type": "stream",
     "text": [
      "\n",
      "Updated Unmasked Text: Medical studies suggest that people with Leukemia are more susceptible to XYD disease. Check with your local GP or call us on 08907-491442.\n",
      "\n",
      "Updated Masked Text: Medical studies suggest that people with [MEDICAL_1] are more susceptible to XYD disease. Check with your local GP or call us on [PHONENUMBER_1].\n",
      "\n",
      "We are on row 291\n",
      "\n",
      "Subject: Education Fund Approval - Alfred Little. Bettie, your request for an educational fund of J$237,190.56 has been processed. Contact us on +389 87-323 9633 or Curt35@gmail.com for any queries.\n",
      "\n",
      "Subject: Education Fund Approval - [FIRSTNAME_1] [LASTNAME_1]. [FIRSTNAME_2], your request for an educational fund of [CURRENCYSYMBOL_1][AMOUNT_1] has been processed. Contact us on [PHONENUMBER_1] or [EMAIL_1] for any queries.\n"
     ]
    },
    {
     "name": "stdin",
     "output_type": "stream",
     "text": [
      "Enter a new value for the unmasked text:  \n",
      "Enter a new value for the masked text:  \n"
     ]
    },
    {
     "name": "stdout",
     "output_type": "stream",
     "text": [
      "\n",
      "Updated Unmasked Text: Subject: Education Fund Approval - Alfred Little. Bettie, your request for an educational fund of J$237,190.56 has been processed. Contact us on +389 87-323 9633 or Curt35@gmail.com for any queries.\n",
      "\n",
      "Updated Masked Text: Subject: Education Fund Approval - [FIRSTNAME_1] [LASTNAME_1]. [FIRSTNAME_2], your request for an educational fund of [CURRENCYSYMBOL_1][AMOUNT_1] has been processed. Contact us on [PHONENUMBER_1] or [EMAIL_1] for any queries.\n",
      "\n",
      "We are on row 292\n",
      "\n",
      "Patient Wava Hagenes, your surgical procedure has been scheduled for 1971-09-28T07:46:15.090Z at 22 o'clock. Please plan to arrive at 60271 Ernestina Hills. Contact us at this phone number +617.561.259-0606 for further clarifications.\n",
      "\n",
      "Patient [FIRSTNAME_1] [LASTNAME_1], your [MEDICAL_1] procedure has been scheduled for [DATE_1] at [TIME_1]. Please plan to arrive at [BUILDINGNUMBER_1] [STREET_1]. Contact us at this phone number [PHONENUMBER_1] for further clarifications.\n"
     ]
    },
    {
     "name": "stdin",
     "output_type": "stream",
     "text": [
      "Enter a new value for the unmasked text:  \n",
      "Enter a new value for the masked text:  \n"
     ]
    },
    {
     "name": "stdout",
     "output_type": "stream",
     "text": [
      "\n",
      "Updated Unmasked Text: Patient Wava Hagenes, your surgical procedure has been scheduled for 1971-09-28T07:46:15.090Z at 22 o'clock. Please plan to arrive at 60271 Ernestina Hills. Contact us at this phone number +617.561.259-0606 for further clarifications.\n",
      "\n",
      "Updated Masked Text: Patient [FIRSTNAME_1] [LASTNAME_1], your [MEDICAL_1] procedure has been scheduled for [DATE_1] at [TIME_1]. Please plan to arrive at [BUILDINGNUMBER_1] [STREET_1]. Contact us at this phone number [PHONENUMBER_1] for further clarifications.\n",
      "\n",
      "We are on row 293\n",
      "\n",
      "Need a East Jed property's legal documentation. Contact person: Coralie Hermiston, Ph: 0001.10919471, or Email Josiane71@hotmail.com, or DM @eastjedsocal..\n",
      "\n",
      "Need a [CITY_1] property's legal documentation. Contact person: [FIRSTNAME_1] [LASTNAME_1], Ph: [PHONENUMBER_1], or Email [EMAIL_1], or DM [USERNAME_1]..\n"
     ]
    },
    {
     "name": "stdin",
     "output_type": "stream",
     "text": [
      "Enter a new value for the unmasked text:  \n",
      "Enter a new value for the masked text:  \n"
     ]
    },
    {
     "name": "stdout",
     "output_type": "stream",
     "text": [
      "\n",
      "Updated Unmasked Text: Need a East Jed property's legal documentation. Contact person: Coralie Hermiston, Ph: 0001.10919471, or Email Josiane71@hotmail.com, or DM @eastjedsocal..\n",
      "\n",
      "Updated Masked Text: Need a [CITY_1] property's legal documentation. Contact person: [FIRSTNAME_1] [LASTNAME_1], Ph: [PHONENUMBER_1], or Email [EMAIL_1], or DM [USERNAME_1]..\n",
      "\n",
      "We are on row 294\n",
      "\n",
      "Diagnostic tool for my car is not responding. The vehicle's VIN is ND4PMLV4ZARP42585 and VRM is DI68FAH. There's no response on 2318 059 2606 as well\n",
      "\n",
      "Diagnostic tool for my car is not responding. The vehicle's VIN is [VEHICLEVIN_1] and VRM is [VEHICLEVRM_1]. There's no response on [PHONENUMBER_1] as well\n"
     ]
    },
    {
     "name": "stdin",
     "output_type": "stream",
     "text": [
      "Enter a new value for the unmasked text:  \n",
      "Enter a new value for the masked text:  \n"
     ]
    },
    {
     "name": "stdout",
     "output_type": "stream",
     "text": [
      "\n",
      "Updated Unmasked Text: Diagnostic tool for my car is not responding. The vehicle's VIN is ND4PMLV4ZARP42585 and VRM is DI68FAH. There's no response on 2318 059 2606 as well\n",
      "\n",
      "Updated Masked Text: Diagnostic tool for my car is not responding. The vehicle's VIN is [VEHICLEVIN_1] and VRM is [VEHICLEVRM_1]. There's no response on [PHONENUMBER_1] as well\n",
      "\n",
      "We are on row 295\n",
      "\n",
      "Franchise 9957029551439102 at Kshlerin Cove, Hayden, showing unrecorded transactions. Please validate at +63.97-501 5218 using 9995 for secure access.\n",
      "\n",
      "Franchise [CREDITCARDNUMBER_1] at [STREET_1], [MIDDLENAME_1], showing unrecorded transactions. Please validate at [PHONENUMBER_1] using [PIN_1] for secure access.\n"
     ]
    },
    {
     "name": "stdin",
     "output_type": "stream",
     "text": [
      "Enter a new value for the unmasked text:  \n",
      "Enter a new value for the masked text:  \n"
     ]
    },
    {
     "name": "stdout",
     "output_type": "stream",
     "text": [
      "\n",
      "Updated Unmasked Text: Franchise 9957029551439102 at Kshlerin Cove, Hayden, showing unrecorded transactions. Please validate at +63.97-501 5218 using 9995 for secure access.\n",
      "\n",
      "Updated Masked Text: Franchise [CREDITCARDNUMBER_1] at [STREET_1], [MIDDLENAME_1], showing unrecorded transactions. Please validate at [PHONENUMBER_1] using [PIN_1] for secure access.\n",
      "\n",
      "We are on row 296\n",
      "\n",
      "Patient case- 75680276229: Diagnosed with a collapsed disc in the spine. Is currently 149cm. Will require multiple sessions. ₨ will be required per session. Please contact on +866.045.929 0550.\n",
      "\n",
      "Patient case- [SSN_1]: Diagnosed with a [MEDICAL_1] in the spine. Is currently [HEIGHT_1]. Will require multiple sessions. [CURRENCYSYMBOL_1] will be required per session. Please contact on [PHONENUMBER_1].\n"
     ]
    },
    {
     "name": "stdin",
     "output_type": "stream",
     "text": [
      "Enter a new value for the unmasked text:  \n",
      "Enter a new value for the masked text:  \n"
     ]
    },
    {
     "name": "stdout",
     "output_type": "stream",
     "text": [
      "\n",
      "Updated Unmasked Text: Patient case- 75680276229: Diagnosed with a collapsed disc in the spine. Is currently 149cm. Will require multiple sessions. ₨ will be required per session. Please contact on +866.045.929 0550.\n",
      "\n",
      "Updated Masked Text: Patient case- [SSN_1]: Diagnosed with a [MEDICAL_1] in the spine. Is currently [HEIGHT_1]. Will require multiple sessions. [CURRENCYSYMBOL_1] will be required per session. Please contact on [PHONENUMBER_1].\n",
      "\n",
      "We are on row 297\n",
      "\n",
      "Hey team, I need to schedule a physical therapy session for Jillian Kozey. She's a 61 years Female from West Art. I need someone who specializes in seniors' therapy. Respond to confirm or contact me at +645-350.168-5312.\n",
      "\n",
      "Hey team, I need to schedule an occupational therapy session for [FIRSTNAME_1] [LASTNAME_1]. She's a [AGE_1] [SEX_1] from [CITY_1]. I need someone who specializes in seniors' therapy. Respond to confirm or contact me at [PHONENUMBER_1].\n"
     ]
    },
    {
     "name": "stdin",
     "output_type": "stream",
     "text": [
      "Enter a new value for the unmasked text:  Hey team, I need to schedule a physical therapy session for Jillian Kozey. She's a 61 years Female from West Art. I need someone who specializes in seniors' therapy. Respond to confirm or contact me at +645-350.168-5312.\n",
      "Enter a new value for the masked text:  Hey team, I need to schedule [MEDICAL_1] session for [FIRSTNAME_1] [LASTNAME_1]. She's a [AGE_1] [SEX_1] from [CITY_1]. I need someone who specializes in [JOBAREA_1]. Respond to confirm or contact me at [PHONENUMBER_1].\n"
     ]
    },
    {
     "name": "stdout",
     "output_type": "stream",
     "text": [
      "\n",
      "Updated Unmasked Text: Hey team, I need to schedule a physical therapy session for Jillian Kozey. She's a 61 years Female from West Art. I need someone who specializes in seniors' therapy. Respond to confirm or contact me at +645-350.168-5312.\n",
      "\n",
      "Updated Masked Text: Hey team, I need to schedule [MEDICAL_1] session for [FIRSTNAME_1] [LASTNAME_1]. She's a [AGE_1] [SEX_1] from [CITY_1]. I need someone who specializes in [JOBAREA_1]. Respond to confirm or contact me at [PHONENUMBER_1].\n",
      "\n",
      "We are on row 298\n",
      "\n",
      "Hello Miles. Just want to update our company, Ernser - Becker's change management plan. Feel free to reach me on my new number (95) 2600-9158 or Elliot10@gmail.com.\n",
      "\n",
      "Hello [FIRSTNAME_1]. Just want to update our company, [COMPANYNAME_1]'s change management plan. Feel free to reach me on my new number [PHONENUMBER_1] or [EMAIL_1].\n"
     ]
    },
    {
     "name": "stdin",
     "output_type": "stream",
     "text": [
      "Enter a new value for the unmasked text:  \n",
      "Enter a new value for the masked text:  \n"
     ]
    },
    {
     "name": "stdout",
     "output_type": "stream",
     "text": [
      "\n",
      "Updated Unmasked Text: Hello Miles. Just want to update our company, Ernser - Becker's change management plan. Feel free to reach me on my new number (95) 2600-9158 or Elliot10@gmail.com.\n",
      "\n",
      "Updated Masked Text: Hello [FIRSTNAME_1]. Just want to update our company, [COMPANYNAME_1]'s change management plan. Feel free to reach me on my new number [PHONENUMBER_1] or [EMAIL_1].\n",
      "\n",
      "We are on row 299\n",
      "\n",
      "How is the effectiveness of the reflexology therapy? You can send the details to +31-975-008 4700 or Gilda84@gmail.com. Do mention about costs.\n",
      "\n",
      "How is the effectiveness of the reflexology therapy? You can send the details to [PHONENUMBER_1] or [EMAIL_1]. Do mention about costs.\n"
     ]
    },
    {
     "name": "stdin",
     "output_type": "stream",
     "text": [
      "Enter a new value for the unmasked text:  \n",
      "Enter a new value for the masked text:  How is the effectiveness of the [MEDICAL_1]? You can send the details to [PHONENUMBER_1] or [EMAIL_1]. Do mention about costs.\n"
     ]
    },
    {
     "name": "stdout",
     "output_type": "stream",
     "text": [
      "\n",
      "Updated Unmasked Text: How is the effectiveness of the reflexology therapy? You can send the details to +31-975-008 4700 or Gilda84@gmail.com. Do mention about costs.\n",
      "\n",
      "Updated Masked Text: How is the effectiveness of the [MEDICAL_1]? You can send the details to [PHONENUMBER_1] or [EMAIL_1]. Do mention about costs.\n",
      "\n"
     ]
    }
   ],
   "source": [
    "for i in range(286, 300):\n",
    "    # print the original unmasked and masked text\n",
    "    print(f\"We are on row {i}\\n\")\n",
    "    print(f\"{df.loc[i, 'unmasked_text']}\\n\")\n",
    "    print(f\"{df.loc[i, 'masked_text']}\")\n",
    "\n",
    "    # input new value for the masked text and update df \n",
    "    new_value = input(\"Enter a new value for the unmasked text: \")\n",
    "    if new_value.lower() == 'stop': # use stop to break out if necessary\n",
    "        print(\"Stopping the loop.\")\n",
    "        break\n",
    "    elif new_value != \"\": # keep original\n",
    "        df.loc[i, 'unmasked_text'] = new_value\n",
    "    # keep original otherwise\n",
    "    \n",
    "    # input a new value for the masked text and update df \n",
    "    new_value = input(\"Enter a new value for the masked text: \")\n",
    "    if new_value.lower() == 'stop': # use stop to break out if necessary\n",
    "        print(\"Stopping the loop.\")\n",
    "        break\n",
    "    elif new_value != \"\": \n",
    "        df.loc[i, 'masked_text'] = new_value\n",
    "    # keep original otherwise\n",
    "    \n",
    "    print(f\"\\nUpdated Unmasked Text: {df.loc[i, 'unmasked_text']}\\n\")\n",
    "    print(f\"Updated Masked Text: {df.loc[i, 'masked_text']}\\n\")"
   ]
  },
  {
   "cell_type": "code",
   "execution_count": 31,
   "id": "925947de-b3b4-4452-acd2-e3baf0c58cb9",
   "metadata": {},
   "outputs": [],
   "source": [
    "# save my df to the 'data' folder\n",
    "filepath = os.path.join(os.getcwd(), 'data', 'maker_day_stella_mini_df.csv')\n",
    "df.to_csv(filepath)"
   ]
  },
  {
   "cell_type": "code",
   "execution_count": null,
   "id": "1178ba0c-55f0-4b2f-9339-a29d0a4e4444",
   "metadata": {},
   "outputs": [],
   "source": []
  }
 ],
 "metadata": {
  "kernelspec": {
   "display_name": "Python 3 (ipykernel)",
   "language": "python",
   "name": "python3"
  },
  "language_info": {
   "codemirror_mode": {
    "name": "ipython",
    "version": 3
   },
   "file_extension": ".py",
   "mimetype": "text/x-python",
   "name": "python",
   "nbconvert_exporter": "python",
   "pygments_lexer": "ipython3",
   "version": "3.12.1"
  }
 },
 "nbformat": 4,
 "nbformat_minor": 5
}

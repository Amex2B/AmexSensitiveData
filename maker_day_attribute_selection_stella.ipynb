{
 "cells": [
  {
   "cell_type": "code",
   "execution_count": 1,
   "id": "4245ee31-b83e-4bab-ad73-e14b7c79ecc7",
   "metadata": {},
   "outputs": [],
   "source": [
    "import os\n",
    "import pandas as pd"
   ]
  },
  {
   "cell_type": "code",
   "execution_count": 2,
   "id": "bd770a47-8347-4988-af0c-6acbc109974a",
   "metadata": {},
   "outputs": [],
   "source": [
    "filepath = os.path.join(os.getcwd(), 'data', 'extracted_tel_numbers_english.csv')\n",
    "\n",
    "# Read the CSV file using pandas\n",
    "df = pd.read_csv(filepath)"
   ]
  },
  {
   "cell_type": "code",
   "execution_count": 4,
   "id": "31da6ba6-3bdc-416e-8b71-3ab37f546233",
   "metadata": {},
   "outputs": [
    {
     "name": "stdout",
     "output_type": "stream",
     "text": [
      "                                       unmasked_text  \\\n",
      "0  Mr. Franecki, we have scheduled a learning ass...   \n",
      "1  The palliative care team is coordinating a hom...   \n",
      "2  We've updated your next appointment, Tavares. ...   \n",
      "3  Lawrence County Sports department is conductin...   \n",
      "4  Dear Ivory, Your appointment with Dr. Frami re...   \n",
      "\n",
      "                                         masked_text      phone_number  \n",
      "0  [PREFIX_1] [LASTNAME_1], we have scheduled a l...     (612).3785804  \n",
      "1  The palliative care team is coordinating a hom...    09.48-67 61 36  \n",
      "2  We've updated your next appointment, [FIRSTNAM...  +19-302 725.8274  \n",
      "3  [COUNTY_1] Sports department is conducting a p...  +97-259 289.7050  \n",
      "4  Dear [FIRSTNAME_1], Your appointment with Dr. ...     (842)-6372460  \n"
     ]
    },
    {
     "data": {
      "text/plain": [
       "(2417, 3)"
      ]
     },
     "execution_count": 4,
     "metadata": {},
     "output_type": "execute_result"
    }
   ],
   "source": [
    "print(df.head())\n",
    "df.shape"
   ]
  },
  {
   "cell_type": "code",
   "execution_count": 6,
   "id": "2a6d726f-6b4b-4607-ad96-5772cb7f1874",
   "metadata": {},
   "outputs": [
    {
     "data": {
      "text/plain": [
       "[215, 1097]"
      ]
     },
     "execution_count": 6,
     "metadata": {},
     "output_type": "execute_result"
    }
   ],
   "source": [
    "import random\n",
    "\n",
    "random.seed(123)\n",
    "stella_rand_num = random.randint(1, 2417)\n",
    "shrieyaa_rand_num = random.randint(1, 2417)\n",
    "\n",
    "[stella_rand_num, shrieyaa_rand_num] # 200-299, 1100-1199"
   ]
  },
  {
   "cell_type": "code",
   "execution_count": 39,
   "id": "d648d324-46d3-4cdf-abb5-cbc4bd606a55",
   "metadata": {},
   "outputs": [
    {
     "name": "stdout",
     "output_type": "stream",
     "text": [
      "Cardiologist Trey indicates urgent need for angiography. Please confirm procedure on the given 64-322554-414809-7 device. Contact our office at +77-76.506 3416.\n",
      "\n",
      "\n",
      "Cardiologist [FIRSTNAME_1] indicates urgent need for angiography. Please confirm procedure on the given [PHONEIMEI_1] device. Contact our office at [PHONENUMBER_1].\n"
     ]
    }
   ],
   "source": [
    "print(df.loc[230, 'unmasked_text'])\n",
    "print('\\n')\n",
    "print(df.loc[230, 'masked_text'])"
   ]
  },
  {
   "cell_type": "code",
   "execution_count": null,
   "id": "4c906624-5163-4a0e-877b-0b459561706c",
   "metadata": {},
   "outputs": [],
   "source": []
  },
  {
   "cell_type": "code",
   "execution_count": null,
   "id": "beb3b946-960c-4b3c-8d54-1ddb793ee0c5",
   "metadata": {},
   "outputs": [],
   "source": []
  }
 ],
 "metadata": {
  "kernelspec": {
   "display_name": "Python 3 (ipykernel)",
   "language": "python",
   "name": "python3"
  },
  "language_info": {
   "codemirror_mode": {
    "name": "ipython",
    "version": 3
   },
   "file_extension": ".py",
   "mimetype": "text/x-python",
   "name": "python",
   "nbconvert_exporter": "python",
   "pygments_lexer": "ipython3",
   "version": "3.12.1"
  }
 },
 "nbformat": 4,
 "nbformat_minor": 5
}

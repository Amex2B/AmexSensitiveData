{
 "cells": [
  {
   "cell_type": "code",
   "execution_count": 5,
   "metadata": {},
   "outputs": [],
   "source": [
    "# Imported the dataset\n",
    "from datasets import load_dataset\n",
    "dataset = load_dataset(\"ai4privacy/pii-masking-300k\", data_files={\"train\": \"data/train/1english_openpii_30k.jsonl\"})\n",
    "# 29,908 individual data points in this \"train\" split"
   ]
  },
  {
   "cell_type": "code",
   "execution_count": 14,
   "metadata": {},
   "outputs": [
    {
     "name": "stdout",
     "output_type": "stream",
     "text": [
      "<class 'datasets.dataset_dict.DatasetDict'>\n"
     ]
    },
    {
     "data": {
      "text/plain": [
       "{'train': (29908, 9)}"
      ]
     },
     "execution_count": 14,
     "metadata": {},
     "output_type": "execute_result"
    }
   ],
   "source": [
    "# Inspect the dataset\n",
    "print(type(dataset))\n",
    "dataset.shape"
   ]
  },
  {
   "cell_type": "code",
   "execution_count": 10,
   "metadata": {},
   "outputs": [],
   "source": [
    "train = dataset['train']\n",
    "print(type(train))\n",
    "df_train = train.to_pandas() # Convert the 'train' dataset to a dataframe"
   ]
  },
  {
   "cell_type": "code",
   "execution_count": 13,
   "metadata": {},
   "outputs": [
    {
     "data": {
      "text/html": [
       "<div>\n",
       "<style scoped>\n",
       "    .dataframe tbody tr th:only-of-type {\n",
       "        vertical-align: middle;\n",
       "    }\n",
       "\n",
       "    .dataframe tbody tr th {\n",
       "        vertical-align: top;\n",
       "    }\n",
       "\n",
       "    .dataframe thead th {\n",
       "        text-align: right;\n",
       "    }\n",
       "</style>\n",
       "<table border=\"1\" class=\"dataframe\">\n",
       "  <thead>\n",
       "    <tr style=\"text-align: right;\">\n",
       "      <th></th>\n",
       "      <th>source_text</th>\n",
       "      <th>target_text</th>\n",
       "      <th>privacy_mask</th>\n",
       "      <th>span_labels</th>\n",
       "      <th>mbert_text_tokens</th>\n",
       "      <th>mbert_bio_labels</th>\n",
       "      <th>id</th>\n",
       "      <th>language</th>\n",
       "      <th>set</th>\n",
       "    </tr>\n",
       "  </thead>\n",
       "  <tbody>\n",
       "    <tr>\n",
       "      <th>0</th>\n",
       "      <td>Subject: Group Messaging for Admissions Proces...</td>\n",
       "      <td>Subject: Group Messaging for Admissions Proces...</td>\n",
       "      <td>[{'value': 'wynqvrh053', 'start': 287, 'end': ...</td>\n",
       "      <td>[[440, 453, \"USERNAME\"], [430, 437, \"TIME\"], [...</td>\n",
       "      <td>[Sub, ##ject, :, Group, Mess, ##aging, for, Ad...</td>\n",
       "      <td>[O, O, O, O, O, O, O, O, O, O, O, O, O, O, O, ...</td>\n",
       "      <td>40767A</td>\n",
       "      <td>English</td>\n",
       "      <td>train</td>\n",
       "    </tr>\n",
       "    <tr>\n",
       "      <th>1</th>\n",
       "      <td>- Meeting at 2:33 PM\\n- N23 - Meeting at 11:29...</td>\n",
       "      <td>- Meeting at [TIME]\\n- [USERNAME] - Meeting at...</td>\n",
       "      <td>[{'value': '2:33 PM', 'start': 13, 'end': 20, ...</td>\n",
       "      <td>[[74, 81, \"TIME\"], [50, 60, \"USERNAME\"], [40, ...</td>\n",
       "      <td>[-, Meeting, at, 2, :, 33, PM, -, N, ##23, -, ...</td>\n",
       "      <td>[O, O, O, B-TIME, I-TIME, I-TIME, I-TIME, O, O...</td>\n",
       "      <td>40767B</td>\n",
       "      <td>English</td>\n",
       "      <td>train</td>\n",
       "    </tr>\n",
       "    <tr>\n",
       "      <th>2</th>\n",
       "      <td>Subject: Admission Notification - Great Britai...</td>\n",
       "      <td>Subject: Admission Notification - Great Britai...</td>\n",
       "      <td>[{'value': '5:24am', 'start': 263, 'end': 269,...</td>\n",
       "      <td>[[395, 407, \"SOCIALNUMBER\"], [358, 375, \"EMAIL...</td>\n",
       "      <td>[Sub, ##ject, :, Ad, ##mission, Not, ##ificati...</td>\n",
       "      <td>[O, O, O, O, O, O, O, O, O, O, O, O, O, O, O, ...</td>\n",
       "      <td>40768A</td>\n",
       "      <td>English</td>\n",
       "      <td>train</td>\n",
       "    </tr>\n",
       "    <tr>\n",
       "      <th>3</th>\n",
       "      <td>Card: KB90324ER\\n   Country: GB\\n   Building: ...</td>\n",
       "      <td>Card: [IDCARD]\\n   Country: [COUNTRY]\\n   Buil...</td>\n",
       "      <td>[{'value': 'KB90324ER', 'start': 6, 'end': 15,...</td>\n",
       "      <td>[[390, 393, \"STATE\"], [368, 378, \"CITY\"], [346...</td>\n",
       "      <td>[Card, :, KB, ##90, ##32, ##4, ##ER, \\, n, Cou...</td>\n",
       "      <td>[O, O, B-IDCARD, I-IDCARD, I-IDCARD, I-IDCARD,...</td>\n",
       "      <td>40768B</td>\n",
       "      <td>English</td>\n",
       "      <td>train</td>\n",
       "    </tr>\n",
       "    <tr>\n",
       "      <th>4</th>\n",
       "      <td>N, WA14 5RW\\n   Password: r]iD1#8\\n\\n...and so...</td>\n",
       "      <td>N, WA14 5RW\\n   Password: [PASS]\\n\\n...and so ...</td>\n",
       "      <td>[{'value': 'r]iD1#8', 'start': 26, 'end': 33, ...</td>\n",
       "      <td>[[336, 352, \"DATE\"], [26, 33, \"PASS\"]]</td>\n",
       "      <td>[N, ,, W, ##A, ##14, 5, ##R, ##W, \\, n, Pass, ...</td>\n",
       "      <td>[O, O, O, O, O, O, O, O, O, O, O, O, O, B-PASS...</td>\n",
       "      <td>40768C</td>\n",
       "      <td>English</td>\n",
       "      <td>train</td>\n",
       "    </tr>\n",
       "    <tr>\n",
       "      <th>5</th>\n",
       "      <td>Subject: Admission Application Attachments Con...</td>\n",
       "      <td>Subject: Admission Application Attachments Con...</td>\n",
       "      <td>[{'value': '301025226', 'start': 311, 'end': 3...</td>\n",
       "      <td>[[311, 320, \"PASSPORT\"]]</td>\n",
       "      <td>[Sub, ##ject, :, Ad, ##mission, Application, A...</td>\n",
       "      <td>[O, O, O, O, O, O, O, O, O, O, O, O, O, O, O, ...</td>\n",
       "      <td>40769A</td>\n",
       "      <td>English</td>\n",
       "      <td>train</td>\n",
       "    </tr>\n",
       "    <tr>\n",
       "      <th>6</th>\n",
       "      <td>981\\n- Social Security Number: 554.575.9355\\n-...</td>\n",
       "      <td>981\\n- Social Security Number: [SOCIALNUMBER]\\...</td>\n",
       "      <td>[{'value': '554.575.9355', 'start': 30, 'end':...</td>\n",
       "      <td>[[263, 279, \"TEL\"], [226, 249, \"EMAIL\"], [206,...</td>\n",
       "      <td>[981, -, Social, Security, Number, :, 554, ., ...</td>\n",
       "      <td>[O, O, O, O, O, O, O, O, B-SOCIALNUMBER, I-SOC...</td>\n",
       "      <td>40769B</td>\n",
       "      <td>English</td>\n",
       "      <td>train</td>\n",
       "    </tr>\n",
       "    <tr>\n",
       "      <th>7</th>\n",
       "      <td>s carefully and inform us immediately if there...</td>\n",
       "      <td>s carefully and inform us immediately if there...</td>\n",
       "      <td>[{'value': 'Rue des Écoles', 'start': 320, 'en...</td>\n",
       "      <td>[[342, 354, \"DATE\"], [338, 340, \"TIME\"], [320,...</td>\n",
       "      <td>[s, care, ##fully, and, info, ##rm, us, immedi...</td>\n",
       "      <td>[O, O, O, O, O, O, O, O, O, O, O, O, O, O, O, ...</td>\n",
       "      <td>40769C</td>\n",
       "      <td>English</td>\n",
       "      <td>train</td>\n",
       "    </tr>\n",
       "    <tr>\n",
       "      <th>8</th>\n",
       "      <td>- id_1:\\n  Feb 8, 1986\\n  iloweintögl\\n  4929-...</td>\n",
       "      <td>- id_1:\\n  [BOD]\\n  [USERNAME]\\n  [TEL]\\n  Det...</td>\n",
       "      <td>[{'value': 'Feb 8, 1986', 'start': 10, 'end': ...</td>\n",
       "      <td>[[287, 300, \"TEL\"], [280, 284, \"USERNAME\"], [2...</td>\n",
       "      <td>[-, id, _, 1, :, Feb, 8, ,, 1986, il, ##owe, #...</td>\n",
       "      <td>[O, O, O, O, O, O, B-BOD, I-BOD, I-BOD, I-BOD,...</td>\n",
       "      <td>40772A</td>\n",
       "      <td>English</td>\n",
       "      <td>train</td>\n",
       "    </tr>\n",
       "    <tr>\n",
       "      <th>9</th>\n",
       "      <td>y involved in community service initiatives.\\n...</td>\n",
       "      <td>y involved in community service initiatives.\\n...</td>\n",
       "      <td>[{'value': 'Apr 29, 1973', 'start': 55, 'end':...</td>\n",
       "      <td>[[339, 355, \"TEL\"], [314, 336, \"USERNAME\"], [2...</td>\n",
       "      <td>[y, involved, in, community, service, initiati...</td>\n",
       "      <td>[O, O, O, O, O, O, O, O, O, O, O, O, O, B-BOD,...</td>\n",
       "      <td>40772B</td>\n",
       "      <td>English</td>\n",
       "      <td>train</td>\n",
       "    </tr>\n",
       "  </tbody>\n",
       "</table>\n",
       "</div>"
      ],
      "text/plain": [
       "                                         source_text  \\\n",
       "0  Subject: Group Messaging for Admissions Proces...   \n",
       "1  - Meeting at 2:33 PM\\n- N23 - Meeting at 11:29...   \n",
       "2  Subject: Admission Notification - Great Britai...   \n",
       "3  Card: KB90324ER\\n   Country: GB\\n   Building: ...   \n",
       "4  N, WA14 5RW\\n   Password: r]iD1#8\\n\\n...and so...   \n",
       "5  Subject: Admission Application Attachments Con...   \n",
       "6  981\\n- Social Security Number: 554.575.9355\\n-...   \n",
       "7  s carefully and inform us immediately if there...   \n",
       "8  - id_1:\\n  Feb 8, 1986\\n  iloweintögl\\n  4929-...   \n",
       "9  y involved in community service initiatives.\\n...   \n",
       "\n",
       "                                         target_text  \\\n",
       "0  Subject: Group Messaging for Admissions Proces...   \n",
       "1  - Meeting at [TIME]\\n- [USERNAME] - Meeting at...   \n",
       "2  Subject: Admission Notification - Great Britai...   \n",
       "3  Card: [IDCARD]\\n   Country: [COUNTRY]\\n   Buil...   \n",
       "4  N, WA14 5RW\\n   Password: [PASS]\\n\\n...and so ...   \n",
       "5  Subject: Admission Application Attachments Con...   \n",
       "6  981\\n- Social Security Number: [SOCIALNUMBER]\\...   \n",
       "7  s carefully and inform us immediately if there...   \n",
       "8  - id_1:\\n  [BOD]\\n  [USERNAME]\\n  [TEL]\\n  Det...   \n",
       "9  y involved in community service initiatives.\\n...   \n",
       "\n",
       "                                        privacy_mask  \\\n",
       "0  [{'value': 'wynqvrh053', 'start': 287, 'end': ...   \n",
       "1  [{'value': '2:33 PM', 'start': 13, 'end': 20, ...   \n",
       "2  [{'value': '5:24am', 'start': 263, 'end': 269,...   \n",
       "3  [{'value': 'KB90324ER', 'start': 6, 'end': 15,...   \n",
       "4  [{'value': 'r]iD1#8', 'start': 26, 'end': 33, ...   \n",
       "5  [{'value': '301025226', 'start': 311, 'end': 3...   \n",
       "6  [{'value': '554.575.9355', 'start': 30, 'end':...   \n",
       "7  [{'value': 'Rue des Écoles', 'start': 320, 'en...   \n",
       "8  [{'value': 'Feb 8, 1986', 'start': 10, 'end': ...   \n",
       "9  [{'value': 'Apr 29, 1973', 'start': 55, 'end':...   \n",
       "\n",
       "                                         span_labels  \\\n",
       "0  [[440, 453, \"USERNAME\"], [430, 437, \"TIME\"], [...   \n",
       "1  [[74, 81, \"TIME\"], [50, 60, \"USERNAME\"], [40, ...   \n",
       "2  [[395, 407, \"SOCIALNUMBER\"], [358, 375, \"EMAIL...   \n",
       "3  [[390, 393, \"STATE\"], [368, 378, \"CITY\"], [346...   \n",
       "4             [[336, 352, \"DATE\"], [26, 33, \"PASS\"]]   \n",
       "5                           [[311, 320, \"PASSPORT\"]]   \n",
       "6  [[263, 279, \"TEL\"], [226, 249, \"EMAIL\"], [206,...   \n",
       "7  [[342, 354, \"DATE\"], [338, 340, \"TIME\"], [320,...   \n",
       "8  [[287, 300, \"TEL\"], [280, 284, \"USERNAME\"], [2...   \n",
       "9  [[339, 355, \"TEL\"], [314, 336, \"USERNAME\"], [2...   \n",
       "\n",
       "                                   mbert_text_tokens  \\\n",
       "0  [Sub, ##ject, :, Group, Mess, ##aging, for, Ad...   \n",
       "1  [-, Meeting, at, 2, :, 33, PM, -, N, ##23, -, ...   \n",
       "2  [Sub, ##ject, :, Ad, ##mission, Not, ##ificati...   \n",
       "3  [Card, :, KB, ##90, ##32, ##4, ##ER, \\, n, Cou...   \n",
       "4  [N, ,, W, ##A, ##14, 5, ##R, ##W, \\, n, Pass, ...   \n",
       "5  [Sub, ##ject, :, Ad, ##mission, Application, A...   \n",
       "6  [981, -, Social, Security, Number, :, 554, ., ...   \n",
       "7  [s, care, ##fully, and, info, ##rm, us, immedi...   \n",
       "8  [-, id, _, 1, :, Feb, 8, ,, 1986, il, ##owe, #...   \n",
       "9  [y, involved, in, community, service, initiati...   \n",
       "\n",
       "                                    mbert_bio_labels      id language    set  \n",
       "0  [O, O, O, O, O, O, O, O, O, O, O, O, O, O, O, ...  40767A  English  train  \n",
       "1  [O, O, O, B-TIME, I-TIME, I-TIME, I-TIME, O, O...  40767B  English  train  \n",
       "2  [O, O, O, O, O, O, O, O, O, O, O, O, O, O, O, ...  40768A  English  train  \n",
       "3  [O, O, B-IDCARD, I-IDCARD, I-IDCARD, I-IDCARD,...  40768B  English  train  \n",
       "4  [O, O, O, O, O, O, O, O, O, O, O, O, O, B-PASS...  40768C  English  train  \n",
       "5  [O, O, O, O, O, O, O, O, O, O, O, O, O, O, O, ...  40769A  English  train  \n",
       "6  [O, O, O, O, O, O, O, O, B-SOCIALNUMBER, I-SOC...  40769B  English  train  \n",
       "7  [O, O, O, O, O, O, O, O, O, O, O, O, O, O, O, ...  40769C  English  train  \n",
       "8  [O, O, O, O, O, O, B-BOD, I-BOD, I-BOD, I-BOD,...  40772A  English  train  \n",
       "9  [O, O, O, O, O, O, O, O, O, O, O, O, O, B-BOD,...  40772B  English  train  "
      ]
     },
     "execution_count": 13,
     "metadata": {},
     "output_type": "execute_result"
    }
   ],
   "source": [
    "# Inspect the df_train\n",
    "df_train.head(10)"
   ]
  },
  {
   "cell_type": "code",
   "execution_count": 16,
   "metadata": {},
   "outputs": [
    {
     "name": "stdout",
     "output_type": "stream",
     "text": [
      "[1716, 8772]\n"
     ]
    }
   ],
   "source": [
    "import random\n",
    "\n",
    "# Set a seed for reproducibility\n",
    "random.seed(123)\n",
    "# Generate a random number between 1 and 29,908\n",
    "stella_rand_num = random.randint(1, 29908)\n",
    "shrieyaa_rand_num = random.randint(1, 29908)\n",
    "\n",
    "print([stella_rand_num, shrieyaa_rand_num])"
   ]
  },
  {
   "cell_type": "markdown",
   "metadata": {},
   "source": [
    "Stella:  \n",
    "- Sat: 1720-1739  \n",
    "- Sun: 1740-1759  \n",
    "- Mon: 1760-1779  \n",
    "- Tue: 1780-1799  \n",
    "- Wed: 1800-1819  \n",
    "Shrieyaa:  \n",
    "- Sat: 8770-8789  \n",
    "- Sun: 8790-8809  \n",
    "- Mon: 8810-8829  \n",
    "- Tue: 8830-8849  \n",
    "- Wed: 8850-8869  \n",
    "Total of 200 rows checked and/or edited by end."
   ]
  },
  {
   "cell_type": "markdown",
   "metadata": {},
   "source": []
  },
  {
   "cell_type": "code",
   "execution_count": 21,
   "metadata": {},
   "outputs": [
    {
     "name": "stdout",
     "output_type": "stream",
     "text": [
      "\"November/67, 16FF1967, 295.126.9661, 263800308, 02582.664912, GB, 860, Ellerker Lane, Leeds, ENG, LS14, 21:11, Farnaz, Flaminia, 16FF1967, 16/08/1979, S74 9NW, 1 o'clock PM\"\n",
      "\"[BOD], [USERNAME], [SOCIALNUMBER], [PASSPORT], [TEL], [COUNTRY], [BUILDING], [STREET], [CITY], [STATE], [POSTCODE], [TIME], [GIVENNAME1], [GIVENNAME2], [USERNAME], [DATE], [POSTCODE], [TIME]\"\n"
     ]
    }
   ],
   "source": [
    "# sample of how I'll manually check/edit\n",
    "print(df_train.iloc[1721]['source_text'])\n",
    "print(df_train.iloc[1721]['target_text']) # print formats it nicer"
   ]
  },
  {
   "cell_type": "code",
   "execution_count": 25,
   "metadata": {},
   "outputs": [],
   "source": [
    "# edit target_text col accordingly -- lmk if you want to do the others but I think this is fine for now, and then\n",
    "# we can consult with Dhakshina on Thurs to see if we have to modify other cols to be used as the label col\n",
    "\n",
    "# in this case I changed 295.126.9661 to TEL and 263800308 to SOCIALNUMBER \n",
    "df_train.loc[1721, 'target_text'] = \"[BOD], [USERNAME], [TEL], [SOCIALNUMBER], [TEL], [COUNTRY], [BUILDING], [STREET], [CITY], [STATE], [POSTCODE], [TIME], [GIVENNAME1], [GIVENNAME2], [USERNAME], [DATE], [POSTCODE], [TIME]\""
   ]
  },
  {
   "cell_type": "code",
   "execution_count": 26,
   "metadata": {},
   "outputs": [
    {
     "data": {
      "text/plain": [
       "source_text          \"November/67, 16FF1967, 295.126.9661, 26380030...\n",
       "target_text          [BOD], [USERNAME], [TEL], [SOCIALNUMBER], [TEL...\n",
       "privacy_mask         [{'value': 'November/67', 'start': 1, 'end': 1...\n",
       "span_labels          [[161, 173, \"TIME\"], [152, 159, \"POSTCODE\"], [...\n",
       "mbert_text_tokens    [\", November, /, 67, ,, 16, ##FF, ##19, ##6, #...\n",
       "mbert_bio_labels     [O, B-BOD, I-BOD, I-BOD, O, B-USERNAME, I-USER...\n",
       "id                                                               41511\n",
       "language                                                       English\n",
       "set                                                              train\n",
       "Name: 1721, dtype: object"
      ]
     },
     "execution_count": 26,
     "metadata": {},
     "output_type": "execute_result"
    }
   ],
   "source": [
    "df_train.loc[1721]"
   ]
  },
  {
   "cell_type": "code",
   "execution_count": null,
   "metadata": {},
   "outputs": [],
   "source": [
    "For later: \n",
    "Ideas on what to add if time permits (I'll probably only be doing it where appropriate):  \n",
    "- medical information like conditions, prescriptions  \n",
    "- instagram handles  \n",
    "- credit card information\n",
    "- educational history (school attended)\n",
    "We should agree on abbreviations for that information (i.e. [MEDINFO] for medical information)"
   ]
  }
 ],
 "metadata": {
  "kernelspec": {
   "display_name": "Python 3 (ipykernel)",
   "language": "python",
   "name": "python3"
  },
  "language_info": {
   "codemirror_mode": {
    "name": "ipython",
    "version": 3
   },
   "file_extension": ".py",
   "mimetype": "text/x-python",
   "name": "python",
   "nbconvert_exporter": "python",
   "pygments_lexer": "ipython3",
   "version": "3.12.1"
  }
 },
 "nbformat": 4,
 "nbformat_minor": 4
}

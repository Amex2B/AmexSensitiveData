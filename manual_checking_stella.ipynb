{
 "cells": [
  {
   "cell_type": "code",
   "execution_count": 1,
   "metadata": {},
   "outputs": [
    {
     "name": "stderr",
     "output_type": "stream",
     "text": [
      "/Library/Frameworks/Python.framework/Versions/3.12/lib/python3.12/site-packages/tqdm/auto.py:21: TqdmWarning: IProgress not found. Please update jupyter and ipywidgets. See https://ipywidgets.readthedocs.io/en/stable/user_install.html\n",
      "  from .autonotebook import tqdm as notebook_tqdm\n"
     ]
    }
   ],
   "source": [
    "# Imported the dataset\n",
    "from datasets import load_dataset\n",
    "dataset = load_dataset(\"ai4privacy/pii-masking-300k\", data_files={\"train\": \"data/train/1english_openpii_30k.jsonl\"})\n",
    "# 29,908 individual data points in this \"train\" split"
   ]
  },
  {
   "cell_type": "code",
   "execution_count": 2,
   "metadata": {},
   "outputs": [
    {
     "name": "stdout",
     "output_type": "stream",
     "text": [
      "<class 'datasets.dataset_dict.DatasetDict'>\n"
     ]
    },
    {
     "data": {
      "text/plain": [
       "{'train': (29908, 9)}"
      ]
     },
     "execution_count": 2,
     "metadata": {},
     "output_type": "execute_result"
    }
   ],
   "source": [
    "# Inspect the dataset\n",
    "print(type(dataset))\n",
    "dataset.shape"
   ]
  },
  {
   "cell_type": "code",
   "execution_count": 3,
   "metadata": {},
   "outputs": [
    {
     "name": "stdout",
     "output_type": "stream",
     "text": [
      "<class 'datasets.arrow_dataset.Dataset'>\n"
     ]
    }
   ],
   "source": [
    "train = dataset['train']\n",
    "print(type(train))\n",
    "df_train = train.to_pandas() # Convert the 'train' dataset to a dataframe"
   ]
  },
  {
   "cell_type": "code",
   "execution_count": 4,
   "metadata": {},
   "outputs": [
    {
     "data": {
      "text/html": [
       "<div>\n",
       "<style scoped>\n",
       "    .dataframe tbody tr th:only-of-type {\n",
       "        vertical-align: middle;\n",
       "    }\n",
       "\n",
       "    .dataframe tbody tr th {\n",
       "        vertical-align: top;\n",
       "    }\n",
       "\n",
       "    .dataframe thead th {\n",
       "        text-align: right;\n",
       "    }\n",
       "</style>\n",
       "<table border=\"1\" class=\"dataframe\">\n",
       "  <thead>\n",
       "    <tr style=\"text-align: right;\">\n",
       "      <th></th>\n",
       "      <th>source_text</th>\n",
       "      <th>target_text</th>\n",
       "      <th>privacy_mask</th>\n",
       "      <th>span_labels</th>\n",
       "      <th>mbert_text_tokens</th>\n",
       "      <th>mbert_bio_labels</th>\n",
       "      <th>id</th>\n",
       "      <th>language</th>\n",
       "      <th>set</th>\n",
       "    </tr>\n",
       "  </thead>\n",
       "  <tbody>\n",
       "    <tr>\n",
       "      <th>0</th>\n",
       "      <td>Subject: Group Messaging for Admissions Proces...</td>\n",
       "      <td>Subject: Group Messaging for Admissions Proces...</td>\n",
       "      <td>[{'value': 'wynqvrh053', 'start': 287, 'end': ...</td>\n",
       "      <td>[[440, 453, \"USERNAME\"], [430, 437, \"TIME\"], [...</td>\n",
       "      <td>[Sub, ##ject, :, Group, Mess, ##aging, for, Ad...</td>\n",
       "      <td>[O, O, O, O, O, O, O, O, O, O, O, O, O, O, O, ...</td>\n",
       "      <td>40767A</td>\n",
       "      <td>English</td>\n",
       "      <td>train</td>\n",
       "    </tr>\n",
       "    <tr>\n",
       "      <th>1</th>\n",
       "      <td>- Meeting at 2:33 PM\\n- N23 - Meeting at 11:29...</td>\n",
       "      <td>- Meeting at [TIME]\\n- [USERNAME] - Meeting at...</td>\n",
       "      <td>[{'value': '2:33 PM', 'start': 13, 'end': 20, ...</td>\n",
       "      <td>[[74, 81, \"TIME\"], [50, 60, \"USERNAME\"], [40, ...</td>\n",
       "      <td>[-, Meeting, at, 2, :, 33, PM, -, N, ##23, -, ...</td>\n",
       "      <td>[O, O, O, B-TIME, I-TIME, I-TIME, I-TIME, O, O...</td>\n",
       "      <td>40767B</td>\n",
       "      <td>English</td>\n",
       "      <td>train</td>\n",
       "    </tr>\n",
       "    <tr>\n",
       "      <th>2</th>\n",
       "      <td>Subject: Admission Notification - Great Britai...</td>\n",
       "      <td>Subject: Admission Notification - Great Britai...</td>\n",
       "      <td>[{'value': '5:24am', 'start': 263, 'end': 269,...</td>\n",
       "      <td>[[395, 407, \"SOCIALNUMBER\"], [358, 375, \"EMAIL...</td>\n",
       "      <td>[Sub, ##ject, :, Ad, ##mission, Not, ##ificati...</td>\n",
       "      <td>[O, O, O, O, O, O, O, O, O, O, O, O, O, O, O, ...</td>\n",
       "      <td>40768A</td>\n",
       "      <td>English</td>\n",
       "      <td>train</td>\n",
       "    </tr>\n",
       "    <tr>\n",
       "      <th>3</th>\n",
       "      <td>Card: KB90324ER\\n   Country: GB\\n   Building: ...</td>\n",
       "      <td>Card: [IDCARD]\\n   Country: [COUNTRY]\\n   Buil...</td>\n",
       "      <td>[{'value': 'KB90324ER', 'start': 6, 'end': 15,...</td>\n",
       "      <td>[[390, 393, \"STATE\"], [368, 378, \"CITY\"], [346...</td>\n",
       "      <td>[Card, :, KB, ##90, ##32, ##4, ##ER, \\, n, Cou...</td>\n",
       "      <td>[O, O, B-IDCARD, I-IDCARD, I-IDCARD, I-IDCARD,...</td>\n",
       "      <td>40768B</td>\n",
       "      <td>English</td>\n",
       "      <td>train</td>\n",
       "    </tr>\n",
       "    <tr>\n",
       "      <th>4</th>\n",
       "      <td>N, WA14 5RW\\n   Password: r]iD1#8\\n\\n...and so...</td>\n",
       "      <td>N, WA14 5RW\\n   Password: [PASS]\\n\\n...and so ...</td>\n",
       "      <td>[{'value': 'r]iD1#8', 'start': 26, 'end': 33, ...</td>\n",
       "      <td>[[336, 352, \"DATE\"], [26, 33, \"PASS\"]]</td>\n",
       "      <td>[N, ,, W, ##A, ##14, 5, ##R, ##W, \\, n, Pass, ...</td>\n",
       "      <td>[O, O, O, O, O, O, O, O, O, O, O, O, O, B-PASS...</td>\n",
       "      <td>40768C</td>\n",
       "      <td>English</td>\n",
       "      <td>train</td>\n",
       "    </tr>\n",
       "    <tr>\n",
       "      <th>5</th>\n",
       "      <td>Subject: Admission Application Attachments Con...</td>\n",
       "      <td>Subject: Admission Application Attachments Con...</td>\n",
       "      <td>[{'value': '301025226', 'start': 311, 'end': 3...</td>\n",
       "      <td>[[311, 320, \"PASSPORT\"]]</td>\n",
       "      <td>[Sub, ##ject, :, Ad, ##mission, Application, A...</td>\n",
       "      <td>[O, O, O, O, O, O, O, O, O, O, O, O, O, O, O, ...</td>\n",
       "      <td>40769A</td>\n",
       "      <td>English</td>\n",
       "      <td>train</td>\n",
       "    </tr>\n",
       "    <tr>\n",
       "      <th>6</th>\n",
       "      <td>981\\n- Social Security Number: 554.575.9355\\n-...</td>\n",
       "      <td>981\\n- Social Security Number: [SOCIALNUMBER]\\...</td>\n",
       "      <td>[{'value': '554.575.9355', 'start': 30, 'end':...</td>\n",
       "      <td>[[263, 279, \"TEL\"], [226, 249, \"EMAIL\"], [206,...</td>\n",
       "      <td>[981, -, Social, Security, Number, :, 554, ., ...</td>\n",
       "      <td>[O, O, O, O, O, O, O, O, B-SOCIALNUMBER, I-SOC...</td>\n",
       "      <td>40769B</td>\n",
       "      <td>English</td>\n",
       "      <td>train</td>\n",
       "    </tr>\n",
       "    <tr>\n",
       "      <th>7</th>\n",
       "      <td>s carefully and inform us immediately if there...</td>\n",
       "      <td>s carefully and inform us immediately if there...</td>\n",
       "      <td>[{'value': 'Rue des Écoles', 'start': 320, 'en...</td>\n",
       "      <td>[[342, 354, \"DATE\"], [338, 340, \"TIME\"], [320,...</td>\n",
       "      <td>[s, care, ##fully, and, info, ##rm, us, immedi...</td>\n",
       "      <td>[O, O, O, O, O, O, O, O, O, O, O, O, O, O, O, ...</td>\n",
       "      <td>40769C</td>\n",
       "      <td>English</td>\n",
       "      <td>train</td>\n",
       "    </tr>\n",
       "    <tr>\n",
       "      <th>8</th>\n",
       "      <td>- id_1:\\n  Feb 8, 1986\\n  iloweintögl\\n  4929-...</td>\n",
       "      <td>- id_1:\\n  [BOD]\\n  [USERNAME]\\n  [TEL]\\n  Det...</td>\n",
       "      <td>[{'value': 'Feb 8, 1986', 'start': 10, 'end': ...</td>\n",
       "      <td>[[287, 300, \"TEL\"], [280, 284, \"USERNAME\"], [2...</td>\n",
       "      <td>[-, id, _, 1, :, Feb, 8, ,, 1986, il, ##owe, #...</td>\n",
       "      <td>[O, O, O, O, O, O, B-BOD, I-BOD, I-BOD, I-BOD,...</td>\n",
       "      <td>40772A</td>\n",
       "      <td>English</td>\n",
       "      <td>train</td>\n",
       "    </tr>\n",
       "    <tr>\n",
       "      <th>9</th>\n",
       "      <td>y involved in community service initiatives.\\n...</td>\n",
       "      <td>y involved in community service initiatives.\\n...</td>\n",
       "      <td>[{'value': 'Apr 29, 1973', 'start': 55, 'end':...</td>\n",
       "      <td>[[339, 355, \"TEL\"], [314, 336, \"USERNAME\"], [2...</td>\n",
       "      <td>[y, involved, in, community, service, initiati...</td>\n",
       "      <td>[O, O, O, O, O, O, O, O, O, O, O, O, O, B-BOD,...</td>\n",
       "      <td>40772B</td>\n",
       "      <td>English</td>\n",
       "      <td>train</td>\n",
       "    </tr>\n",
       "  </tbody>\n",
       "</table>\n",
       "</div>"
      ],
      "text/plain": [
       "                                         source_text  \\\n",
       "0  Subject: Group Messaging for Admissions Proces...   \n",
       "1  - Meeting at 2:33 PM\\n- N23 - Meeting at 11:29...   \n",
       "2  Subject: Admission Notification - Great Britai...   \n",
       "3  Card: KB90324ER\\n   Country: GB\\n   Building: ...   \n",
       "4  N, WA14 5RW\\n   Password: r]iD1#8\\n\\n...and so...   \n",
       "5  Subject: Admission Application Attachments Con...   \n",
       "6  981\\n- Social Security Number: 554.575.9355\\n-...   \n",
       "7  s carefully and inform us immediately if there...   \n",
       "8  - id_1:\\n  Feb 8, 1986\\n  iloweintögl\\n  4929-...   \n",
       "9  y involved in community service initiatives.\\n...   \n",
       "\n",
       "                                         target_text  \\\n",
       "0  Subject: Group Messaging for Admissions Proces...   \n",
       "1  - Meeting at [TIME]\\n- [USERNAME] - Meeting at...   \n",
       "2  Subject: Admission Notification - Great Britai...   \n",
       "3  Card: [IDCARD]\\n   Country: [COUNTRY]\\n   Buil...   \n",
       "4  N, WA14 5RW\\n   Password: [PASS]\\n\\n...and so ...   \n",
       "5  Subject: Admission Application Attachments Con...   \n",
       "6  981\\n- Social Security Number: [SOCIALNUMBER]\\...   \n",
       "7  s carefully and inform us immediately if there...   \n",
       "8  - id_1:\\n  [BOD]\\n  [USERNAME]\\n  [TEL]\\n  Det...   \n",
       "9  y involved in community service initiatives.\\n...   \n",
       "\n",
       "                                        privacy_mask  \\\n",
       "0  [{'value': 'wynqvrh053', 'start': 287, 'end': ...   \n",
       "1  [{'value': '2:33 PM', 'start': 13, 'end': 20, ...   \n",
       "2  [{'value': '5:24am', 'start': 263, 'end': 269,...   \n",
       "3  [{'value': 'KB90324ER', 'start': 6, 'end': 15,...   \n",
       "4  [{'value': 'r]iD1#8', 'start': 26, 'end': 33, ...   \n",
       "5  [{'value': '301025226', 'start': 311, 'end': 3...   \n",
       "6  [{'value': '554.575.9355', 'start': 30, 'end':...   \n",
       "7  [{'value': 'Rue des Écoles', 'start': 320, 'en...   \n",
       "8  [{'value': 'Feb 8, 1986', 'start': 10, 'end': ...   \n",
       "9  [{'value': 'Apr 29, 1973', 'start': 55, 'end':...   \n",
       "\n",
       "                                         span_labels  \\\n",
       "0  [[440, 453, \"USERNAME\"], [430, 437, \"TIME\"], [...   \n",
       "1  [[74, 81, \"TIME\"], [50, 60, \"USERNAME\"], [40, ...   \n",
       "2  [[395, 407, \"SOCIALNUMBER\"], [358, 375, \"EMAIL...   \n",
       "3  [[390, 393, \"STATE\"], [368, 378, \"CITY\"], [346...   \n",
       "4             [[336, 352, \"DATE\"], [26, 33, \"PASS\"]]   \n",
       "5                           [[311, 320, \"PASSPORT\"]]   \n",
       "6  [[263, 279, \"TEL\"], [226, 249, \"EMAIL\"], [206,...   \n",
       "7  [[342, 354, \"DATE\"], [338, 340, \"TIME\"], [320,...   \n",
       "8  [[287, 300, \"TEL\"], [280, 284, \"USERNAME\"], [2...   \n",
       "9  [[339, 355, \"TEL\"], [314, 336, \"USERNAME\"], [2...   \n",
       "\n",
       "                                   mbert_text_tokens  \\\n",
       "0  [Sub, ##ject, :, Group, Mess, ##aging, for, Ad...   \n",
       "1  [-, Meeting, at, 2, :, 33, PM, -, N, ##23, -, ...   \n",
       "2  [Sub, ##ject, :, Ad, ##mission, Not, ##ificati...   \n",
       "3  [Card, :, KB, ##90, ##32, ##4, ##ER, \\, n, Cou...   \n",
       "4  [N, ,, W, ##A, ##14, 5, ##R, ##W, \\, n, Pass, ...   \n",
       "5  [Sub, ##ject, :, Ad, ##mission, Application, A...   \n",
       "6  [981, -, Social, Security, Number, :, 554, ., ...   \n",
       "7  [s, care, ##fully, and, info, ##rm, us, immedi...   \n",
       "8  [-, id, _, 1, :, Feb, 8, ,, 1986, il, ##owe, #...   \n",
       "9  [y, involved, in, community, service, initiati...   \n",
       "\n",
       "                                    mbert_bio_labels      id language    set  \n",
       "0  [O, O, O, O, O, O, O, O, O, O, O, O, O, O, O, ...  40767A  English  train  \n",
       "1  [O, O, O, B-TIME, I-TIME, I-TIME, I-TIME, O, O...  40767B  English  train  \n",
       "2  [O, O, O, O, O, O, O, O, O, O, O, O, O, O, O, ...  40768A  English  train  \n",
       "3  [O, O, B-IDCARD, I-IDCARD, I-IDCARD, I-IDCARD,...  40768B  English  train  \n",
       "4  [O, O, O, O, O, O, O, O, O, O, O, O, O, B-PASS...  40768C  English  train  \n",
       "5  [O, O, O, O, O, O, O, O, O, O, O, O, O, O, O, ...  40769A  English  train  \n",
       "6  [O, O, O, O, O, O, O, O, B-SOCIALNUMBER, I-SOC...  40769B  English  train  \n",
       "7  [O, O, O, O, O, O, O, O, O, O, O, O, O, O, O, ...  40769C  English  train  \n",
       "8  [O, O, O, O, O, O, B-BOD, I-BOD, I-BOD, I-BOD,...  40772A  English  train  \n",
       "9  [O, O, O, O, O, O, O, O, O, O, O, O, O, B-BOD,...  40772B  English  train  "
      ]
     },
     "execution_count": 4,
     "metadata": {},
     "output_type": "execute_result"
    }
   ],
   "source": [
    "# Inspect the df_train\n",
    "df_train.head(10)"
   ]
  },
  {
   "cell_type": "code",
   "execution_count": 5,
   "metadata": {},
   "outputs": [
    {
     "name": "stdout",
     "output_type": "stream",
     "text": [
      "[1716, 8772]\n"
     ]
    }
   ],
   "source": [
    "import random\n",
    "\n",
    "# Set a seed for reproducibility\n",
    "random.seed(123)\n",
    "# Generate a random number between 1 and 29,908\n",
    "stella_rand_num = random.randint(1, 29908)\n",
    "shrieyaa_rand_num = random.randint(1, 29908)\n",
    "\n",
    "print([stella_rand_num, shrieyaa_rand_num])"
   ]
  },
  {
   "cell_type": "markdown",
   "metadata": {},
   "source": [
    "Stella:  \n",
    "- Sat: 1720-1739  \n",
    "- Sun: 1740-1759  \n",
    "- Mon: 1760-1779  \n",
    "- Tue: 1780-1799  \n",
    "- Wed: 1800-1819  "
   ]
  },
  {
   "cell_type": "code",
   "execution_count": 99,
   "metadata": {},
   "outputs": [
    {
     "name": "stdout",
     "output_type": "stream",
     "text": [
      " 9277774241 details in STEM research programs to drive advancements in educational methodologies.\n",
      "\n",
      "YA21342MP authorizes the use of LULIA-602172-LI-017 data for STEM education research endeavors, aligning with the development of innovative teaching strategies.\n",
      "\n",
      "Lastly, OG10304UQ agrees to the inclusion of THAMB 602017 9 294 information in STEM educational research initiatives, fostering progress in the field of education.\n",
      "\n",
      "This waiver is effective as of 02/04/2028 at 07 at 95.\n",
      " [DRIVERLICENSE] details in STEM research programs to drive advancements in educational methodologies.\n",
      "\n",
      "[IDCARD] authorizes the use of [DRIVERLICENSE] data for STEM education research endeavors, aligning with the development of innovative teaching strategies.\n",
      "\n",
      "Lastly, [IDCARD] agrees to the inclusion of [DRIVERLICENSE] information in STEM educational research initiatives, fostering progress in the field of education.\n",
      "\n",
      "This waiver is effective as of [DATE] at [TIME] at [BUILDING].\n"
     ]
    }
   ],
   "source": [
    "print(df_train.loc[1799, 'source_text'])\n",
    "print(df_train.loc[1799, 'target_text']) # print formats it nicer"
   ]
  },
  {
   "cell_type": "code",
   "execution_count": 98,
   "metadata": {},
   "outputs": [
    {
     "data": {
      "text/plain": [
       "' 61DQ1103 2 580121 KADIRIYE data in STEM education research projects for the betterment of future educational initiatives.\\n\\nFurthermore, [IDCARD] consents to the utilization of [DRIVERLICENSE] information to advance research in STEM education and contribute to educational innovation.\\n\\nIn addition, [IDCARD] allows the sharing of [DRIVERLICENSE] data for educational research purposes, aiming to enhance STEM educational practices.\\n\\nMoreover, [IDCARD] permits the use of'"
      ]
     },
     "execution_count": 98,
     "metadata": {},
     "output_type": "execute_result"
    }
   ],
   "source": [
    "# MISCLASSIFIED\n",
    "df_train.loc[1721, 'target_text'] = \"[BOD], [USERNAME], [TEL], [SOCIALNUMBER], [TEL], [COUNTRY], [BUILDING], [STREET], [CITY], [STATE], [POSTCODE], [TIME], [GIVENNAME1], [GIVENNAME2], [USERNAME], [DATE], [POSTCODE], [TIME]\"\n",
    "df_train.loc[1726, 'target_text'] = '*Phone:** [TEL] \\n- **IP Address:** [IP] \\n- **Password:** [PASS] \\n\\n3. **Other Participants** \\n\\n- [USERNAME] \\n- [USERNAME] \\n- [USERNAME] \\n- [USERNAME] \\n- [USERNAME] \\n- [USERNAME] \\n- [USERNAME] \\n- [USERNAME]\\n\\nThis Agreement is to lay out the expectations, goals, and responsibilities for the Teacher evaluation process.'\n",
    "df_train.loc[1733, 'target_text'] = 'nt peer observation sessions to provide constructive feedback.\\n4. Set specific goals with deadlines to track progress.\\n\\n**Monitoring and Review:**\\n- Regular evaluations will be conducted every month to assess improvement and adjust the plan as needed.\\n\\n**Completion Date:** End of Academic Year [TIME], [STATE]\\n\\nThis plan is designed to support the continuous professional development of [GIVENNAME1] [LASTNAME1] and enhance their teaching effectiveness.'\n",
    "df_train.loc[1768, 'target_text'] = ' platform, create a vibrant ecosystem that encourages creativity, innovation, and lifelong learning.\\n\\nJoin us in the Digital Fan Zones of STEM Education in Great Britain, where individuals like [USERNAME] and [USERNAME] come together to celebrate the wonders of science and technology, driving forward the future of innovation and discovery. Experience the power of community, collaboration, and curiosity in shaping the landscape of STEM education for generations to come.'\n",
    "df_train.loc[1769, 'target_text'] = 'In an effort to enhance collaboration within our educational organization and streamline communication among staff, we are excited to introduce new Organizational Collaboration Tools. These tools offer a secure and efficient way for our team members to work together effectively.\\n\\nThe implementation of these tools will provide various benefits to all members. For instance, [SEX] with [EMAIL] and [TEL] will now have acc'\n",
    "df_train.loc[1771, 'target_text'] = 'ties and projects led by individuals such as [SEX] with [EMAIL] and [SOCIALNUMBER], providing them with a platform to enhance their contributions.\\n\\nIn addition to individual contributors, our collaborative tools will support team projects led by individuals with various perspectives like [SEX] and [USERNAME], [SEX] with [USERNAME], and [SEX] with [USERNAME]. The tools will ensure effective communication and seamless coordination among m'\n",
    "\n",
    "\n",
    "# FAILURE TO REDACT \n",
    "df_train.loc[1727, 'target_text'] = '{\\n   \"Professional Development Application\": {\\n      \"Teacher\": {\\n         \"Name\": \"[LASTNAME1]\",\\n         \"Sex\": \"[SEX]\",\\n         \"Username\": \"[USERNAME]\",\\n         \"Social Number\": \"[SOCIALNUMBER]\",\\n         \"Driver\\'s License\": \"[DRIVERLICENSE]\",\\n         \"Passport\": \"[PASSPORT]'\n",
    "df_train.loc[1729, 'target_text'] = 'Evaluation Waiver Form\\n\\nI, **[LASTNAME1]** **[LASTNAME2]** **[LASTNAME3]**, hereby waive my right to review my evaluation records for the academic year **[TIME]**. I understand that this waiver is voluntary and once signed, cannot be revoked. By signing this waiver, I acknowledge that I will not be able to access or review any evaluation materials associated with my performance during the specified period.\\n\\nTeacher Information:\\n- **[SEX]**\\n- Date of Birth: **[BOD]**\\n- Username: **[USERNAME]'\n",
    "df_train.loc[1743, 'target_text'] = '[USERNAME].  \\n\\nSophie: Great, safety first! I also made sure to bring all my important documents such as my  [SOCIALNUMBER] and my  [TEL] in case of emergencies.  \\n\\nKevin: Smart thinking! And don\\'t worry, I\\'ve also packed my  [EMAIL] in case we need to reach out to anyone.  \\n\\nSophie: Perfect! We\\'re all set then. See you at the station tomorrow at  [TIME]. Happy travels!\"'\n",
    "df_train.loc[1749, 'target_text'] = \"Digital Identity Verification Request Form\\n\\n---\\n\\n**Applicant Details:**\\n\\n**Applicant 1:**\\n- Full Name: [GIVENNAME1] [LASTNAME1]\\n- Title: [TITLE]\\n- Social Number: [SOCIALNUMBER]\\n- Driver's License: [DRIVERLICENSE]\\n- Passport Number: [PASSPORT]\\n- Telephone: [TEL]\\n- Country: [COUNTRY]\\n- Address: [BUILDING], [STREET], [CITY], [STATE], [POSTCODE]\\n- Secondary Address: [SECADDRESS]\\n- IP Address: [IP]\\n\\n**Applicant 2:**\\n- Full Name: [GIVENNAME1] [GIVENNAME2] [LASTNAME1] [LASTNAME2]\\n- Title: [TITLE]\"\n",
    "df_train.loc[1752, 'target_text'] = ' \"date_of_birth\": \"[BOD]\",\\n        \"username\": \"[USERNAME]\",\\n        \"email\": \"[EMAIL]\",\\n        \"passport_number\": \"[PASSPORT]\",\\n        \"incident_time\": \"[TIME]\"\\n      },\\n      \"perpetrator\": {\\n        \"name\": \"[GIVENNAME1]\",\\n        \"sex\": \"[SEX]\",\\n        \"date_of_birth\": \"[BOD]\",\\n        \"username\": \"[USERNAME]\",\\n        \"email\": \"[EMAIL]'\n",
    "df_train.loc[1754, 'target_text'] = \"```yaml\\nOnline_Behavior_Contract_Agreement:\\n  - Conduct: Respect other users' privacy and opinions.\\n  - Communication: Communicate with courtesy and professionalism.\\n  - Content: Avoid posting offensive or harmful content.\\n  - Interaction: Engage in constructive discussions and debates.\\n  - Moderation: Follow the guidelines and instructions provided by the platform administration.\\nUsers_List:\\n  - User_A:\\n      [EMAIL]\\n      [IDCARD]\\n      [IP]\"\n",
    "df_train.loc[1755, 'target_text'] = '[IP]\\n      [TIME]\\n      [LASTNAME1]\\n  - User_B:\\n      [EMAIL]\\n      [IDCARD]\\n  - User_C:\\n      [EMAIL]\\n      [IDCARD]\\n  - User_D:\\n      [EMAIL]\\n      [IDCARD]\\n  - User_E:\\n      [EMAIL]\\n      [IDCARD]\\n  - User_F:\\n      [EMAIL]\\n      [IDCARD]\\n  - User_G:\\n      [EMAIL]\\n      [IDCARD]\\n  - User_H:\\n      [EMAIL]\\n      [IDCARD]\\n  - User_I:'\n",
    "df_train.loc[1761, 'target_text'] = '```yaml\\n- Incident_001:\\n    Report_ID: \"[IDCARD]\"\\n    Date: \"[DATE]\"\\n    Harassment_Type: \"Cyberbullying\"\\n    Username: \"[USERNAME]\"\\n    Description: \"Inappropriate messages received related to school performance.\"\\n    Resolution: \"Parental involvement requested; account monitoring initiated.\"\\n    \\n- Incident_002:\\n    Report_ID: \"[IDCARD]\"\\n    Date: \"[DATE]\"\\n    Harassment_Type: \"Online Stalking\"\\n    Username: \"[USERNAME]\"\\n    Description: \"Persistent '\n",
    "df_train.loc[1762, 'target_text'] = 'online presence tracking interfering with daily activities.\"\\n    Resolution: \"Legal warning issued; guidance on digital footprint management provided.\"\\n\\n- Incident_003:\\n    Report_ID: \"[IDCARD]\"\\n    Date: \"[DATE]\"\\n    Harassment_Type: \"Hate Speech\"\\n    Username: \"[USERNAME]\"\\n    Description: \"Derogatory comments targeted at religious beliefs.\"\\n    Resolution: \"Social media account suspension enforced; education on respectful online behavior recommended.\"\\n```'\n",
    "df_train.loc[1779, 'target_text'] = '{\\n\\t\"STEM_Curriculum_Agreement\": [\\n\\t\\t{\\n\\t\\t\\t\"Agreement_Type\": \"Formal\",\\n\\t\\t\\t\"Institutions\": [\\n\\t\\t\\t\\t{\\n\\t\\t\\t\\t\\t\"Institution_Name\": \"[BUILDING]\",\\n\\t\\t\\t\\t\\t\"Username\": \"[USERNAME]\",\\n\\t\\t\\t\\t\\t\"Contact_Email\": \"[EMAIL]\",\\n\\t\\t\\t\\t\\t\"Agreement_Details\": {\\n\\t\\t\\t\\t\\t\\t\"Effective_Date\": \"[DATE]\",\\n\\t\\t\\t\\t\\t\\t\"Meeting_Time\": \"[TIME]\",\\n\\t\\t\\t\\t\\t\\t\"Location\": \"[BUILDING]\"\\n\\t\\t\\t\\t\\t},\\n\\t\\t\\t\\t\\t\"'\n",
    "df_train.loc[1780, 'target_text'] = 'Contact_Person\": {\\n\\t\\t\\t\\t\\t\\t\"Name\": \"[GIVENNAME1]\",\\n\\t\\t\\t\\t\\t\\t\"Sex\": \"[SEX]\",\\n\\t\\t\\t\\t\\t\\t\"Birthdate\": \"[BOD]\",\\n\\t\\t\\t\\t\\t\\t\"Driver_License\": \"[DRIVERLICENSE]\",\\n\\t\\t\\t\\t\\t\\t\"Passport\": \"[PASSPORT]\"\\n\\t\\t\\t\\t\\t}\\n\\t\\t\\t\\t},\\n\\t\\t\\t\\t{\\n\\t\\t\\t\\t\\t\"Institution_Name\": \"[BUILDING]\",\\n\\t\\t\\t\\t\\t\"Username\": \"[USERNAME]\",\\n\\t\\t\\t\\t\\t\"Contact_Email\": \"[EMAIL]\",\\n\\t\\t\\t\\t\\t\"Agreement_D'\n",
    "df_train.loc[1783, 'target_text'] = '             \"maths\": {\\n                    \"test_score\": \"[SCORE]\",\\n                    \"progress\": \"Above average\"\\n                },\\n                \"science\": {\\n                    \"test_score\": \"[SCORE]\",\\n                    \"progress\": \"Outstanding\"\\n                },\\n                \"technology\": {\\n                    \"test_score\": \"[SCORE]\",\\n                    \"progress\": \"Excellent\"\\n                }\\n            }\\n        },\\n '\n",
    "df_train.loc[1785, 'target_text'] = '            \"maths\": {\\n                    \"test_score\": \"[SCORE]\",\\n                    \"progress\": \"Satisfactory\"\\n                },\\n                \"science\": {\\n                    \"test_score\": \"[SCORE]\",\\n                    \"progress\": \"Good\"\\n                },\\n                \"technology\": {\\n                    \"test_score\": \"[SCORE]\",\\n                    \"progress\": \"Above average\"\\n                }\\n            }\\n        },\\n      '\n",
    "df_train.loc[1787, 'target_text'] = '       \"maths\": {\\n                    \"test_score\": \"[SCORE]\",\\n                    \"progress\": \"Outstanding\"\\n                },\\n                \"science\": {\\n                    \"test_score\": \"[SCORE]\",\\n                    \"progress\": \"Exceptional\"\\n                },\\n                \"technology\": {\\n                    \"test_score\": \"[SCORE]\",\\n                    \"progress\": \"Excellent\"\\n                }\\n            }\\n        }\\n    ]\\n}'\n",
    "df_train.loc[1791, 'target_text'] = 'pment.\\n\\n**Conclusion:**  \\nThe research underscores the importance of innovative STEM pedagogy in nurturing the next generation of critical thinkers and problem solvers.\\n\\n**Date of Publication:** [DATE]  \\n**Time:** [TIME]\\n\\n---\\nThis example serves to illustrate the research findings in the domain of STEM education, focusing on critical thinking development, involving participants from various locales in Great Britain.'\n",
    "df_train.loc[1792, 'target_text'] = '```yaml\\nSTEM_Outreach_Application:\\n  organization_name: STEM Wonders Ltd\\n  contact_person: \\n    given_name: [GIVENNAME1]\\n    family_name: [LASTNAME1]\\n    position: [TITLE]\\n    email: [EMAIL]\\n    tel: [TEL]\\n  program_details:\\n    program_name: Code4Kids\\n    target_age_group: [AGE]\\n    duration_weeks: 6\\n    location: [CITY], [STATE]\\n    start_date: [DATE]\\n  participant_requirements:\\n    - [SEX], [BOD], [IDCARD], [USERNAME]'\n",
    "df_train.loc[1793, 'target_text'] = '[USERNAME], [EMAIL]\\n    - [SEX], [BOD], [DRIVERLICENSE]\\n    - [SEX], [BOD], [DRIVERLICENSE]\\n    - [SEX], [BOD], [DRIVERLICENSE]\\n    - [SEX], [BOD], [DRIVERLICENSE]\\n    - [SEX], [BOD], [DRIVERLICENSE]\\n    - [SEX], [BOD], [DRIVERLICENSE]\\n    - [SEX], [BOD], [DRIVERLICENSE]\\n    - [SEX], [BOD], [DRIVERLICENSE]\\n    - [SEX], [BOD], [DRIVERLICENSE]\\n    - [SEX], [BOD], [DRIVERLICENSE]\\n```'\n",
    "df_train.loc[1794, 'target_text'] = '{\\n   \"proposal_header\": {\\n      \"project_name\": \"STEM Education Empowerment Program\",\\n      \"location\": \"[COUNTRY]\",\\n      \"proposed_by\": \"[USERNAME]\",\\n      \"date\": \"[DATE]\",\\n      \"budget_total\": \"[MONEY]\"\\n   },\\n   \"budget_details\": [\\n      {\\n         \"category\": \"Research & Development\",\\n         \"allocated_amount\": \"[MONEY]\",\\n         \"description\": \"Funding for STEM research initiatives and new technology development\",\\n         \"responsibility\": \"[USERNAME]\"\\n '\n",
    "df_train.loc[1795, 'target_text'] = '     },\\n      {\\n         \"category\": \"Educational Outreach\",\\n         \"allocated_amount\": \"[MONEY]\",\\n         \"description\": \"Engaging STEM education programs for schools nationwide\",\\n         \"responsibility\": \"[USERNAME]\"\\n      },\\n      {\\n         \"category\": \"Infrastructure Enhancement\",\\n         \"allocated_amount\": \"[MONEY]\",\\n         \"description\": \"Upgrading facilities in STEM institutions for better learning environments\",\\n         \"responsibility\": \"[USERNAME]\"\\n      },\\n     '\n",
    "df_train.loc[1796, 'target_text'] = ' {\\n         \"category\": \"Scholarships & Grants\",\\n         \"allocated_amount\": \"[MONEY]\",\\n         \"description\": \"Providing financial aid to talented students pursuing STEM fields\",\\n         \"responsibility\": \"[USERNAME]\"\\n      },\\n      {\\n         \"category\": \"Community Partnerships\",\\n         \"allocated_amount\": \"[MONEY]\",\\n         \"description\": \"Collaborating with local businesses for STEM apprenticeships and internships\",\\n         \"responsibility\": \"[USERNAME]\"\\n      }\\n   ]\\n}'\n",
    "df_train.loc[1798, 'target_text'] = ' [USERNAME] 2 [USERNAME] [USERNAME] data in STEM education research projects for the betterment of future educational initiatives.\\n\\nFurthermore, [IDCARD] consents to the utilization of [DRIVERLICENSE] information to advance research in STEM education and contribute to educational innovation.\\n\\nIn addition, [IDCARD] allows the sharing of [DRIVERLICENSE] data for educational research purposes, aiming to enhance STEM educational practices.\\n\\nMoreover, [IDCARD] permits the use of'\n",
    "\n",
    "\n"
   ]
  },
  {
   "cell_type": "code",
   "execution_count": null,
   "metadata": {},
   "outputs": [],
   "source": [
    "For later: \n",
    "Ideas on what to add if time permits (I'll probably only be doing it where appropriate):  \n",
    "- medical information like conditions, prescriptions  \n",
    "- instagram handles  \n",
    "- credit card information\n",
    "- educational history (school attended)\n",
    "We should agree on abbreviations for that information (i.e. [MEDINFO] for medical information)"
   ]
  }
 ],
 "metadata": {
  "kernelspec": {
   "display_name": "Python 3 (ipykernel)",
   "language": "python",
   "name": "python3"
  },
  "language_info": {
   "codemirror_mode": {
    "name": "ipython",
    "version": 3
   },
   "file_extension": ".py",
   "mimetype": "text/x-python",
   "name": "python",
   "nbconvert_exporter": "python",
   "pygments_lexer": "ipython3",
   "version": "3.12.1"
  }
 },
 "nbformat": 4,
 "nbformat_minor": 4
}

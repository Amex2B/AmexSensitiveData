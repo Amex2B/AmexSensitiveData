{
 "cells": [
  {
   "cell_type": "code",
   "execution_count": 2,
   "metadata": {},
   "outputs": [
    {
     "name": "stdout",
     "output_type": "stream",
     "text": [
      "['hi my name is[FIRSTNAME][FIRSTNAME][FIRSTNAME][FIRSTNAME], and my phone number is[PHONE_NUMBER] and I live in[STATE][STATE], California. My email is[EMAIL][EMAIL][EMAIL][EMAIL]']\n"
     ]
    }
   ],
   "source": [
    "from transformers import pipeline\n",
    "# Import necessary libraries\n",
    "import numpy as np\n",
    "import pandas as pd\n",
    "from transformers import AutoTokenizer, AutoModelForTokenClassification, Trainer, TrainingArguments\n",
    "import evaluate\n",
    "import torch\n",
    "from datasets import load_dataset\n",
    "\n",
    "model = AutoModelForTokenClassification.from_pretrained(\"lakshyakh93/deberta_finetuned_pii\")\n",
    "tokenizer = AutoTokenizer.from_pretrained(\"lakshyakh93/deberta_finetuned_pii\")\n",
    "\n",
    "\n",
    "# Initialize a token classification pipeline\n",
    "pii_pipeline = pipeline(\"token-classification\", model=model, tokenizer=tokenizer, aggregation_strategy=\"simple\")\n",
    "\n",
    "# Function to apply PII masking to a specific text column\n",
    "def redact_column(dataset, column_name):\n",
    "    redacted_texts = []\n",
    "\n",
    "    for text in dataset[column_name]:\n",
    "        # Get model predictions for the text\n",
    "        predictions = pii_pipeline(text)\n",
    "        \n",
    "        # Replace PII spans with placeholders\n",
    "        redacted_text = text\n",
    "        for entity in sorted(predictions, key=lambda x: x['start'], reverse=True):  # Sort in reverse to avoid shifting positions\n",
    "            label = entity['entity_group']\n",
    "            redacted_text = redacted_text[:entity['start']] + f\"[{label}]\" + redacted_text[entity['end']:]\n",
    "        \n",
    "        redacted_texts.append(redacted_text)\n",
    "    \n",
    "    return redacted_texts\n",
    "\n",
    "df = pd.DataFrame({'source_text': ['hi my name is shubhangi, and my phone number is 239-123-1238 and I live in Los Angeles, California. My email is shubhangiwaldiya@gmail.com']})\n",
    "\n",
    "# Display the redacted text\n",
    "print(redact_column(df, 'source_text'))"
   ]
  },
  {
   "cell_type": "code",
   "execution_count": 3,
   "metadata": {},
   "outputs": [
    {
     "name": "stdout",
     "output_type": "stream",
     "text": [
      "Dataset({\n",
      "    features: ['source_text', 'target_text', 'privacy_mask', 'span_labels', 'mbert_text_tokens', 'mbert_bio_labels', 'id', 'language', 'set'],\n",
      "    num_rows: 20\n",
      "})\n"
     ]
    },
    {
     "name": "stderr",
     "output_type": "stream",
     "text": [
      "Map: 100%|██████████| 20/20 [00:00<00:00, 53.82 examples/s]\n",
      "Map: 100%|██████████| 20/20 [00:00<00:00, 68.09 examples/s]\n",
      "c:\\Users\\suman\\AppData\\Local\\Programs\\Python\\Python311\\Lib\\site-packages\\transformers\\training_args.py:1545: FutureWarning: `evaluation_strategy` is deprecated and will be removed in version 4.46 of 🤗 Transformers. Use `eval_strategy` instead\n",
      "  warnings.warn(\n"
     ]
    }
   ],
   "source": [
    "# Import necessary libraries\n",
    "import numpy as np\n",
    "import pandas as pd\n",
    "from transformers import AutoTokenizer, AutoModelForTokenClassification, Trainer, TrainingArguments\n",
    "import evaluate\n",
    "import torch\n",
    "from datasets import load_dataset\n",
    "# Define and load the tokenizer and dataset\n",
    "tokenizer = AutoTokenizer.from_pretrained(\"lakshyakh93/deberta_finetuned_pii\")\n",
    "train_set = load_dataset(\"ai4privacy/pii-masking-300k\", split='train')\n",
    "dataset = train_set.shuffle().select(range(20)) # selecting only 20\n",
    "print(dataset)\n",
    "\n",
    "# Define label mapping, might increase\n",
    "label_map = {\"O\": 0, \"TIME\": 1, \"DATE\": 2, \"LASTNAME1\": 3, \"LASTNAME2\": 4, \"EMAIL\": 5, \"SOCIALNUMBER\": 6}\n",
    "\n",
    "# Function to tokenize and align labels\n",
    "def tokenize_and_align_labels(example):\n",
    "    tokenized_inputs = tokenizer(example['source_text'], truncation=True, padding='max_length', max_length=512)\n",
    "    labels = [\"O\"] * len(tokenized_inputs[\"input_ids\"])\n",
    "    \n",
    "    # Adjust indexing to fit the tokenization\n",
    "    example['source_text'] = example['source_text'][:512]  # Ensure source_text matches max_length\n",
    "\n",
    "    for span in example[\"privacy_mask\"]:\n",
    "        start, end, label_name = span[\"start\"], span[\"end\"], span[\"label\"]\n",
    "        label_id = label_map.get(label_name, 0)\n",
    "        \n",
    "        span_tokens = tokenizer(example[\"source_text\"][start:end], add_special_tokens=False).tokens()\n",
    "        # Properly create and align labels (assuming BERT tokenizer)\n",
    "        for i, token in enumerate(tokenized_inputs.tokens()):\n",
    "            if token in span_tokens:\n",
    "                labels[i] = label_id\n",
    "\n",
    "    numeric_labels = [label_map.get(label, -100) for label in labels]\n",
    "    numeric_labels += [-100] * (len(tokenized_inputs[\"input_ids\"]) - len(numeric_labels))\n",
    "    \n",
    "    tokenized_inputs[\"labels\"] = numeric_labels\n",
    "    return tokenized_inputs\n",
    "\n",
    "\n",
    "# Apply function to dataset\n",
    "encoded_dataset = dataset.map(tokenize_and_align_labels, batched=False)\n",
    "\n",
    "# Convert to PyTorch tensors to feed into the model\n",
    "input_ids = torch.tensor(encoded_dataset[\"input_ids\"])\n",
    "attention_mask = torch.tensor(encoded_dataset[\"attention_mask\"])\n",
    "labels = torch.tensor(encoded_dataset[\"labels\"])\n",
    "\n",
    "# Load model\n",
    "model = AutoModelForTokenClassification.from_pretrained(\"lakshyakh93/deberta_finetuned_pii\")\n",
    "\n",
    "# Define metric computation\n",
    "metric = evaluate.load(\"accuracy\")  # You may want to load relevant metrics for token classification\n",
    "\n",
    "def compute_metrics(eval_pred):\n",
    "    logits, labels = eval_pred\n",
    "    predictions = np.argmax(logits, axis=2)  # Note: axis=2 for token classification\n",
    "    true_labels = labels != -100  # Masking out unnecessary labels\n",
    "    \n",
    "    # Flatten predictions and true_labels to compute accuracy\n",
    "    flattened_predictions = predictions[true_labels]\n",
    "    flattened_labels = labels[true_labels]\n",
    "    \n",
    "    results = metric.compute(references=flattened_labels, predictions=flattened_predictions)\n",
    "    return results\n",
    "\n",
    "\n",
    "# Tokenize validation set\n",
    "val_set = load_dataset(\"ai4privacy/pii-masking-300k\", split='validation')  # Ensure you have a validation set\n",
    "small_val = val_set.shuffle().select(range(20))\n",
    "encoded_small_val = small_val.map(tokenize_and_align_labels, batched=False)\n",
    "\n",
    "# Training arguments\n",
    "train_args = TrainingArguments(\n",
    "    output_dir=\"./results\",\n",
    "    evaluation_strategy=\"epoch\",\n",
    "    per_device_train_batch_size=2,\n",
    "    num_train_epochs=3,\n",
    "    learning_rate=5e-5,\n",
    "    weight_decay=0.01,\n",
    "    logging_steps=10,\n",
    "    save_steps=10,\n",
    "    eval_steps=10,\n",
    "    gradient_accumulation_steps=2,  # Adjust if needed\n",
    ")\n",
    "\n",
    "# Initialize Trainer\n",
    "trainer = Trainer(\n",
    "    model=model,\n",
    "    args=train_args,\n",
    "    train_dataset=encoded_dataset,\n",
    "    eval_dataset=encoded_small_val,\n",
    "    tokenizer=tokenizer,\n",
    "    compute_metrics=compute_metrics,\n",
    ")"
   ]
  },
  {
   "cell_type": "code",
   "execution_count": 4,
   "metadata": {},
   "outputs": [
    {
     "name": "stderr",
     "output_type": "stream",
     "text": [
      "                                              \n",
      " 33%|███▎      | 5/15 [05:12<08:02, 48.25s/it]"
     ]
    },
    {
     "name": "stdout",
     "output_type": "stream",
     "text": [
      "{'eval_loss': 0.21650974452495575, 'eval_accuracy': 0.9735880572084769, 'eval_runtime': 67.7228, 'eval_samples_per_second': 0.295, 'eval_steps_per_second': 0.044, 'epoch': 1.0}\n"
     ]
    },
    {
     "name": "stderr",
     "output_type": "stream",
     "text": [
      " 67%|██████▋   | 10/15 [08:13<03:30, 42.03s/it]"
     ]
    },
    {
     "name": "stdout",
     "output_type": "stream",
     "text": [
      "{'loss': 1.5672, 'grad_norm': 0.16207049787044525, 'learning_rate': 1.6666666666666667e-05, 'epoch': 2.0}\n"
     ]
    },
    {
     "name": "stderr",
     "output_type": "stream",
     "text": [
      "                                               \n",
      " 67%|██████▋   | 10/15 [09:29<03:30, 42.03s/it]"
     ]
    },
    {
     "name": "stdout",
     "output_type": "stream",
     "text": [
      "{'eval_loss': 0.01968233287334442, 'eval_accuracy': 0.9969725441069005, 'eval_runtime': 69.2365, 'eval_samples_per_second': 0.289, 'eval_steps_per_second': 0.043, 'epoch': 2.0}\n"
     ]
    },
    {
     "name": "stderr",
     "output_type": "stream",
     "text": [
      "                                               \n",
      "100%|██████████| 15/15 [13:53<00:00, 55.54s/it]\n"
     ]
    },
    {
     "name": "stdout",
     "output_type": "stream",
     "text": [
      "{'eval_loss': 0.008220566436648369, 'eval_accuracy': 0.999791209938407, 'eval_runtime': 62.1872, 'eval_samples_per_second': 0.322, 'eval_steps_per_second': 0.048, 'epoch': 3.0}\n",
      "{'train_runtime': 833.1094, 'train_samples_per_second': 0.072, 'train_steps_per_second': 0.018, 'train_loss': 1.0484985935191313, 'epoch': 3.0}\n"
     ]
    },
    {
     "data": {
      "text/plain": [
       "TrainOutput(global_step=15, training_loss=1.0484985935191313, metrics={'train_runtime': 833.1094, 'train_samples_per_second': 0.072, 'train_steps_per_second': 0.018, 'total_flos': 18303156633600.0, 'train_loss': 1.0484985935191313, 'epoch': 3.0})"
      ]
     },
     "execution_count": 4,
     "metadata": {},
     "output_type": "execute_result"
    }
   ],
   "source": [
    "# Run training\n",
    "trainer.train()"
   ]
  },
  {
   "cell_type": "code",
   "execution_count": 5,
   "metadata": {},
   "outputs": [
    {
     "name": "stderr",
     "output_type": "stream",
     "text": [
      "100%|██████████| 3/3 [00:40<00:00, 13.48s/it]\n"
     ]
    },
    {
     "data": {
      "text/plain": [
       "{'eval_loss': 0.008220566436648369,\n",
       " 'eval_accuracy': 0.999791209938407,\n",
       " 'eval_runtime': 67.1656,\n",
       " 'eval_samples_per_second': 0.298,\n",
       " 'eval_steps_per_second': 0.045,\n",
       " 'epoch': 3.0}"
      ]
     },
     "execution_count": 5,
     "metadata": {},
     "output_type": "execute_result"
    }
   ],
   "source": [
    "trainer.evaluate()"
   ]
  },
  {
   "cell_type": "code",
   "execution_count": 7,
   "metadata": {},
   "outputs": [
    {
     "name": "stdout",
     "output_type": "stream",
     "text": [
      "['[PREFIX][PREFIX][PREFIX][PREFIX][PREFIX][PREFIX][PREFIX][PREFIX][PREFIX][PREFIX][PREFIX][PREFIX][PREFIX][PREFIX][PHONE_NUMBER][PREFIX][PREFIX][PREFIX][PREFIX][PREFIX][PREFIX][PREFIX],[PREFIX][PREFIX][PREFIX][PREFIX][PREFIX][PREFIX][USERNAME][PREFIX][PREFIX][PREFIX][PREFIX][USERNAME]']\n"
     ]
    }
   ],
   "source": [
    "from transformers import pipeline\n",
    "\n",
    "# Initialize a token classification pipeline\n",
    "pii_pipeline = pipeline(\"token-classification\", model=model, tokenizer=tokenizer, aggregation_strategy=\"simple\")\n",
    "\n",
    "# Function to apply PII masking to a specific text column\n",
    "def redact_column(dataset, column_name):\n",
    "    redacted_texts = []\n",
    "\n",
    "    for text in dataset[column_name]:\n",
    "        # Get model predictions for the text\n",
    "        predictions = pii_pipeline(text)\n",
    "        \n",
    "        # Replace PII spans with placeholders\n",
    "        redacted_text = text\n",
    "        for entity in sorted(predictions, key=lambda x: x['start'], reverse=True):  # Sort in reverse to avoid shifting positions\n",
    "            label = entity['entity_group']\n",
    "            redacted_text = redacted_text[:entity['start']] + f\"[{label}]\" + redacted_text[entity['end']:]\n",
    "        \n",
    "        redacted_texts.append(redacted_text)\n",
    "    \n",
    "    return redacted_texts\n",
    "\n",
    "df = pd.DataFrame({'source_text': ['hi my name is shubhangi, and my phone number is 239-123-1238 and I live in Los Angeles, California. My email is shubhangiwaldiya@gmail.com']})\n",
    "\n",
    "# Display the redacted text\n",
    "print(redact_column(df, 'source_text'))"
   ]
  },
  {
   "cell_type": "code",
   "execution_count": 8,
   "metadata": {},
   "outputs": [
    {
     "data": {
      "text/plain": [
       "0    hi my name is shubhangi, and my phone number i...\n",
       "Name: source_text, dtype: object"
      ]
     },
     "execution_count": 8,
     "metadata": {},
     "output_type": "execute_result"
    }
   ],
   "source": [
    "df['source_text']"
   ]
  },
  {
   "cell_type": "code",
   "execution_count": null,
   "metadata": {},
   "outputs": [],
   "source": []
  }
 ],
 "metadata": {
  "kernelspec": {
   "display_name": "Python 3",
   "language": "python",
   "name": "python3"
  },
  "language_info": {
   "codemirror_mode": {
    "name": "ipython",
    "version": 3
   },
   "file_extension": ".py",
   "mimetype": "text/x-python",
   "name": "python",
   "nbconvert_exporter": "python",
   "pygments_lexer": "ipython3",
   "version": "3.11.0"
  }
 },
 "nbformat": 4,
 "nbformat_minor": 2
}

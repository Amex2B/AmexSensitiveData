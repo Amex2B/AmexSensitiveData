{
 "cells": [
  {
   "cell_type": "code",
   "execution_count": 6,
   "id": "4245ee31-b83e-4bab-ad73-e14b7c79ecc7",
   "metadata": {},
   "outputs": [
    {
     "name": "stdout",
     "output_type": "stream",
     "text": [
      "/Users/stellahuang/Downloads/AmexSensitiveData/model\n"
     ]
    }
   ],
   "source": [
    "import os\n",
    "import pandas as pd"
   ]
  },
  {
   "cell_type": "code",
   "execution_count": 7,
   "id": "bd770a47-8347-4988-af0c-6acbc109974a",
   "metadata": {},
   "outputs": [],
   "source": [
    "filepath = os.path.join('/Users/stellahuang/Downloads/AmexSensitiveData/data', 'extracted_tel_numbers_english.csv')\n",
    "\n",
    "# Read the CSV file using pandas\n",
    "df = pd.read_csv(filepath)"
   ]
  },
  {
   "cell_type": "code",
   "execution_count": 8,
   "id": "31da6ba6-3bdc-416e-8b71-3ab37f546233",
   "metadata": {},
   "outputs": [
    {
     "name": "stdout",
     "output_type": "stream",
     "text": [
      "                                       unmasked_text  \\\n",
      "0  Mr. Franecki, we have scheduled a learning ass...   \n",
      "1  The palliative care team is coordinating a hom...   \n",
      "2  We've updated your next appointment, Tavares. ...   \n",
      "3  Lawrence County Sports department is conductin...   \n",
      "4  Dear Ivory, Your appointment with Dr. Frami re...   \n",
      "\n",
      "                                         masked_text      phone_number  \\\n",
      "0  [PREFIX_1] [LASTNAME_1], we have scheduled a l...     (612).3785804   \n",
      "1  The palliative care team is coordinating a hom...    09.48-67 61 36   \n",
      "2  We've updated your next appointment, [FIRSTNAM...  +19-302 725.8274   \n",
      "3  [COUNTY_1] Sports department is conducting a p...  +97-259 289.7050   \n",
      "4  Dear [FIRSTNAME_1], Your appointment with Dr. ...     (842)-6372460   \n",
      "\n",
      "                                        privacy_mask  \n",
      "0  {'[PREFIX_1]': 'Mr.', '[LASTNAME_1]': 'Franeck...  \n",
      "1  {'[FIRSTNAME_1]': 'Lee', '[ZIPCODE_1]': '76448...  \n",
      "2  {'[FIRSTNAME_1]': 'Tavares', '[DATE_1]': '22/0...  \n",
      "3  {'[COUNTY_1]': 'Lawrence County', '[DOB_1]': '...  \n",
      "4  {'[FIRSTNAME_1]': 'Ivory', '[LASTNAME_1]': 'Fr...  \n"
     ]
    },
    {
     "data": {
      "text/plain": [
       "(2417, 4)"
      ]
     },
     "execution_count": 8,
     "metadata": {},
     "output_type": "execute_result"
    }
   ],
   "source": [
    "print(df.head())\n",
    "df.shape"
   ]
  },
  {
   "cell_type": "code",
   "execution_count": 9,
   "id": "2a6d726f-6b4b-4607-ad96-5772cb7f1874",
   "metadata": {},
   "outputs": [
    {
     "data": {
      "text/plain": [
       "[215, 1097]"
      ]
     },
     "execution_count": 9,
     "metadata": {},
     "output_type": "execute_result"
    }
   ],
   "source": [
    "import random\n",
    "\n",
    "random.seed(123)\n",
    "stella_rand_num = random.randint(1, 2417)\n",
    "shrieyaa_rand_num = random.randint(1, 2417)\n",
    "\n",
    "[stella_rand_num, shrieyaa_rand_num] # 200-299, 1100-1199"
   ]
  },
  {
   "cell_type": "code",
   "execution_count": null,
   "id": "d648d324-46d3-4cdf-abb5-cbc4bd606a55",
   "metadata": {},
   "outputs": [
    {
     "name": "stdout",
     "output_type": "stream",
     "text": [
      "We are on row 286\n",
      "\n",
      "On 3/23 at 3 PM, Dr. Edyth Drew Franecki will conduct an interactive session on the impact of social media on individual behavior. For inquiries, contact us at 050.0154004 or Verona_Moore28@hotmail.com.\n",
      "\n",
      "On [DATE_1] at [TIME_1], [PREFIX_1] [FIRSTNAME_1] [MIDDLENAME_1] [LASTNAME_1] will conduct an interactive session on the impact of social media on individual behavior. For inquiries, contact us at [PHONENUMBER_1] or [EMAIL_1].\n"
     ]
    },
    {
     "name": "stdout",
     "output_type": "stream",
     "text": [
      "Enter a new value for the unmasked text:  \n",
      "Enter a new value for the masked text:  \n"
     ]
    },
    {
     "name": "stdout",
     "output_type": "stream",
     "text": [
      "\n",
      "Updated Unmasked Text: On 3/23 at 3 PM, Dr. Edyth Drew Franecki will conduct an interactive session on the impact of social media on individual behavior. For inquiries, contact us at 050.0154004 or Verona_Moore28@hotmail.com.\n",
      "\n",
      "Updated Masked Text: On [DATE_1] at [TIME_1], [PREFIX_1] [FIRSTNAME_1] [MIDDLENAME_1] [LASTNAME_1] will conduct an interactive session on the impact of social media on individual behavior. For inquiries, contact us at [PHONENUMBER_1] or [EMAIL_1].\n",
      "\n",
      "We are on row 287\n",
      "\n",
      "Dear Macie, we'd like to discuss the progress of Bret in the Gifted Education Program. Can you reach us at (04)-2595-4749 or Esther41@hotmail.com?\n",
      "\n",
      "Dear [FIRSTNAME_1], we'd like to discuss the progress of [FIRSTNAME_2] in the [ORGANIZATION_1]. Can you reach us at [PHONENUMBER_1] or [EMAIL_1]?\n"
     ]
    },
    {
     "name": "stdout",
     "output_type": "stream",
     "text": [
      "Enter a new value for the unmasked text:  \n",
      "Enter a new value for the masked text:  \n"
     ]
    },
    {
     "name": "stdout",
     "output_type": "stream",
     "text": [
      "\n",
      "Updated Unmasked Text: Dear Macie, we'd like to discuss the progress of Bret in the Gifted Education Program. Can you reach us at (04)-2595-4749 or Esther41@hotmail.com?\n",
      "\n",
      "Updated Masked Text: Dear [FIRSTNAME_1], we'd like to discuss the progress of [FIRSTNAME_2] in the [ORGANIZATION_1]. Can you reach us at [PHONENUMBER_1] or [EMAIL_1]?\n",
      "\n",
      "We are on row 288\n",
      "\n",
      "I was at [76.1651,-175.3911] when I received your call 09.09 85 09.33 regarding the legal ethics conference. Thank you for bringing Corporate Integration Supervisor Joy Abernathy to discuss ethical dilemmas in our Web.\n",
      "\n",
      "I was at [NEARBYGPSCOORDINATE_1] when I received your call [PHONENUMBER_1] regarding the [ORGANIZATION_1]. Thank you for bringing [JOBTITLE_1] [FIRSTNAME_1] [LASTNAME_1] to discuss ethical dilemmas in our [JOBAREA_1].\n"
     ]
    },
    {
     "name": "stdout",
     "output_type": "stream",
     "text": [
      "Enter a new value for the unmasked text:  \n",
      "Enter a new value for the masked text:  \n"
     ]
    },
    {
     "name": "stdout",
     "output_type": "stream",
     "text": [
      "\n",
      "Updated Unmasked Text: I was at [76.1651,-175.3911] when I received your call 09.09 85 09.33 regarding the legal ethics conference. Thank you for bringing Corporate Integration Supervisor Joy Abernathy to discuss ethical dilemmas in our Web.\n",
      "\n",
      "Updated Masked Text: I was at [NEARBYGPSCOORDINATE_1] when I received your call [PHONENUMBER_1] regarding the [ORGANIZATION_1]. Thank you for bringing [JOBTITLE_1] [FIRSTNAME_1] [LASTNAME_1] to discuss ethical dilemmas in our [JOBAREA_1].\n",
      "\n",
      "We are on row 289\n",
      "\n",
      "\"Hello Transgender female, We've noticed multiple logins from your account Mozilla/5.0 (Macintosh; U; Intel Mac OS X 10_7_2)  AppleWebKit/532.2.0 (KHTML, like Gecko) Chrome/36.0.884.0 Safari/532.2.0 over the past few days. It could be a security issue, please contact us at +64-85 822-9567\"\n",
      "\n",
      "\"Hello [GENDER_1], We've noticed multiple logins from your account [USERAGENT_1] over the past few days. It could be a security issue, please contact us at [PHONENUMBER_1]\"\n"
     ]
    },
    {
     "name": "stdout",
     "output_type": "stream",
     "text": [
      "Enter a new value for the unmasked text:  \n",
      "Enter a new value for the masked text:  \n"
     ]
    },
    {
     "name": "stdout",
     "output_type": "stream",
     "text": [
      "\n",
      "Updated Unmasked Text: \"Hello Transgender female, We've noticed multiple logins from your account Mozilla/5.0 (Macintosh; U; Intel Mac OS X 10_7_2)  AppleWebKit/532.2.0 (KHTML, like Gecko) Chrome/36.0.884.0 Safari/532.2.0 over the past few days. It could be a security issue, please contact us at +64-85 822-9567\"\n",
      "\n",
      "Updated Masked Text: \"Hello [GENDER_1], We've noticed multiple logins from your account [USERAGENT_1] over the past few days. It could be a security issue, please contact us at [PHONENUMBER_1]\"\n",
      "\n",
      "We are on row 290\n",
      "\n",
      "Medical studies suggest that people with Leukemia are more susceptible to XYD disease. Check with your local GP or call us on 08907-491442.\n",
      "\n",
      "Medical studies suggest that people with [MEDICAL_1] are more susceptible to XYD disease. Check with your local GP or call us on [PHONENUMBER_1].\n"
     ]
    },
    {
     "name": "stdout",
     "output_type": "stream",
     "text": [
      "Enter a new value for the unmasked text:  \n",
      "Enter a new value for the masked text:  \n"
     ]
    },
    {
     "name": "stdout",
     "output_type": "stream",
     "text": [
      "\n",
      "Updated Unmasked Text: Medical studies suggest that people with Leukemia are more susceptible to XYD disease. Check with your local GP or call us on 08907-491442.\n",
      "\n",
      "Updated Masked Text: Medical studies suggest that people with [MEDICAL_1] are more susceptible to XYD disease. Check with your local GP or call us on [PHONENUMBER_1].\n",
      "\n",
      "We are on row 291\n",
      "\n",
      "Subject: Education Fund Approval - Alfred Little. Bettie, your request for an educational fund of J$237,190.56 has been processed. Contact us on +389 87-323 9633 or Curt35@gmail.com for any queries.\n",
      "\n",
      "Subject: Education Fund Approval - [FIRSTNAME_1] [LASTNAME_1]. [FIRSTNAME_2], your request for an educational fund of [CURRENCYSYMBOL_1][AMOUNT_1] has been processed. Contact us on [PHONENUMBER_1] or [EMAIL_1] for any queries.\n"
     ]
    },
    {
     "name": "stdout",
     "output_type": "stream",
     "text": [
      "Enter a new value for the unmasked text:  \n",
      "Enter a new value for the masked text:  \n"
     ]
    },
    {
     "name": "stdout",
     "output_type": "stream",
     "text": [
      "\n",
      "Updated Unmasked Text: Subject: Education Fund Approval - Alfred Little. Bettie, your request for an educational fund of J$237,190.56 has been processed. Contact us on +389 87-323 9633 or Curt35@gmail.com for any queries.\n",
      "\n",
      "Updated Masked Text: Subject: Education Fund Approval - [FIRSTNAME_1] [LASTNAME_1]. [FIRSTNAME_2], your request for an educational fund of [CURRENCYSYMBOL_1][AMOUNT_1] has been processed. Contact us on [PHONENUMBER_1] or [EMAIL_1] for any queries.\n",
      "\n",
      "We are on row 292\n",
      "\n",
      "Patient Wava Hagenes, your surgical procedure has been scheduled for 1971-09-28T07:46:15.090Z at 22 o'clock. Please plan to arrive at 60271 Ernestina Hills. Contact us at this phone number +617.561.259-0606 for further clarifications.\n",
      "\n",
      "Patient [FIRSTNAME_1] [LASTNAME_1], your [MEDICAL_1] procedure has been scheduled for [DATE_1] at [TIME_1]. Please plan to arrive at [BUILDINGNUMBER_1] [STREET_1]. Contact us at this phone number [PHONENUMBER_1] for further clarifications.\n"
     ]
    },
    {
     "name": "stdout",
     "output_type": "stream",
     "text": [
      "Enter a new value for the unmasked text:  \n",
      "Enter a new value for the masked text:  \n"
     ]
    },
    {
     "name": "stdout",
     "output_type": "stream",
     "text": [
      "\n",
      "Updated Unmasked Text: Patient Wava Hagenes, your surgical procedure has been scheduled for 1971-09-28T07:46:15.090Z at 22 o'clock. Please plan to arrive at 60271 Ernestina Hills. Contact us at this phone number +617.561.259-0606 for further clarifications.\n",
      "\n",
      "Updated Masked Text: Patient [FIRSTNAME_1] [LASTNAME_1], your [MEDICAL_1] procedure has been scheduled for [DATE_1] at [TIME_1]. Please plan to arrive at [BUILDINGNUMBER_1] [STREET_1]. Contact us at this phone number [PHONENUMBER_1] for further clarifications.\n",
      "\n",
      "We are on row 293\n",
      "\n",
      "Need a East Jed property's legal documentation. Contact person: Coralie Hermiston, Ph: 0001.10919471, or Email Josiane71@hotmail.com, or DM @eastjedsocal..\n",
      "\n",
      "Need a [CITY_1] property's legal documentation. Contact person: [FIRSTNAME_1] [LASTNAME_1], Ph: [PHONENUMBER_1], or Email [EMAIL_1], or DM [USERNAME_1]..\n"
     ]
    },
    {
     "name": "stdout",
     "output_type": "stream",
     "text": [
      "Enter a new value for the unmasked text:  \n",
      "Enter a new value for the masked text:  \n"
     ]
    },
    {
     "name": "stdout",
     "output_type": "stream",
     "text": [
      "\n",
      "Updated Unmasked Text: Need a East Jed property's legal documentation. Contact person: Coralie Hermiston, Ph: 0001.10919471, or Email Josiane71@hotmail.com, or DM @eastjedsocal..\n",
      "\n",
      "Updated Masked Text: Need a [CITY_1] property's legal documentation. Contact person: [FIRSTNAME_1] [LASTNAME_1], Ph: [PHONENUMBER_1], or Email [EMAIL_1], or DM [USERNAME_1]..\n",
      "\n",
      "We are on row 294\n",
      "\n",
      "Diagnostic tool for my car is not responding. The vehicle's VIN is ND4PMLV4ZARP42585 and VRM is DI68FAH. There's no response on 2318 059 2606 as well\n",
      "\n",
      "Diagnostic tool for my car is not responding. The vehicle's VIN is [VEHICLEVIN_1] and VRM is [VEHICLEVRM_1]. There's no response on [PHONENUMBER_1] as well\n"
     ]
    },
    {
     "name": "stdout",
     "output_type": "stream",
     "text": [
      "Enter a new value for the unmasked text:  \n",
      "Enter a new value for the masked text:  \n"
     ]
    },
    {
     "name": "stdout",
     "output_type": "stream",
     "text": [
      "\n",
      "Updated Unmasked Text: Diagnostic tool for my car is not responding. The vehicle's VIN is ND4PMLV4ZARP42585 and VRM is DI68FAH. There's no response on 2318 059 2606 as well\n",
      "\n",
      "Updated Masked Text: Diagnostic tool for my car is not responding. The vehicle's VIN is [VEHICLEVIN_1] and VRM is [VEHICLEVRM_1]. There's no response on [PHONENUMBER_1] as well\n",
      "\n",
      "We are on row 295\n",
      "\n",
      "Franchise 9957029551439102 at Kshlerin Cove, Hayden, showing unrecorded transactions. Please validate at +63.97-501 5218 using 9995 for secure access.\n",
      "\n",
      "Franchise [CREDITCARDNUMBER_1] at [STREET_1], [MIDDLENAME_1], showing unrecorded transactions. Please validate at [PHONENUMBER_1] using [PIN_1] for secure access.\n"
     ]
    },
    {
     "name": "stdout",
     "output_type": "stream",
     "text": [
      "Enter a new value for the unmasked text:  \n",
      "Enter a new value for the masked text:  \n"
     ]
    },
    {
     "name": "stdout",
     "output_type": "stream",
     "text": [
      "\n",
      "Updated Unmasked Text: Franchise 9957029551439102 at Kshlerin Cove, Hayden, showing unrecorded transactions. Please validate at +63.97-501 5218 using 9995 for secure access.\n",
      "\n",
      "Updated Masked Text: Franchise [CREDITCARDNUMBER_1] at [STREET_1], [MIDDLENAME_1], showing unrecorded transactions. Please validate at [PHONENUMBER_1] using [PIN_1] for secure access.\n",
      "\n",
      "We are on row 296\n",
      "\n",
      "Patient case- 75680276229: Diagnosed with a collapsed disc in the spine. Is currently 149cm. Will require multiple sessions. ₨ will be required per session. Please contact on +866.045.929 0550.\n",
      "\n",
      "Patient case- [SSN_1]: Diagnosed with a [MEDICAL_1] in the spine. Is currently [HEIGHT_1]. Will require multiple sessions. [CURRENCYSYMBOL_1] will be required per session. Please contact on [PHONENUMBER_1].\n"
     ]
    },
    {
     "name": "stdout",
     "output_type": "stream",
     "text": [
      "Enter a new value for the unmasked text:  \n",
      "Enter a new value for the masked text:  \n"
     ]
    },
    {
     "name": "stdout",
     "output_type": "stream",
     "text": [
      "\n",
      "Updated Unmasked Text: Patient case- 75680276229: Diagnosed with a collapsed disc in the spine. Is currently 149cm. Will require multiple sessions. ₨ will be required per session. Please contact on +866.045.929 0550.\n",
      "\n",
      "Updated Masked Text: Patient case- [SSN_1]: Diagnosed with a [MEDICAL_1] in the spine. Is currently [HEIGHT_1]. Will require multiple sessions. [CURRENCYSYMBOL_1] will be required per session. Please contact on [PHONENUMBER_1].\n",
      "\n",
      "We are on row 297\n",
      "\n",
      "Hey team, I need to schedule a physical therapy session for Jillian Kozey. She's a 61 years Female from West Art. I need someone who specializes in seniors' therapy. Respond to confirm or contact me at +645-350.168-5312.\n",
      "\n",
      "Hey team, I need to schedule an occupational therapy session for [FIRSTNAME_1] [LASTNAME_1]. She's a [AGE_1] [SEX_1] from [CITY_1]. I need someone who specializes in seniors' therapy. Respond to confirm or contact me at [PHONENUMBER_1].\n"
     ]
    },
    {
     "name": "stdout",
     "output_type": "stream",
     "text": [
      "Enter a new value for the unmasked text:  Hey team, I need to schedule a physical therapy session for Jillian Kozey. She's a 61 years Female from West Art. I need someone who specializes in seniors' therapy. Respond to confirm or contact me at +645-350.168-5312.\n",
      "Enter a new value for the masked text:  Hey team, I need to schedule [MEDICAL_1] session for [FIRSTNAME_1] [LASTNAME_1]. She's a [AGE_1] [SEX_1] from [CITY_1]. I need someone who specializes in [JOBAREA_1]. Respond to confirm or contact me at [PHONENUMBER_1].\n"
     ]
    },
    {
     "name": "stdout",
     "output_type": "stream",
     "text": [
      "\n",
      "Updated Unmasked Text: Hey team, I need to schedule a physical therapy session for Jillian Kozey. She's a 61 years Female from West Art. I need someone who specializes in seniors' therapy. Respond to confirm or contact me at +645-350.168-5312.\n",
      "\n",
      "Updated Masked Text: Hey team, I need to schedule [MEDICAL_1] session for [FIRSTNAME_1] [LASTNAME_1]. She's a [AGE_1] [SEX_1] from [CITY_1]. I need someone who specializes in [JOBAREA_1]. Respond to confirm or contact me at [PHONENUMBER_1].\n",
      "\n",
      "We are on row 298\n",
      "\n",
      "Hello Miles. Just want to update our company, Ernser - Becker's change management plan. Feel free to reach me on my new number (95) 2600-9158 or Elliot10@gmail.com.\n",
      "\n",
      "Hello [FIRSTNAME_1]. Just want to update our company, [COMPANYNAME_1]'s change management plan. Feel free to reach me on my new number [PHONENUMBER_1] or [EMAIL_1].\n"
     ]
    },
    {
     "name": "stdout",
     "output_type": "stream",
     "text": [
      "Enter a new value for the unmasked text:  \n",
      "Enter a new value for the masked text:  \n"
     ]
    },
    {
     "name": "stdout",
     "output_type": "stream",
     "text": [
      "\n",
      "Updated Unmasked Text: Hello Miles. Just want to update our company, Ernser - Becker's change management plan. Feel free to reach me on my new number (95) 2600-9158 or Elliot10@gmail.com.\n",
      "\n",
      "Updated Masked Text: Hello [FIRSTNAME_1]. Just want to update our company, [COMPANYNAME_1]'s change management plan. Feel free to reach me on my new number [PHONENUMBER_1] or [EMAIL_1].\n",
      "\n",
      "We are on row 299\n",
      "\n",
      "How is the effectiveness of the reflexology therapy? You can send the details to +31-975-008 4700 or Gilda84@gmail.com. Do mention about costs.\n",
      "\n",
      "How is the effectiveness of the reflexology therapy? You can send the details to [PHONENUMBER_1] or [EMAIL_1]. Do mention about costs.\n"
     ]
    },
    {
     "name": "stdout",
     "output_type": "stream",
     "text": [
      "Enter a new value for the unmasked text:  \n",
      "Enter a new value for the masked text:  How is the effectiveness of the [MEDICAL_1]? You can send the details to [PHONENUMBER_1] or [EMAIL_1]. Do mention about costs.\n"
     ]
    },
    {
     "name": "stdout",
     "output_type": "stream",
     "text": [
      "\n",
      "Updated Unmasked Text: How is the effectiveness of the reflexology therapy? You can send the details to +31-975-008 4700 or Gilda84@gmail.com. Do mention about costs.\n",
      "\n",
      "Updated Masked Text: How is the effectiveness of the [MEDICAL_1]? You can send the details to [PHONENUMBER_1] or [EMAIL_1]. Do mention about costs.\n",
      "\n"
     ]
    }
   ],
   "source": [
    "for i in range(286, 300):\n",
    "    # print the original unmasked and masked text\n",
    "    print(f\"We are on row {i}\\n\")\n",
    "    print(f\"{df.loc[i, 'unmasked_text']}\\n\")\n",
    "    print(f\"{df.loc[i, 'masked_text']}\")\n",
    "    print(f\"{df.loc[i, 'privacy_mask']}\")\n",
    "\n",
    "\n",
    "    # input new value for the masked text and update df \n",
    "    new_value = input(\"Enter a new value for the unmasked text: \")\n",
    "    if new_value.lower() == 'stop': # use stop to break out if necessary\n",
    "        print(\"Stopping the loop.\")\n",
    "        break\n",
    "    elif new_value != \"\": # keep original\n",
    "        df.loc[i, 'unmasked_text'] = new_value\n",
    "    # keep original otherwise\n",
    "    \n",
    "    # input a new value for the masked text and update df \n",
    "    new_value = input(\"Enter a new value for the masked text: \")\n",
    "    if new_value.lower() == 'stop': # use stop to break out if necessary\n",
    "        print(\"Stopping the loop.\")\n",
    "        break\n",
    "    elif new_value != \"\": \n",
    "        df.loc[i, 'masked_text'] = new_value\n",
    "    # keep original otherwise\n",
    "    \n",
    "    print(f\"\\nUpdated Unmasked Text: {df.loc[i, 'unmasked_text']}\\n\")\n",
    "    print(f\"Updated Masked Text: {df.loc[i, 'masked_text']}\\n\")"
   ]
  },
  {
   "cell_type": "code",
   "execution_count": 31,
   "id": "925947de-b3b4-4452-acd2-e3baf0c58cb9",
   "metadata": {},
   "outputs": [],
   "source": [
    "# save my df to the 'data' folder\n",
    "filepath = os.path.join(os.getcwd(), 'data', 'maker_day_stella_mini_df.csv')\n",
    "df.to_csv(filepath)"
   ]
  },
  {
   "cell_type": "code",
   "execution_count": 12,
   "id": "5dc1d6ab-6c0e-48fd-8524-fcb9f4a3a4ab",
   "metadata": {},
   "outputs": [
    {
     "data": {
      "text/html": [
       "<div>\n",
       "<style scoped>\n",
       "    .dataframe tbody tr th:only-of-type {\n",
       "        vertical-align: middle;\n",
       "    }\n",
       "\n",
       "    .dataframe tbody tr th {\n",
       "        vertical-align: top;\n",
       "    }\n",
       "\n",
       "    .dataframe thead th {\n",
       "        text-align: right;\n",
       "    }\n",
       "</style>\n",
       "<table border=\"1\" class=\"dataframe\">\n",
       "  <thead>\n",
       "    <tr style=\"text-align: right;\">\n",
       "      <th></th>\n",
       "      <th>Unnamed: 0</th>\n",
       "      <th>unmasked_text</th>\n",
       "      <th>masked_text</th>\n",
       "    </tr>\n",
       "  </thead>\n",
       "  <tbody>\n",
       "    <tr>\n",
       "      <th>0</th>\n",
       "      <td>200</td>\n",
       "      <td>Hello Mr. Juston Keebler, This is to remind yo...</td>\n",
       "      <td>Hello [PREFIX_1] [FIRSTNAME_1] [LASTNAME_1], T...</td>\n",
       "    </tr>\n",
       "    <tr>\n",
       "      <th>1</th>\n",
       "      <td>201</td>\n",
       "      <td>Dear Principal Interactions Executive, we've p...</td>\n",
       "      <td>Dear [JOBTITLE_1], we've partnered with an NGO...</td>\n",
       "    </tr>\n",
       "    <tr>\n",
       "      <th>2</th>\n",
       "      <td>202</td>\n",
       "      <td>Esteemed Judge Schuppe, I write seeking your v...</td>\n",
       "      <td>Esteemed [JOBTITLE_1] [LASTNAME_1], I write se...</td>\n",
       "    </tr>\n",
       "    <tr>\n",
       "      <th>3</th>\n",
       "      <td>203</td>\n",
       "      <td>Parent Volunteers required for craft supplies ...</td>\n",
       "      <td>Parent Volunteers required for craft supplies ...</td>\n",
       "    </tr>\n",
       "    <tr>\n",
       "      <th>4</th>\n",
       "      <td>204</td>\n",
       "      <td>In our upcoming ethics committee meeting, we n...</td>\n",
       "      <td>In our upcoming ethics committee meeting, we n...</td>\n",
       "    </tr>\n",
       "  </tbody>\n",
       "</table>\n",
       "</div>"
      ],
      "text/plain": [
       "   Unnamed: 0                                      unmasked_text  \\\n",
       "0         200  Hello Mr. Juston Keebler, This is to remind yo...   \n",
       "1         201  Dear Principal Interactions Executive, we've p...   \n",
       "2         202  Esteemed Judge Schuppe, I write seeking your v...   \n",
       "3         203  Parent Volunteers required for craft supplies ...   \n",
       "4         204  In our upcoming ethics committee meeting, we n...   \n",
       "\n",
       "                                         masked_text  \n",
       "0  Hello [PREFIX_1] [FIRSTNAME_1] [LASTNAME_1], T...  \n",
       "1  Dear [JOBTITLE_1], we've partnered with an NGO...  \n",
       "2  Esteemed [JOBTITLE_1] [LASTNAME_1], I write se...  \n",
       "3  Parent Volunteers required for craft supplies ...  \n",
       "4  In our upcoming ethics committee meeting, we n...  "
      ]
     },
     "execution_count": 12,
     "metadata": {},
     "output_type": "execute_result"
    }
   ],
   "source": [
    "mini_df = pd.read_csv('/Users/stellahuang/Downloads/AmexSensitiveData/data/maker_day_shrieyaa_stella_mini200_df.csv')\n",
    "mini_df.head()"
   ]
  },
  {
   "cell_type": "code",
   "execution_count": 14,
   "id": "874b3bf7-ae97-439e-895d-122d137f23a1",
   "metadata": {},
   "outputs": [],
   "source": [
    "extracted_rows = pd.concat([df.loc[200:299, 'privacy_mask'], df.loc[1100:1199, 'privacy_mask']]).reset_index(drop=True)\n",
    "mini_df['privacy_mask'] = extracted_rows"
   ]
  },
  {
   "cell_type": "code",
   "execution_count": 15,
   "id": "d7173363-a42c-43ea-9110-ed6d881e4998",
   "metadata": {},
   "outputs": [
    {
     "data": {
      "text/html": [
       "<div>\n",
       "<style scoped>\n",
       "    .dataframe tbody tr th:only-of-type {\n",
       "        vertical-align: middle;\n",
       "    }\n",
       "\n",
       "    .dataframe tbody tr th {\n",
       "        vertical-align: top;\n",
       "    }\n",
       "\n",
       "    .dataframe thead th {\n",
       "        text-align: right;\n",
       "    }\n",
       "</style>\n",
       "<table border=\"1\" class=\"dataframe\">\n",
       "  <thead>\n",
       "    <tr style=\"text-align: right;\">\n",
       "      <th></th>\n",
       "      <th>Unnamed: 0</th>\n",
       "      <th>unmasked_text</th>\n",
       "      <th>masked_text</th>\n",
       "      <th>privacy_mask</th>\n",
       "    </tr>\n",
       "  </thead>\n",
       "  <tbody>\n",
       "    <tr>\n",
       "      <th>0</th>\n",
       "      <td>200</td>\n",
       "      <td>Hello Mr. Juston Keebler, This is to remind yo...</td>\n",
       "      <td>Hello [PREFIX_1] [FIRSTNAME_1] [LASTNAME_1], T...</td>\n",
       "      <td>{'[FIRSTNAME_1]': 'Juston', '[LASTNAME_1]': 'K...</td>\n",
       "    </tr>\n",
       "    <tr>\n",
       "      <th>1</th>\n",
       "      <td>201</td>\n",
       "      <td>Dear Principal Interactions Executive, we've p...</td>\n",
       "      <td>Dear [JOBTITLE_1], we've partnered with an NGO...</td>\n",
       "      <td>{'[JOBTITLE_1]': 'Principal Interactions Execu...</td>\n",
       "    </tr>\n",
       "    <tr>\n",
       "      <th>2</th>\n",
       "      <td>202</td>\n",
       "      <td>Esteemed Judge Schuppe, I write seeking your v...</td>\n",
       "      <td>Esteemed [JOBTITLE_1] [LASTNAME_1], I write se...</td>\n",
       "      <td>{'[LASTNAME_1]': 'Schuppe', '[COUNTY_1]': 'Dou...</td>\n",
       "    </tr>\n",
       "    <tr>\n",
       "      <th>3</th>\n",
       "      <td>203</td>\n",
       "      <td>Parent Volunteers required for craft supplies ...</td>\n",
       "      <td>Parent Volunteers required for craft supplies ...</td>\n",
       "      <td>{'[ZIPCODE_1]': '91724-4349', '[PHONENUMBER_1]...</td>\n",
       "    </tr>\n",
       "    <tr>\n",
       "      <th>4</th>\n",
       "      <td>204</td>\n",
       "      <td>In our upcoming ethics committee meeting, we n...</td>\n",
       "      <td>In our upcoming ethics committee meeting, we n...</td>\n",
       "      <td>{'[SSN_1]': '756.6471.8923', '[PHONEIMEI_1]': ...</td>\n",
       "    </tr>\n",
       "  </tbody>\n",
       "</table>\n",
       "</div>"
      ],
      "text/plain": [
       "   Unnamed: 0                                      unmasked_text  \\\n",
       "0         200  Hello Mr. Juston Keebler, This is to remind yo...   \n",
       "1         201  Dear Principal Interactions Executive, we've p...   \n",
       "2         202  Esteemed Judge Schuppe, I write seeking your v...   \n",
       "3         203  Parent Volunteers required for craft supplies ...   \n",
       "4         204  In our upcoming ethics committee meeting, we n...   \n",
       "\n",
       "                                         masked_text  \\\n",
       "0  Hello [PREFIX_1] [FIRSTNAME_1] [LASTNAME_1], T...   \n",
       "1  Dear [JOBTITLE_1], we've partnered with an NGO...   \n",
       "2  Esteemed [JOBTITLE_1] [LASTNAME_1], I write se...   \n",
       "3  Parent Volunteers required for craft supplies ...   \n",
       "4  In our upcoming ethics committee meeting, we n...   \n",
       "\n",
       "                                        privacy_mask  \n",
       "0  {'[FIRSTNAME_1]': 'Juston', '[LASTNAME_1]': 'K...  \n",
       "1  {'[JOBTITLE_1]': 'Principal Interactions Execu...  \n",
       "2  {'[LASTNAME_1]': 'Schuppe', '[COUNTY_1]': 'Dou...  \n",
       "3  {'[ZIPCODE_1]': '91724-4349', '[PHONENUMBER_1]...  \n",
       "4  {'[SSN_1]': '756.6471.8923', '[PHONEIMEI_1]': ...  "
      ]
     },
     "execution_count": 15,
     "metadata": {},
     "output_type": "execute_result"
    }
   ],
   "source": [
    "mini_df.head()"
   ]
  },
  {
   "cell_type": "code",
   "execution_count": 21,
   "id": "493b41a3-2748-4531-8bb6-8d2368b2fadc",
   "metadata": {},
   "outputs": [
    {
     "name": "stdout",
     "output_type": "stream",
     "text": [
      "We are on row 9\n",
      "\n",
      "Clay, a Legacy Program Analyst in the Metrics. I'd like to make an appointment for a dental consultation. Could you please call me at (777) 0908386 or email at Bernadette79@gmail.com? You can also reach me via my Facebook, clay_basketball_legacy.\n",
      "\n",
      "[FIRSTNAME_1], a [JOBTITLE_1] in the [JOBAREA_1]. I'd like to make an appointment for a [MEDICAL_1]. Could you please call me at [PHONENUMBER_1] or email at [EMAIL_1]? You can also reach me via my Facebook, [USERNAME_1].\n",
      "\n",
      "{'[FIRSTNAME_1]': 'Clay', '[JOBTITLE_1]': 'Legacy Program Analyst', '[JOBAREA_1]': 'Metrics', '[MEDICAL_1]': 'dental consultation', '[PHONENUMBER_1]': '(777) 0908386', '[EMAIL_1]': 'Bernadette79@gmail.com', '[USERNAME_1]'}\n",
      "\n"
     ]
    },
    {
     "name": "stdin",
     "output_type": "stream",
     "text": [
      "Enter a new value for the privacy_mask:  {'[FIRSTNAME_1]': 'Clay', '[JOBTITLE_1]': 'Legacy Program Analyst', '[JOBAREA_1]': 'Metrics', '[MEDICAL_1]': 'dental consultation', '[PHONENUMBER_1]': '(777) 0908386', '[EMAIL_1]': 'Bernadette79@gmail.com', '[USERNAME_1]': 'clay_basketball_legacy'}\n"
     ]
    },
    {
     "name": "stdout",
     "output_type": "stream",
     "text": [
      "\n",
      "Updated Privacy Mask: {'[FIRSTNAME_1]': 'Clay', '[JOBTITLE_1]': 'Legacy Program Analyst', '[JOBAREA_1]': 'Metrics', '[MEDICAL_1]': 'dental consultation', '[PHONENUMBER_1]': '(777) 0908386', '[EMAIL_1]': 'Bernadette79@gmail.com', '[USERNAME_1]': 'clay_basketball_legacy'}\n",
      "\n",
      "We are on row 10\n",
      "\n",
      "The schedule for the next Direct Web Manager corporate training is now available. Confirm your participation at 059.094.6968.\n",
      "\n",
      "The schedule for the next [JOBTITLE_1] corporate training is now available. Confirm your participation at [PHONENUMBER_1].\n",
      "\n",
      "{'[JOBTITLE_1]': 'Direct Web Manager', '[PHONENUMBER_1]': '059.094.6968'}\n",
      "\n"
     ]
    },
    {
     "name": "stdin",
     "output_type": "stream",
     "text": [
      "Enter a new value for the privacy_mask:  \n"
     ]
    },
    {
     "name": "stdout",
     "output_type": "stream",
     "text": [
      "\n",
      "Updated Privacy Mask: {'[JOBTITLE_1]': 'Direct Web Manager', '[PHONENUMBER_1]': '059.094.6968'}\n",
      "\n",
      "We are on row 11\n",
      "\n",
      "Dear Parent, for any concerns regarding your child's performance in the Mobility exams, contact our helpline at (824)-0449875 or drop by our office located at 54014-8602 Apt. 701, 42433.\n",
      "\n",
      "Dear Parent, for any concerns regarding your child's performance in the [JOBAREA_1] exams, contact our helpline at [PHONENUMBER_1] or drop by our office located at [ZIPCODE_1] [SECONDARYADDRESS_1], [BUILDINGNUMBER_1].\n",
      "\n",
      "{'[JOBAREA_1]': 'Mobility', '[PHONENUMBER_1]': '(824)-0449875', '[ZIPCODE_1]': '54014-8602', '[SECONDARYADDRESS_1]': 'Apt. 701', '[BUILDINGNUMBER_1]': '42433'}\n",
      "\n"
     ]
    },
    {
     "name": "stdin",
     "output_type": "stream",
     "text": [
      "Enter a new value for the privacy_mask:  \n"
     ]
    },
    {
     "name": "stdout",
     "output_type": "stream",
     "text": [
      "\n",
      "Updated Privacy Mask: {'[JOBAREA_1]': 'Mobility', '[PHONENUMBER_1]': '(824)-0449875', '[ZIPCODE_1]': '54014-8602', '[SECONDARYADDRESS_1]': 'Apt. 701', '[BUILDINGNUMBER_1]': '42433'}\n",
      "\n",
      "We are on row 12\n",
      "\n",
      "Hey Male, help needed for updating our career counseling module. We're trying to implement new features, need your Direct Creative Developer skills. Reachable on +277-17 741-2407. Thanks!\n",
      "\n",
      "Hey [SEX_1], help needed for updating our [ORGANIZATION_1]. We're trying to implement new features, need your [JOBTITLE_1] skills. Reachable on [PHONENUMBER_1]. Thanks!\n",
      "\n",
      "{'[SEX_1]': 'Male', '[JOBTITLE_1]': 'Direct Creative Developer', '[PHONENUMBER_1]': '+277-17 741-2407'}\n",
      "\n"
     ]
    },
    {
     "name": "stdin",
     "output_type": "stream",
     "text": [
      "Enter a new value for the privacy_mask:  {'[SEX_1]': 'Male', '[ORGANIZATION_1]': 'career counseling module', '[JOBTITLE_1]': 'Direct Creative Developer', '[PHONENUMBER_1]': '+277-17 741-2407'}\n"
     ]
    },
    {
     "name": "stdout",
     "output_type": "stream",
     "text": [
      "\n",
      "Updated Privacy Mask: {'[SEX_1]': 'Male', '[ORGANIZATION_1]': 'career counseling module', '[JOBTITLE_1]': 'Direct Creative Developer', '[PHONENUMBER_1]': '+277-17 741-2407'}\n",
      "\n",
      "We are on row 13\n",
      "\n",
      "If any parent in 57905-8325 is involved in Science, Technology, Engineering, Art, and Math (STEAM) and wish to present a discussion/workshop, please call 07-27-75 07.37. Participation will be honored with Turkish Lira tokens. If your child suffers from asthma, please let us know.\n",
      "\n",
      "If any parent in [ZIPCODE_1] is involved in [ORGANIZATION_1] and wish to present a discussion/workshop, please call [PHONENUMBER_1]. Participation will be honored with [CURRENCYNAME_1] tokens. If your child suffers from [MEDICAL_1], please let us know.\n",
      "\n",
      "{'[ZIPCODE_1]': '57905-8325', '[PHONENUMBER_1]': '07-27-75 07.37', '[CURRENCYNAME_1]': 'Turkish Lira'}\n",
      "\n"
     ]
    },
    {
     "name": "stdin",
     "output_type": "stream",
     "text": [
      "Enter a new value for the privacy_mask:  {'[ZIPCODE_1]': '57905-8325', '[ORGANIZATION_1]': 'Science, Technology, Engineering, Art, and Math (STEAM)', '[PHONENUMBER_1]': '07-27-75 07.37', '[CURRENCYNAME_1]': 'Turkish Lira', '[MEDICAL_1]': 'asthma'}\n"
     ]
    },
    {
     "name": "stdout",
     "output_type": "stream",
     "text": [
      "\n",
      "Updated Privacy Mask: {'[ZIPCODE_1]': '57905-8325', '[ORGANIZATION_1]': 'Science, Technology, Engineering, Art, and Math (STEAM)', '[PHONENUMBER_1]': '07-27-75 07.37', '[CURRENCYNAME_1]': 'Turkish Lira', '[MEDICAL_1]': 'asthma'}\n",
      "\n",
      "We are on row 14\n",
      "\n",
      "This concerns the property located in 8800 Adams Circle, Port Emanueltown. Contact Leta Leuschke at 03 06.10 91 67 for more details.\n",
      "\n",
      "This concerns the property located in [BUILDINGNUMBER_1] [STREET_1], [CITY_1]. Contact [FIRSTNAME_1] [LASTNAME_1] at [PHONENUMBER_1] for more details.\n",
      "\n",
      "{'[BUILDINGNUMBER_1]': '8800', '[STREET_1]': 'Adams Circle', '[CITY_1]': 'Port Emanueltown', '[FIRSTNAME_1]': 'Leta', '[LASTNAME_1]': 'Leuschke', '[PHONENUMBER_1]': '03 06.10 91 67'}\n",
      "\n"
     ]
    },
    {
     "name": "stdin",
     "output_type": "stream",
     "text": [
      "Enter a new value for the privacy_mask:  \n"
     ]
    },
    {
     "name": "stdout",
     "output_type": "stream",
     "text": [
      "\n",
      "Updated Privacy Mask: {'[BUILDINGNUMBER_1]': '8800', '[STREET_1]': 'Adams Circle', '[CITY_1]': 'Port Emanueltown', '[FIRSTNAME_1]': 'Leta', '[LASTNAME_1]': 'Leuschke', '[PHONENUMBER_1]': '03 06.10 91 67'}\n",
      "\n",
      "We are on row 15\n",
      "\n",
      "To all our new Applications team members, welcome! Heart disease is a serious problem in the nation, so we are glad you are here to help. There is a training session on April 17, 1949. Don't forget to bring your employee ID card. For any queries regarding the session, contact us at 048.935-7623. Make sure to follow us on social media at heartdisease_prevention_US.\n",
      "\n",
      "To all our new [JOBAREA_1] team members, welcome! [MEDICAL_1] is a serious problem in the nation, so we are glad you are here to help. There is a training session on [DOB_1]. Don't forget to bring your employee ID card. For any queries regarding the session, contact us at [PHONENUMBER_1]. Make sure to follow us on social media at [USERNAME_1].\n",
      "\n",
      "{'[JOBAREA_1]': 'Applications', '[DOB_1]': 'April 17, 1949', '[PHONENUMBER_1]': '048.935-7623'}\n",
      "\n"
     ]
    },
    {
     "name": "stdin",
     "output_type": "stream",
     "text": [
      "Enter a new value for the privacy_mask:  {'[JOBAREA_1]': 'Applications', '[MEDICAL_1]': 'Heart disease', '[DOB_1]': 'April 17, 1949', '[PHONENUMBER_1]': '048.935-7623', '[USERNAME_1]': 'heartdisease_prevention_US'}\n"
     ]
    },
    {
     "name": "stdout",
     "output_type": "stream",
     "text": [
      "\n",
      "Updated Privacy Mask: {'[JOBAREA_1]': 'Applications', '[MEDICAL_1]': 'Heart disease', '[DOB_1]': 'April 17, 1949', '[PHONENUMBER_1]': '048.935-7623', '[USERNAME_1]': 'heartdisease_prevention_US'}\n",
      "\n",
      "We are on row 16\n",
      "\n",
      "Dear Jazmin_Heaney5, your health account with Personal Loan Account is due for renewal by 11 PM. Kindly process it ASAP. Reach us at 09430-872476.\n",
      "\n",
      "Dear [USERNAME_1], your health account with [ACCOUNTNAME_1] is due for renewal by [TIME_1]. Kindly process it ASAP. Reach us at [PHONENUMBER_1].\n",
      "\n",
      "{'[USERNAME_1]': 'Jazmin_Heaney5', '[ACCOUNTNAME_1]': 'Personal Loan Account', '[TIME_1]': '11 PM', '[PHONENUMBER_1]': '09430-872476'}\n",
      "\n"
     ]
    },
    {
     "name": "stdin",
     "output_type": "stream",
     "text": [
      "Enter a new value for the privacy_mask:  \n"
     ]
    },
    {
     "name": "stdout",
     "output_type": "stream",
     "text": [
      "\n",
      "Updated Privacy Mask: {'[USERNAME_1]': 'Jazmin_Heaney5', '[ACCOUNTNAME_1]': 'Personal Loan Account', '[TIME_1]': '11 PM', '[PHONENUMBER_1]': '09430-872476'}\n",
      "\n",
      "We are on row 17\n",
      "\n",
      "Dear Legacy Identity Engineer, We would like to discuss the new regulations in primary care protocols. Trying to reach you on your mobile number +219 182.608-4182. Please get back to us at your convenience.\n",
      "\n",
      "Dear [JOBTITLE_1], We would like to discuss the new regulations in [MEDICAL_1] protocols. Trying to reach you on your mobile number [PHONENUMBER_1]. Please get back to us at your convenience.\n",
      "\n",
      "{'[JOBTITLE_1]': 'Legacy Identity Engineer', '[PHONENUMBER_1]': '+219 182.608-4182'}\n",
      "\n"
     ]
    },
    {
     "name": "stdin",
     "output_type": "stream",
     "text": [
      "Enter a new value for the privacy_mask:  {'[JOBTITLE_1]': 'Legacy Identity Engineer', '[MEDICAL_1]': 'primary care', '[PHONENUMBER_1]': '+219 182.608-4182'}\n"
     ]
    },
    {
     "name": "stdout",
     "output_type": "stream",
     "text": [
      "\n",
      "Updated Privacy Mask: {'[JOBTITLE_1]': 'Legacy Identity Engineer', '[MEDICAL_1]': 'primary care', '[PHONENUMBER_1]': '+219 182.608-4182'}\n",
      "\n",
      "We are on row 18\n",
      "\n",
      "Warren, please send me the finalized sales projections for next year. Send documents to my email Marta_Schuppe@yahoo.com. Call me later at (601) 2174515.\n",
      "\n",
      "[FIRSTNAME_1], please send me the finalized sales projections for next year. Send documents to my email [EMAIL_1]. Call me later at [PHONENUMBER_1].\n",
      "\n",
      "{'[FIRSTNAME_1]': 'Warren', '[EMAIL_1]': 'Marta_Schuppe@yahoo.com', '[PHONENUMBER_1]': '(601) 2174515'}\n",
      "\n"
     ]
    },
    {
     "name": "stdin",
     "output_type": "stream",
     "text": [
      "Enter a new value for the privacy_mask:  \n"
     ]
    },
    {
     "name": "stdout",
     "output_type": "stream",
     "text": [
      "\n",
      "Updated Privacy Mask: {'[FIRSTNAME_1]': 'Warren', '[EMAIL_1]': 'Marta_Schuppe@yahoo.com', '[PHONENUMBER_1]': '(601) 2174515'}\n",
      "\n",
      "We are on row 19\n",
      "\n",
      "Hello! Could you pass on these career choice resources to Amelie? He can be contacted at (978)-8155398. She’s looking to become an anesthesiologist who specializes in surgery patients. \n",
      "\n",
      "Hello! Could you pass on these career choice resources to [FIRSTNAME_1]? He can be contacted at [PHONENUMBER_1]. She’s looking to become an [JOBTITLE_1] who specializes in [MEDICAL_1] patients. \n",
      "\n",
      "{'[FIRSTNAME_1]': 'Amelie', '[PHONENUMBER_1]': '(978)-8155398'}\n",
      "\n"
     ]
    },
    {
     "name": "stdin",
     "output_type": "stream",
     "text": [
      "Enter a new value for the privacy_mask:  {'[FIRSTNAME_1]': 'Amelie', '[PHONENUMBER_1]': '(978)-8155398', '[JOBTITLE_1]': 'anesthesiologist', '[MEDICAL_1]': 'surgery'}\n"
     ]
    },
    {
     "name": "stdout",
     "output_type": "stream",
     "text": [
      "\n",
      "Updated Privacy Mask: {'[FIRSTNAME_1]': 'Amelie', '[PHONENUMBER_1]': '(978)-8155398', '[JOBTITLE_1]': 'anesthesiologist', '[MEDICAL_1]': 'surgery'}\n",
      "\n"
     ]
    }
   ],
   "source": [
    "for i in range(9, 20):\n",
    "    # print the original unmasked and masked text\n",
    "    print(f\"We are on row {i}\\n\")\n",
    "    print(f\"{mini_df.loc[i, 'unmasked_text']}\\n\")\n",
    "    print(f\"{mini_df.loc[i, 'masked_text']}\\n\")\n",
    "    print(f\"{mini_df.loc[i, 'privacy_mask']}\\n\")\n",
    "\n",
    "    # input new value for the masked text and update df \n",
    "    new_value = input(\"Enter a new value for the privacy_mask: \")\n",
    "    if new_value.lower() == 'stop': # use stop to break out if necessary\n",
    "        print(\"Stopping the loop.\")\n",
    "        break\n",
    "    elif new_value != \"\": # keep original\n",
    "        mini_df.loc[i, 'privacy_mask'] = new_value\n",
    "    # keep original otherwise\n",
    "    \n",
    "    print(f\"\\nUpdated Privacy Mask: {mini_df.loc[i, 'privacy_mask']}\\n\")"
   ]
  },
  {
   "cell_type": "code",
   "execution_count": null,
   "id": "045ba121-90bb-4a79-af1d-eec63a6c6a1b",
   "metadata": {},
   "outputs": [],
   "source": []
  }
 ],
 "metadata": {
  "kernelspec": {
   "display_name": "Python 3 (ipykernel)",
   "language": "python",
   "name": "python3"
  },
  "language_info": {
   "codemirror_mode": {
    "name": "ipython",
    "version": 3
   },
   "file_extension": ".py",
   "mimetype": "text/x-python",
   "name": "python",
   "nbconvert_exporter": "python",
   "pygments_lexer": "ipython3",
   "version": "3.12.1"
  }
 },
 "nbformat": 4,
 "nbformat_minor": 5
}

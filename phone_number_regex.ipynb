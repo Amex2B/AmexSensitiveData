{
 "cells": [
  {
   "cell_type": "code",
   "execution_count": 1,
   "metadata": {},
   "outputs": [],
   "source": [
    "# Import Regex\n",
    "import re\n",
    "import phonenumbers\n",
    "from phonenumbers import NumberParseException"
   ]
  },
  {
   "cell_type": "code",
   "execution_count": 2,
   "metadata": {},
   "outputs": [],
   "source": [
    "# Identify different formats of phone number (US)\n",
    "def is_phone_number(phone):\n",
    "    patterns = [\n",
    "        r'^\\d{3}-\\d{3}-\\d{4}$',            # 123-456-7890\n",
    "        r'^\\(\\d{3}\\)\\s\\d{3}-\\d{4}$',       # (123) 456-7890\n",
    "        r'^\\d{3}\\.\\d{3}\\.\\d{4}$',          # 123.456.7890\n",
    "        r'^\\+?\\d{1,2}-\\d{3}-\\d{3}-\\d{4}$', # +1-123-456-7890 or 1-123-456-7890\n",
    "        r'^\\d{10}$',                        # 1234567890\n",
    "\n",
    "        # To match stranger formats\n",
    "        r'^\\+?\\d{1,3}[\\s.-]\\d{3}[\\s.-]\\d{3}[\\s.-]\\d{4}$',  # +553 575-381.4440, +21.13 926 7829\n",
    "        r'^00\\d{1,3}[\\s.-]?\\d{2,3}[\\s.-]?\\d{3}[\\s.-]?\\d{4}$',  # 002716236.1690, 0049 48 490.5598\n",
    "    ]\n",
    "\n",
    "    # Check if the phone number matches any of the patterns\n",
    "    for pattern in patterns:\n",
    "        if re.match(pattern, phone):\n",
    "            return True\n",
    "    return False\n"
   ]
  },
  {
   "cell_type": "code",
   "execution_count": 3,
   "metadata": {},
   "outputs": [
    {
     "name": "stdout",
     "output_type": "stream",
     "text": [
      "True\n",
      "True\n",
      "True\n",
      "True\n",
      "True\n",
      "True\n",
      "True\n",
      "True\n",
      "False\n",
      "False\n",
      "False\n"
     ]
    }
   ],
   "source": [
    "# Test 1\n",
    "test_inputs = [\n",
    "    '(123) 456-7890',\n",
    "    '123-456-7890',\n",
    "    '482.950.3182',\n",
    "    '+1-123-456-7890',\n",
    "    '3489820455',\n",
    "    '+553 575-381.4440', \n",
    "    '002716236.1690', \n",
    "    '0049 48 490.5598', \n",
    "    '+21.13 926 7829', # invalid\n",
    "    '+41 15-968.9292', # invalid\n",
    "    '1234-567-890'     # invalid\n",
    "]\n",
    "\n",
    "for text in test_inputs:\n",
    "    print(is_phone_number(text))"
   ]
  }
 ],
 "metadata": {
  "kernelspec": {
   "display_name": "base",
   "language": "python",
   "name": "python3"
  },
  "language_info": {
   "codemirror_mode": {
    "name": "ipython",
    "version": 3
   },
   "file_extension": ".py",
   "mimetype": "text/x-python",
   "name": "python",
   "nbconvert_exporter": "python",
   "pygments_lexer": "ipython3",
   "version": "3.11.7"
  }
 },
 "nbformat": 4,
 "nbformat_minor": 2
}

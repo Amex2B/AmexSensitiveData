{
 "cells": [
  {
   "cell_type": "code",
   "execution_count": 1,
   "id": "6487c45d-74fd-4c19-abea-190e8e919267",
   "metadata": {},
   "outputs": [],
   "source": [
    "import re\n",
    "import pandas as pd\n",
    "import os"
   ]
  },
  {
   "cell_type": "code",
   "execution_count": 16,
   "id": "af814eeb-afca-4bf9-a89b-adac56080ea2",
   "metadata": {},
   "outputs": [],
   "source": [
    "def is_phone_number(phone):\n",
    "    patterns = [\n",
    "        # allows for mixed separators, optional parentheses around area code, international code\n",
    "        r'^\\+?\\d{1,3}?[-. ]?\\(?\\d{3}\\)?[-. ]?\\d{3}[-. ]?\\d{4}$',\n",
    "        # no international code\n",
    "        r'^\\(?\\d{3}\\)?[-. ]?\\d{3}[-. ]?\\d{4}$'\n",
    "    ]\n",
    "    \n",
    "    for pattern in patterns:\n",
    "        if re.match(pattern, phone):\n",
    "           return True \n",
    "    \n",
    "    return False"
   ]
  },
  {
   "cell_type": "code",
   "execution_count": 5,
   "id": "bf4d4929-5fd3-4620-92ad-19e8a7934440",
   "metadata": {},
   "outputs": [
    {
     "name": "stdout",
     "output_type": "stream",
     "text": [
      "123-456-7890: True\n",
      "123456-7890: True\n",
      "123.456-7890: True\n",
      "(123) 456-7890: True\n",
      "123.456.7890: True\n",
      "+1-123-456-7890: True\n",
      "1-123-456-7890: True\n",
      "1 (123) 456-7890: True\n",
      "1234567890: True\n",
      "123 456 7890: True\n",
      "(111)-222-3333: True\n",
      "+1 123-456.7890: True\n",
      "(123)-4567890: True\n",
      "+959.049 439-1055: True\n",
      "(01)-2345 6789: False\n",
      "+21.13 926 7829: False\n",
      "+41 15-968.9292: False\n",
      "1234-567-890: False\n"
     ]
    }
   ],
   "source": [
    "test_inputs = [\n",
    "    '123-456-7890',\n",
    "    '123456-7890',\n",
    "    '123.456-7890',\n",
    "    '(123) 456-7890',\n",
    "    '123.456.7890',\n",
    "    '+1-123-456-7890',\n",
    "    '1-123-456-7890',\n",
    "    '1 (123) 456-7890',\n",
    "    '1234567890',\n",
    "    '123 456 7890',\n",
    "    '(111)-222-3333',\n",
    "    '+1 123-456.7890',\n",
    "    '(123)-4567890',\n",
    "    '+959.049 439-1055', \n",
    "    # invalid starts here\n",
    "    '(01)-2345 6789',\n",
    "    '+21.13 926 7829',\n",
    "    '+41 15-968.9292', \n",
    "    '1234-567-890'\n",
    "]\n",
    "for text in test_inputs:\n",
    "    print(f'{text}: {is_phone_number(text)}')"
   ]
  },
  {
   "cell_type": "code",
   "execution_count": 7,
   "id": "98c7b8cc-0092-4b06-aea9-58d0c4d4f768",
   "metadata": {},
   "outputs": [
    {
     "data": {
      "text/html": [
       "<div>\n",
       "<style scoped>\n",
       "    .dataframe tbody tr th:only-of-type {\n",
       "        vertical-align: middle;\n",
       "    }\n",
       "\n",
       "    .dataframe tbody tr th {\n",
       "        vertical-align: top;\n",
       "    }\n",
       "\n",
       "    .dataframe thead th {\n",
       "        text-align: right;\n",
       "    }\n",
       "</style>\n",
       "<table border=\"1\" class=\"dataframe\">\n",
       "  <thead>\n",
       "    <tr style=\"text-align: right;\">\n",
       "      <th></th>\n",
       "      <th>unmasked_text</th>\n",
       "      <th>masked_text</th>\n",
       "      <th>phone_number</th>\n",
       "    </tr>\n",
       "  </thead>\n",
       "  <tbody>\n",
       "    <tr>\n",
       "      <th>0</th>\n",
       "      <td>Mr. Franecki, we have scheduled a learning ass...</td>\n",
       "      <td>[PREFIX_1] [LASTNAME_1], we have scheduled a l...</td>\n",
       "      <td>(612).3785804</td>\n",
       "    </tr>\n",
       "    <tr>\n",
       "      <th>1</th>\n",
       "      <td>The palliative care team is coordinating a hom...</td>\n",
       "      <td>The palliative care team is coordinating a hom...</td>\n",
       "      <td>09.48-67 61 36</td>\n",
       "    </tr>\n",
       "    <tr>\n",
       "      <th>2</th>\n",
       "      <td>We've updated your next appointment, Tavares. ...</td>\n",
       "      <td>We've updated your next appointment, [FIRSTNAM...</td>\n",
       "      <td>+19-302 725.8274</td>\n",
       "    </tr>\n",
       "    <tr>\n",
       "      <th>3</th>\n",
       "      <td>Lawrence County Sports department is conductin...</td>\n",
       "      <td>[COUNTY_1] Sports department is conducting a p...</td>\n",
       "      <td>+97-259 289.7050</td>\n",
       "    </tr>\n",
       "    <tr>\n",
       "      <th>4</th>\n",
       "      <td>Dear Ivory, Your appointment with Dr. Frami re...</td>\n",
       "      <td>Dear [FIRSTNAME_1], Your appointment with Dr. ...</td>\n",
       "      <td>(842)-6372460</td>\n",
       "    </tr>\n",
       "  </tbody>\n",
       "</table>\n",
       "</div>"
      ],
      "text/plain": [
       "                                       unmasked_text  \\\n",
       "0  Mr. Franecki, we have scheduled a learning ass...   \n",
       "1  The palliative care team is coordinating a hom...   \n",
       "2  We've updated your next appointment, Tavares. ...   \n",
       "3  Lawrence County Sports department is conductin...   \n",
       "4  Dear Ivory, Your appointment with Dr. Frami re...   \n",
       "\n",
       "                                         masked_text      phone_number  \n",
       "0  [PREFIX_1] [LASTNAME_1], we have scheduled a l...     (612).3785804  \n",
       "1  The palliative care team is coordinating a hom...    09.48-67 61 36  \n",
       "2  We've updated your next appointment, [FIRSTNAM...  +19-302 725.8274  \n",
       "3  [COUNTY_1] Sports department is conducting a p...  +97-259 289.7050  \n",
       "4  Dear [FIRSTNAME_1], Your appointment with Dr. ...     (842)-6372460  "
      ]
     },
     "execution_count": 7,
     "metadata": {},
     "output_type": "execute_result"
    }
   ],
   "source": [
    "filepath = os.path.join(os.getcwd(), '..', 'data', 'extracted_tel_numbers_english.csv')\n",
    "df = pd.read_csv(filepath)\n",
    "df.head()"
   ]
  },
  {
   "cell_type": "code",
   "execution_count": 10,
   "id": "709319c5-76db-4b5a-bdfe-7e6344ca0af9",
   "metadata": {},
   "outputs": [
    {
     "name": "stdout",
     "output_type": "stream",
     "text": [
      "['(612).3785804', '09.48-67 61 36', '+19-302 725.8274', '+97-259 289.7050', '(842)-6372460', '(017)-0128665', '1066-121.1337', '+717-584.257-0232', '04056 81940', '023 4733393']\n",
      "Number of \"O\": 1189\n",
      "Number of \"TEL\": 1228\n"
     ]
    }
   ],
   "source": [
    "phone_numbers = df['phone_number'].tolist()\n",
    "print(phone_numbers[0:10])\n",
    "\n",
    "target = []\n",
    "\n",
    "for text in phone_numbers:\n",
    "    if is_phone_number(text):\n",
    "        target.append('TEL')\n",
    "    else:\n",
    "        target.append('O')\n",
    "\n",
    "count_O = target.count('O')\n",
    "count_TEL = target.count('TEL')\n",
    "\n",
    "print(f'Number of \"O\": {count_O}')\n",
    "print(f'Number of \"TEL\": {count_TEL}')"
   ]
  },
  {
   "cell_type": "code",
   "execution_count": 11,
   "id": "7df1ada5-119d-4c6c-9c79-7a6b23274b20",
   "metadata": {},
   "outputs": [],
   "source": [
    "df['target'] = target\n",
    "df.head(10)"
   ]
  },
  {
   "cell_type": "code",
   "execution_count": 38,
   "id": "10d3bec9-8a96-4eba-af77-ab04d1d4db0c",
   "metadata": {},
   "outputs": [],
   "source": [
    "filepath = os.path.join(os.getcwd(), '..', 'data', 'extracted_tel_numbers_english_updated.csv')\n",
    "df.to_csv(filepath)"
   ]
  },
  {
   "cell_type": "markdown",
   "id": "edd63be6-1ba2-4ebc-8a72-1e3544fb7eb1",
   "metadata": {},
   "source": [
    "Accuracy computations start here."
   ]
  },
  {
   "cell_type": "code",
   "execution_count": 48,
   "id": "7ce99899-94c0-4f09-a825-13890fb15062",
   "metadata": {},
   "outputs": [],
   "source": [
    "filepath = os.path.join(os.getcwd(), '..', 'data', 'shrieyaa_mini_df_10-11.csv') # use shrieyaa's OLD manual classifications\n",
    "manual_target_df = pd.read_csv(filepath)\n",
    "\n",
    "filepath = os.path.join(os.getcwd(), '..', 'data', 'joy_mini_df_tel.csv') # get model's classifications\n",
    "accuracy_df = pd.read_csv(filepath)\n",
    "\n",
    "accuracy_df['manual_target'] = manual_target_df['manual_target'] # add manual classifications to same df as model classifications"
   ]
  },
  {
   "cell_type": "code",
   "execution_count": 49,
   "id": "58d17c93-c054-43a7-9d0c-eb7cd9111668",
   "metadata": {},
   "outputs": [
    {
     "data": {
      "text/html": [
       "<div>\n",
       "<style scoped>\n",
       "    .dataframe tbody tr th:only-of-type {\n",
       "        vertical-align: middle;\n",
       "    }\n",
       "\n",
       "    .dataframe tbody tr th {\n",
       "        vertical-align: top;\n",
       "    }\n",
       "\n",
       "    .dataframe thead th {\n",
       "        text-align: right;\n",
       "    }\n",
       "</style>\n",
       "<table border=\"1\" class=\"dataframe\">\n",
       "  <thead>\n",
       "    <tr style=\"text-align: right;\">\n",
       "      <th></th>\n",
       "      <th>Unnamed: 0.1</th>\n",
       "      <th>Unnamed: 0</th>\n",
       "      <th>unmasked_text</th>\n",
       "      <th>masked_text</th>\n",
       "      <th>phone_number</th>\n",
       "      <th>target</th>\n",
       "      <th>manual_target</th>\n",
       "    </tr>\n",
       "  </thead>\n",
       "  <tbody>\n",
       "    <tr>\n",
       "      <th>0</th>\n",
       "      <td>448</td>\n",
       "      <td>448</td>\n",
       "      <td>Got some exciting findings for individuals wit...</td>\n",
       "      <td>Got some exciting findings for individuals wit...</td>\n",
       "      <td>05196 04711</td>\n",
       "      <td>O</td>\n",
       "      <td>TEL</td>\n",
       "    </tr>\n",
       "    <tr>\n",
       "      <th>1</th>\n",
       "      <td>449</td>\n",
       "      <td>449</td>\n",
       "      <td>Name Simonis, your cognitive therapy session i...</td>\n",
       "      <td>[FIRSTNAME_1] [LASTNAME_1], your cognitive the...</td>\n",
       "      <td>1063 690.6267</td>\n",
       "      <td>TEL</td>\n",
       "      <td>TEL</td>\n",
       "    </tr>\n",
       "    <tr>\n",
       "      <th>2</th>\n",
       "      <td>450</td>\n",
       "      <td>450</td>\n",
       "      <td>Medical intervention and occupational therapy ...</td>\n",
       "      <td>Medical intervention and occupational therapy ...</td>\n",
       "      <td>+40-724-062 4764</td>\n",
       "      <td>TEL</td>\n",
       "      <td>TEL</td>\n",
       "    </tr>\n",
       "    <tr>\n",
       "      <th>3</th>\n",
       "      <td>451</td>\n",
       "      <td>451</td>\n",
       "      <td>Looking for a therapy session before 6 AM. Liv...</td>\n",
       "      <td>Looking for a therapy session before [TIME_1]....</td>\n",
       "      <td>03816-26306</td>\n",
       "      <td>O</td>\n",
       "      <td>O</td>\n",
       "    </tr>\n",
       "    <tr>\n",
       "      <th>4</th>\n",
       "      <td>452</td>\n",
       "      <td>452</td>\n",
       "      <td>Emergency meeting announced for Accounts assoc...</td>\n",
       "      <td>Emergency meeting announced for [JOBAREA_1] as...</td>\n",
       "      <td>+94.476-548.6102</td>\n",
       "      <td>TEL</td>\n",
       "      <td>TEL</td>\n",
       "    </tr>\n",
       "  </tbody>\n",
       "</table>\n",
       "</div>"
      ],
      "text/plain": [
       "   Unnamed: 0.1  Unnamed: 0  \\\n",
       "0           448         448   \n",
       "1           449         449   \n",
       "2           450         450   \n",
       "3           451         451   \n",
       "4           452         452   \n",
       "\n",
       "                                       unmasked_text  \\\n",
       "0  Got some exciting findings for individuals wit...   \n",
       "1  Name Simonis, your cognitive therapy session i...   \n",
       "2  Medical intervention and occupational therapy ...   \n",
       "3  Looking for a therapy session before 6 AM. Liv...   \n",
       "4  Emergency meeting announced for Accounts assoc...   \n",
       "\n",
       "                                         masked_text      phone_number target  \\\n",
       "0  Got some exciting findings for individuals wit...       05196 04711      O   \n",
       "1  [FIRSTNAME_1] [LASTNAME_1], your cognitive the...     1063 690.6267    TEL   \n",
       "2  Medical intervention and occupational therapy ...  +40-724-062 4764    TEL   \n",
       "3  Looking for a therapy session before [TIME_1]....       03816-26306      O   \n",
       "4  Emergency meeting announced for [JOBAREA_1] as...  +94.476-548.6102    TEL   \n",
       "\n",
       "  manual_target  \n",
       "0           TEL  \n",
       "1           TEL  \n",
       "2           TEL  \n",
       "3             O  \n",
       "4           TEL  "
      ]
     },
     "execution_count": 49,
     "metadata": {},
     "output_type": "execute_result"
    }
   ],
   "source": [
    "accuracy_df.head()"
   ]
  },
  {
   "cell_type": "code",
   "execution_count": 83,
   "id": "2825cecd-e3de-4566-bf78-1ac348b2a17e",
   "metadata": {},
   "outputs": [],
   "source": [
    "# correct for manual_target inaccuracies manually\n",
    "# accuracy_df[0:10]\n",
    "# accuracy_df[11:21]\n",
    "# accuracy_df[22:32]\n",
    "# accuracy_df[33:43]\n",
    "# accuracy_df[44:54]\n",
    "# accuracy_df[55:65]\n",
    "# accuracy_df[66:76]\n",
    "# accuracy_df[77:87]\n",
    "# accuracy_df[88:100]\n",
    "accuracy_df.iloc[0, 6] = 'O'\n",
    "accuracy_df.iloc[8, 6] = 'TEL'\n",
    "accuracy_df.iloc[36, 6] = 'TEL'\n",
    "accuracy_df.iloc[40, 6] = 'TEL'\n",
    "accuracy_df.iloc[49, 6] = 'TEL'\n",
    "accuracy_df.iloc[55, 6] = 'TEL'\n",
    "accuracy_df.iloc[82, 6] = 'TEL'\n",
    "accuracy_df.iloc[85, 6] = 'TEL'\n",
    "accuracy_df.iloc[88, 6] = 'TEL'"
   ]
  },
  {
   "cell_type": "code",
   "execution_count": 85,
   "id": "fb1c2e7d-16ef-4dd4-91c2-07f5c1ed4598",
   "metadata": {},
   "outputs": [],
   "source": [
    "manual_target_df['manual_target'] = accuracy_df['manual_target']\n",
    "filepath = os.path.join(os.getcwd(), '..', 'data', 'shrieyaa_mini_df_10-17.csv') # upload an updated version of shrieyaa's classifications\n",
    "manual_target_df.to_csv(filepath)"
   ]
  },
  {
   "cell_type": "code",
   "execution_count": 90,
   "id": "13414825-777a-4cd8-b617-34d71b54f003",
   "metadata": {},
   "outputs": [
    {
     "name": "stdout",
     "output_type": "stream",
     "text": [
      "\n",
      "True Positives: 49\n",
      "True Negatives: 51\n",
      "False Positives: 0\n",
      "False Negatives: 0\n",
      "Accuracy of 'target' with respect to 'manual_target': 100.00%\n",
      "Accuracy of original classication with respect to 'manual_target': 49.00%\n",
      "\n"
     ]
    }
   ],
   "source": [
    "# compute accuracy metrics\n",
    "total = len(accuracy_df)\n",
    "\n",
    "TP = len(accuracy_df[(accuracy_df['target'] == 'TEL') & (accuracy_df['manual_target'] == 'TEL')])\n",
    "TN = len(accuracy_df[(accuracy_df['target'] == 'O') & (accuracy_df['manual_target'] == 'O')])\n",
    "FP = len(accuracy_df[(accuracy_df['target'] == 'TEL') & (accuracy_df['manual_target'] == 'O')])\n",
    "FN = len(accuracy_df[(accuracy_df['target'] == 'O') & (accuracy_df['manual_target'] == 'TEL')])\n",
    "\n",
    "# compute our model accuracy\n",
    "correct_predictions = len(accuracy_df[accuracy_df['target'] == accuracy_df['manual_target']])\n",
    "my_accuracy = correct_predictions / total * 100\n",
    "\n",
    "# compute og model accuracy\n",
    "og_accuracy = TP / total * 100\n",
    "\n",
    "print(f\"\"\"\n",
    "True Positives: {TP}\n",
    "True Negatives: {TN}\n",
    "False Positives: {FP}\n",
    "False Negatives: {FN}\n",
    "Accuracy of 'target' with respect to 'manual_target': {my_accuracy:.2f}%\n",
    "Accuracy of original classication with respect to 'manual_target': {og_accuracy:.2f}%\n",
    "\"\"\")"
   ]
  },
  {
   "cell_type": "code",
   "execution_count": 91,
   "id": "ac935cae-7b04-40b4-8960-906659e69cc8",
   "metadata": {},
   "outputs": [
    {
     "data": {
      "image/png": "[encoded data removed]",
      "text/plain": [
       "<Figure size 800x600 with 2 Axes>"
      ]
     },
     "metadata": {},
     "output_type": "display_data"
    }
   ],
   "source": [
    "# create confusion matrix\n",
    "import seaborn as sns\n",
    "import matplotlib.pyplot as plt\n",
    "import numpy as np\n",
    "import pandas as pd\n",
    "\n",
    "# Assuming TP, TN, FP, FN have already been calculated\n",
    "\n",
    "# Create confusion matrix\n",
    "confusion_matrix = np.array([[TP, FN], \n",
    "                             [FP, TN]])\n",
    "\n",
    "# Create a DataFrame for the confusion matrix\n",
    "confusion_df = pd.DataFrame(confusion_matrix, \n",
    "                            columns=['Predicted Positive (TEL)', 'Predicted Negative (O)'], \n",
    "                            index=['Actual Positive (TEL)', 'Actual Negative (O)'])\n",
    "\n",
    "# Plotting the heatmap using seaborn\n",
    "plt.figure(figsize=(8, 6))\n",
    "sns.heatmap(confusion_df, annot=True, fmt='d', cmap='Blues', linewidths=0.5, linecolor='black')\n",
    "\n",
    "# Add labels and title for clarity\n",
    "plt.title('Confusion Matrix', fontsize=16)\n",
    "plt.ylabel('Actual', fontsize=12)\n",
    "plt.xlabel('Predicted', fontsize=12)\n",
    "\n",
    "# Show the plot\n",
    "plt.show()\n"
   ]
  },
  {
   "cell_type": "code",
   "execution_count": null,
   "id": "bdd84b5c-6913-4a62-92a0-78c3d808e9d6",
   "metadata": {},
   "outputs": [],
   "source": []
  }
 ],
 "metadata": {
  "kernelspec": {
   "display_name": "Python 3 (ipykernel)",
   "language": "python",
   "name": "python3"
  },
  "language_info": {
   "codemirror_mode": {
    "name": "ipython",
    "version": 3
   },
   "file_extension": ".py",
   "mimetype": "text/x-python",
   "name": "python",
   "nbconvert_exporter": "python",
   "pygments_lexer": "ipython3",
   "version": "3.12.1"
  }
 },
 "nbformat": 4,
 "nbformat_minor": 5
}

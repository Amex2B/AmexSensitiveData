{
  "cells": [
    {
      "cell_type": "code",
      "execution_count": 1,
      "id": "6487c45d-74fd-4c19-abea-190e8e919267",
      "metadata": {
        "id": "6487c45d-74fd-4c19-abea-190e8e919267"
      },
      "outputs": [],
      "source": [
        "import re\n",
        "import pandas as pd\n",
        "import os"
      ]
    },
    {
      "cell_type": "code",
      "execution_count": 2,
      "id": "af814eeb-afca-4bf9-a89b-adac56080ea2",
      "metadata": {
        "id": "af814eeb-afca-4bf9-a89b-adac56080ea2"
      },
      "outputs": [],
      "source": []
    },
    {
      "cell_type": "code",
      "source": [
        "def is_valid_account_number(text):\n",
        "    # - Look for variations of the word \"account\" (account, accnt, acct, acc, a/c, etc.)\n",
        "    # - Followed by optional symbols, and then a 7 or 8 digit account number\n",
        "    pattern = r'(?i)\\b(?:account|accnt|acct|acc|a/c|a\\.c\\.|a-c)[^\\d]*(\\d{7,8})\\b'\n",
        "\n",
        "    match = re.search(pattern, text)\n",
        "\n",
        "    return bool(match)\n",
        "\n",
        "test_inputs = [\n",
        "    \"Please refer to account number 1234567 for more information.\",\n",
        "    \"The acct.12345678 has been processed successfully.\",\n",
        "    \"Account 1234567 has been updated.\",\n",
        "    \"Your accnt1234567 is now active.\",\n",
        "    \"AccNo: 12345678, check for updates.\",\n",
        "    \"Please transfer the funds to a/c no. 7654321 immediately.\",\n",
        "    \"The user's acc1234567 has been disabled.\",\n",
        "    \"For security reasons, we masked acct# 98765432.\",\n",
        "    \"Account number: 8765432 was accessed by an unauthorized source.\",\n",
        "    \"Your bank accnt no. 1234567 has been verified.\",\n",
        "    \"Please contact customer support.\",\n",
        "    \"The account number is not available at the moment.\",\n",
        "    \"Invalid accnt 12345 number provided.\",\n",
        "    \"No account details found for the user.\",\n",
        "    \"Account XXXXXXXXXX does not exist.\",\n",
        "    \"accnt: 1234567 \",\n",
        "    \"account---12345678!!!\",\n",
        "    \"Please check your acct 12345678.\",\n",
        "    \"Details for A/C 1234567.\"\n",
        "]\n",
        "\n",
        "for text in test_inputs:\n",
        "    print(f\"Input: {text}\")\n",
        "    print(f\"Contains valid account number: {is_valid_account_number(text)}\")\n",
        "    print(\"-\" * 50)\n"
      ],
      "metadata": {
        "colab": {
          "base_uri": "https://localhost:8080/"
        },
        "id": "PrNi0okeShjY",
        "outputId": "3031348b-7feb-4121-ad25-141fada43f83"
      },
      "id": "PrNi0okeShjY",
      "execution_count": 4,
      "outputs": [
        {
          "output_type": "stream",
          "name": "stdout",
          "text": [
            "Input: Please refer to account number 1234567 for more information.\n",
            "Contains valid account number: True\n",
            "--------------------------------------------------\n",
            "Input: The acct.12345678 has been processed successfully.\n",
            "Contains valid account number: True\n",
            "--------------------------------------------------\n",
            "Input: Account 1234567 has been updated.\n",
            "Contains valid account number: True\n",
            "--------------------------------------------------\n",
            "Input: Your accnt1234567 is now active.\n",
            "Contains valid account number: True\n",
            "--------------------------------------------------\n",
            "Input: AccNo: 12345678, check for updates.\n",
            "Contains valid account number: True\n",
            "--------------------------------------------------\n",
            "Input: Please transfer the funds to a/c no. 7654321 immediately.\n",
            "Contains valid account number: True\n",
            "--------------------------------------------------\n",
            "Input: The user's acc1234567 has been disabled.\n",
            "Contains valid account number: True\n",
            "--------------------------------------------------\n",
            "Input: For security reasons, we masked acct# 98765432.\n",
            "Contains valid account number: True\n",
            "--------------------------------------------------\n",
            "Input: Account number: 8765432 was accessed by an unauthorized source.\n",
            "Contains valid account number: True\n",
            "--------------------------------------------------\n",
            "Input: Your bank accnt no. 1234567 has been verified.\n",
            "Contains valid account number: True\n",
            "--------------------------------------------------\n",
            "Input: Please contact customer support.\n",
            "Contains valid account number: False\n",
            "--------------------------------------------------\n",
            "Input: The account number is not available at the moment.\n",
            "Contains valid account number: False\n",
            "--------------------------------------------------\n",
            "Input: Invalid accnt 12345 number provided.\n",
            "Contains valid account number: False\n",
            "--------------------------------------------------\n",
            "Input: No account details found for the user.\n",
            "Contains valid account number: False\n",
            "--------------------------------------------------\n",
            "Input: Account XXXXXXXXXX does not exist.\n",
            "Contains valid account number: False\n",
            "--------------------------------------------------\n",
            "Input: accnt: 1234567 \n",
            "Contains valid account number: True\n",
            "--------------------------------------------------\n",
            "Input: account---12345678!!!\n",
            "Contains valid account number: True\n",
            "--------------------------------------------------\n",
            "Input: Please check your acct 12345678.\n",
            "Contains valid account number: True\n",
            "--------------------------------------------------\n",
            "Input: Details for A/C 1234567.\n",
            "Contains valid account number: True\n",
            "--------------------------------------------------\n"
          ]
        }
      ]
    },
    {
      "cell_type": "code",
      "execution_count": 10,
      "id": "98c7b8cc-0092-4b06-aea9-58d0c4d4f768",
      "metadata": {
        "id": "98c7b8cc-0092-4b06-aea9-58d0c4d4f768"
      },
      "outputs": [],
      "source": [
        "filepath = os.path.join(os.getcwd(), 'extracted_account_numbers_english.csv')\n",
        "df = pd.read_csv(filepath)"
      ]
    },
    {
      "cell_type": "code",
      "execution_count": 15,
      "id": "709319c5-76db-4b5a-bdfe-7e6344ca0af9",
      "metadata": {
        "id": "709319c5-76db-4b5a-bdfe-7e6344ca0af9"
      },
      "outputs": [],
      "source": [
        "df['account_number_regex'] = df['unmasked_text'].apply(is_valid_account_number)"
      ]
    },
    {
      "cell_type": "code",
      "source": [
        "output_csv_regex = 'account_number_regex_shrieyaa.csv'\n",
        "df.to_csv(output_csv_regex, index=False)\n",
        "\n",
        "print(f\"Extracted account numbers using regex saved to {output_csv_regex}\")\n"
      ],
      "metadata": {
        "colab": {
          "base_uri": "https://localhost:8080/"
        },
        "id": "HNyR9wwtSIx1",
        "outputId": "beefcebf-c7ca-400a-ae76-0e057d1666ef"
      },
      "id": "HNyR9wwtSIx1",
      "execution_count": 16,
      "outputs": [
        {
          "output_type": "stream",
          "name": "stdout",
          "text": [
            "Extracted account numbers using regex saved to account_number_regex_shrieyaa.csv\n"
          ]
        }
      ]
    },
    {
      "cell_type": "code",
      "execution_count": 17,
      "id": "bdd84b5c-6913-4a62-92a0-78c3d808e9d6",
      "metadata": {
        "colab": {
          "base_uri": "https://localhost:8080/",
          "height": 17
        },
        "id": "bdd84b5c-6913-4a62-92a0-78c3d808e9d6",
        "outputId": "01d56d03-67b4-42b2-f585-3d7d7e16e86d"
      },
      "outputs": [
        {
          "output_type": "display_data",
          "data": {
            "text/plain": [
              "<IPython.core.display.Javascript object>"
            ],
            "application/javascript": [
              "\n",
              "    async function download(id, filename, size) {\n",
              "      if (!google.colab.kernel.accessAllowed) {\n",
              "        return;\n",
              "      }\n",
              "      const div = document.createElement('div');\n",
              "      const label = document.createElement('label');\n",
              "      label.textContent = `Downloading \"${filename}\": `;\n",
              "      div.appendChild(label);\n",
              "      const progress = document.createElement('progress');\n",
              "      progress.max = size;\n",
              "      div.appendChild(progress);\n",
              "      document.body.appendChild(div);\n",
              "\n",
              "      const buffers = [];\n",
              "      let downloaded = 0;\n",
              "\n",
              "      const channel = await google.colab.kernel.comms.open(id);\n",
              "      // Send a message to notify the kernel that we're ready.\n",
              "      channel.send({})\n",
              "\n",
              "      for await (const message of channel.messages) {\n",
              "        // Send a message to notify the kernel that we're ready.\n",
              "        channel.send({})\n",
              "        if (message.buffers) {\n",
              "          for (const buffer of message.buffers) {\n",
              "            buffers.push(buffer);\n",
              "            downloaded += buffer.byteLength;\n",
              "            progress.value = downloaded;\n",
              "          }\n",
              "        }\n",
              "      }\n",
              "      const blob = new Blob(buffers, {type: 'application/binary'});\n",
              "      const a = document.createElement('a');\n",
              "      a.href = window.URL.createObjectURL(blob);\n",
              "      a.download = filename;\n",
              "      div.appendChild(a);\n",
              "      a.click();\n",
              "      div.remove();\n",
              "    }\n",
              "  "
            ]
          },
          "metadata": {}
        },
        {
          "output_type": "display_data",
          "data": {
            "text/plain": [
              "<IPython.core.display.Javascript object>"
            ],
            "application/javascript": [
              "download(\"download_0d0f6c68-a45b-4a89-95ba-3a9aa8fae919\", \"account_number_regex_shrieyaa.csv\", 1088136)"
            ]
          },
          "metadata": {}
        }
      ],
      "source": [
        "from google.colab import files\n",
        "files.download(output_csv_regex)"
      ]
    },
    {
      "cell_type": "code",
      "source": [],
      "metadata": {
        "id": "rowpyz80TnLJ"
      },
      "id": "rowpyz80TnLJ",
      "execution_count": null,
      "outputs": []
    }
  ],
  "metadata": {
    "kernelspec": {
      "display_name": "Python 3 (ipykernel)",
      "language": "python",
      "name": "python3"
    },
    "language_info": {
      "codemirror_mode": {
        "name": "ipython",
        "version": 3
      },
      "file_extension": ".py",
      "mimetype": "text/x-python",
      "name": "python",
      "nbconvert_exporter": "python",
      "pygments_lexer": "ipython3",
      "version": "3.12.1"
    },
    "colab": {
      "provenance": []
    }
  },
  "nbformat": 4,
  "nbformat_minor": 5
}
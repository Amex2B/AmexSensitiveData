{
 "cells": [
  {
   "cell_type": "code",
   "execution_count": null,
   "id": "80602937-fb74-4fb7-80b8-7580fc7d31be",
   "metadata": {},
   "outputs": [],
   "source": [
    "Location like home addresses, GPS coordinates, or specific areas associated with an individual can uniquely identify a person \n",
    "or their habitual patterns, and concerns such as identity theft and tracking/profiling emerge. \n",
    "\n",
    "- street addresses \n",
    "- longitude/latitude (precise GPS coordinates)\n",
    "- city, state or neighborhood, city or region, country combinations (i.e. Brooklyn, New York)\n",
    "- abbreviated city/country, country, region codes (i.e. EU, SEA)\n",
    "- zip codes\n",
    "- ip addresses"
   ]
  },
  {
   "cell_type": "code",
   "execution_count": null,
   "id": "01224a4b-8083-48f0-b03d-ae239cbb62ae",
   "metadata": {},
   "outputs": [],
   "source": [
    "import re # regex"
   ]
  },
  {
   "cell_type": "code",
   "execution_count": 20,
   "id": "bc2b59a2-3eda-4711-93c2-0b3a79663f4e",
   "metadata": {},
   "outputs": [],
   "source": [
    "def is_location(input_text):\n",
    "    # pattern for address\n",
    "    street_address_pattern = re.compile(r'^\\d+\\s+[\\w\\s]+\\s+[A-Za-z\\s]+,\\s*[A-Z]{2}\\s*\\d{5}$')\n",
    "    # check if the input matches address pattern\n",
    "    if street_address_pattern.match(input_text):\n",
    "        return \"Input is a street address\"\n",
    "\n",
    "    # latitude/longitude pattern (decimal format)\n",
    "    lat_long_pattern = re.compile(r'[+-]?\\d{1,2}\\.\\d{1,6},\\s*[+-]?\\d{1,3}\\.\\d{1,6}')\n",
    "    # check if the input matches latitude/longitude pattern\n",
    "    if lat_long_pattern.match(input_text):\n",
    "        return \"input is a latitude/longitude location\"\n",
    "\n",
    "    # city, state or neighborhood, city pattern (e.g., Brooklyn, New York)\n",
    "    city_state_pattern = re.compile(r'([A-Za-z]+(?: [A-Za-z]+)*),\\s*([A-Za-z]+(?: [A-Za-z]+)*)')\n",
    "    # check if the input matches city, state pattern\n",
    "    if city_state_pattern.match(input_text):\n",
    "        return \"input is a city, state or neighborhood, city\"\n",
    "\n",
    "    # country or region codes (e.g., US, EU)\n",
    "    country_code_pattern = re.compile(r'[A-Za-z]{2,3}')\n",
    "    # check if the input matches country or region codes\n",
    "    if country_code_pattern.match(input_text):\n",
    "        return \"input is a country or region code\"\n",
    "\n",
    "    # abbreviated city/country (e.g., LA, USA)\n",
    "    abbrev_city_country_pattern = re.compile(r'[A-Z]{2,3}([A-Za-z]+)?')\n",
    "    # check if the input matches abbreviated city/country\n",
    "    if abbrev_city_country_pattern.match(input_text):\n",
    "        return \"input is an abbreviated city or country\"\n",
    "\n",
    "    # zip/postal code pattern (US and Canada)\n",
    "    zip_code_pattern = re.compile(r'\\d{5}(-\\d{4})?')\n",
    "    # check if the input matches zip code\n",
    "    if zip_code_pattern.match(input_text):\n",
    "        return \"input is a zip code\"\n",
    "    \n",
    "    # ip address pattern (IPv4)\n",
    "    ip_address_pattern = re.compile(r'\\b(?:\\d{1,3}\\.){3}\\d{1,3}\\b')\n",
    "    # check if the input matches ip address\n",
    "    if ip_address_pattern.match(input_text):\n",
    "        return \"input is an ip address\"\n",
    "\n",
    "    return \"Input does not match a location format\""
   ]
  },
  {
   "cell_type": "code",
   "execution_count": 21,
   "id": "c96cfebc-ed8f-4895-acf0-d3069987b9dd",
   "metadata": {},
   "outputs": [
    {
     "name": "stdout",
     "output_type": "stream",
     "text": [
      "'330 De Neve Dr Los Angeles, CA 90024': Input is a street address\n",
      "'40.7128, -74.0060': input is a latitude/longitude location\n",
      "'Brooklyn, New York': input is a city, state or neighborhood, city\n",
      "'90210': input is a zip code\n",
      "'192.168.1.1': input is an ip address\n",
      "'EU': input is a country or region code\n",
      "'NYC': input is a country or region code\n"
     ]
    }
   ],
   "source": [
    "test_inputs = [\n",
    "    \"330 De Neve Dr Los Angeles, CA 90024\", # street address\n",
    "    \"40.7128, -74.0060\",    # latitude/longitude\n",
    "    \"Brooklyn, New York\",   # city, state\n",
    "    \"90210\",                # zip code\n",
    "    \"192.168.1.1\",          # IP address\n",
    "    \"EU\",                   # region code\n",
    "    \"NYC\"                   # abbreviated city\n",
    "]\n",
    "\n",
    "for text in test_inputs:\n",
    "    print(f\"'{text}': {is_location(text)}\")"
   ]
  },
  {
   "cell_type": "code",
   "execution_count": null,
   "id": "ad19c401-9099-4501-ba80-844ac749947c",
   "metadata": {},
   "outputs": [],
   "source": []
  }
 ],
 "metadata": {
  "kernelspec": {
   "display_name": "Python 3 (ipykernel)",
   "language": "python",
   "name": "python3"
  },
  "language_info": {
   "codemirror_mode": {
    "name": "ipython",
    "version": 3
   },
   "file_extension": ".py",
   "mimetype": "text/x-python",
   "name": "python",
   "nbconvert_exporter": "python",
   "pygments_lexer": "ipython3",
   "version": "3.12.1"
  }
 },
 "nbformat": 4,
 "nbformat_minor": 5
}
